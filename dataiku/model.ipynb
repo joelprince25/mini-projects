{
 "cells": [
  {
   "cell_type": "code",
   "execution_count": 1,
   "metadata": {
    "collapsed": false
   },
   "outputs": [],
   "source": [
    "%matplotlib inline\n",
    "\n",
    "import re\n",
    "import numpy as np\n",
    "import scipy as sp\n",
    "import pandas as pd\n",
    "import matplotlib.pyplot as plt\n",
    "from IPython.core.pylabtools import figsize\n",
    "\n",
    "plt.style.use('ggplot')\n",
    "figsize(15,8)\n",
    "pd.set_option('display.max_columns', None)"
   ]
  },
  {
   "cell_type": "markdown",
   "metadata": {},
   "source": [
    "\n",
    "## 1. Importing Data "
   ]
  },
  {
   "cell_type": "code",
   "execution_count": 2,
   "metadata": {
    "collapsed": true
   },
   "outputs": [],
   "source": [
    "path = \"data/\""
   ]
  },
  {
   "cell_type": "markdown",
   "metadata": {},
   "source": [
    "### 1.1 Extracting columns names"
   ]
  },
  {
   "cell_type": "code",
   "execution_count": 3,
   "metadata": {
    "collapsed": true
   },
   "outputs": [],
   "source": [
    "with open(path+\"census_income_metadata.txt\") as f:\n",
    "    lines = f.readlines()\n",
    "cols = []\n",
    "for line in lines:\n",
    "    if (re.search(\"[A-Za-z1-9]+:\\s+[A-Za-z0-9]+\",line) and re.search(\"^((?!(Terran|terran|ignore|93.80%)).)*$\",line)):\n",
    "        name = line.split(\":\")[0].replace(\" \",\"_\")\n",
    "        cols.append(name)\n",
    "cols.append(\"target\")"
   ]
  },
  {
   "cell_type": "code",
   "execution_count": 4,
   "metadata": {
    "collapsed": false
   },
   "outputs": [
    {
     "data": {
      "text/plain": [
       "['| This data was extracted from the census bureau database found at\\n',\n",
       " '| http://www.census.gov/ftp/pub/DES/www/welcome.html\\n',\n",
       " '| Donor: Terran Lane and Ronny Kohavi\\n',\n",
       " '|        Data Mining and Visualization\\n',\n",
       " '|        Silicon Graphics.\\n',\n",
       " '|        e-mail: terran@ecn.purdue.edu, ronnyk@sgi.com for questions.\\n',\n",
       " '|\\n',\n",
       " '| The data was split into train/test in approximately 2/3, 1/3\\n',\n",
       " \"| proportions using MineSet's MIndUtil mineset-to-mlc.\\n\",\n",
       " '|\\n',\n",
       " '| Prediction task is to determine the income level for the person\\n',\n",
       " '| represented by the record.  Incomes have been binned at the $50K\\n',\n",
       " '| level to present a binary classification problem, much like the\\n',\n",
       " '| original UCI/ADULT database.  The goal field of this data, however,\\n',\n",
       " '| was drawn from the \"total person income\" field rather than the\\n',\n",
       " '| \"adjusted gross income\" and may, therefore, behave differently than the\\n',\n",
       " '| orginal ADULT goal field.\\n',\n",
       " '|\\n',\n",
       " '| More information detailing the meaning of the attributes can be\\n',\n",
       " '| found in http://www.bls.census.gov/cps/cpsmain.htm\\n',\n",
       " '| To make use of the data descriptions at this site, the following mappings\\n',\n",
       " \"| to the Census Bureau's internal database column names will be needed:\\n\",\n",
       " '|\\n',\n",
       " '| age\\t\\t\\t\\t\\t\\tAAGE\\n',\n",
       " '| class of worker\\t\\t\\t\\tACLSWKR\\n',\n",
       " '| industry code\\t\\t\\t\\t\\tADTIND\\n',\n",
       " '| occupation code\\t\\t\\t\\tADTOCC\\n',\n",
       " '| adjusted gross income\\t\\t\\t\\tAGI\\n',\n",
       " '| education\\t\\t\\t\\t\\tAHGA\\n',\n",
       " '| wage per hour\\t\\t\\t\\t\\tAHRSPAY\\n',\n",
       " '| enrolled in edu inst last wk\\t\\t\\tAHSCOL\\n',\n",
       " '| marital status\\t\\t\\t\\tAMARITL\\n',\n",
       " '| major industry code\\t\\t\\t\\tAMJIND\\n',\n",
       " '| major occupation code\\t\\t\\t\\tAMJOCC\\n',\n",
       " '| mace\\t\\t\\t\\t\\t\\tARACE\\n',\n",
       " '| hispanic Origin\\t\\t\\t\\tAREORGN\\n',\n",
       " '| sex\\t\\t\\t\\t\\t\\tASEX\\n',\n",
       " '| member of a labor union\\t\\t\\tAUNMEM\\n',\n",
       " '| reason for unemployment\\t\\t\\tAUNTYPE\\n',\n",
       " '| full or part time employment stat\\t\\tAWKSTAT\\n',\n",
       " '| capital gains\\t\\t\\t\\t\\tCAPGAIN\\n',\n",
       " '| capital losses\\t\\t\\t\\tCAPLOSS\\n',\n",
       " '| divdends from stocks\\t\\t\\t\\tDIVVAL\\n',\n",
       " '| federal income tax liability\\t\\t\\tFEDTAX\\n',\n",
       " '| tax filer status\\t\\t\\t\\tFILESTAT\\n',\n",
       " '| region of previous residence\\t\\t\\tGRINREG\\n',\n",
       " '| state of previous residence\\t\\t\\tGRINST\\n',\n",
       " '| detailed household and family stat\\t\\tHHDFMX\\n',\n",
       " '| detailed household summary in household\\tHHDREL\\n',\n",
       " '| instance weight\\t\\t\\t\\tMARSUPWT\\n',\n",
       " '| migration code-change in msa\\t\\t\\tMIGMTR1\\n',\n",
       " '| migration code-change in reg\\t\\t\\tMIGMTR3\\n',\n",
       " '| migration code-move within reg\\t\\tMIGMTR4\\n',\n",
       " '| live in this house 1 year ago\\t\\t\\tMIGSAME\\n',\n",
       " '| migration prev res in sunbelt\\t\\t\\tMIGSUN\\n',\n",
       " '| num persons worked for employer\\t\\tNOEMP\\n',\n",
       " '| family members under 18\\t\\t\\tPARENT\\n',\n",
       " '| total person earnings\\t\\t\\t\\tPEARNVAL\\n',\n",
       " '| country of birth father\\t\\t\\tPEFNTVTY\\n',\n",
       " '| country of birth mother\\t\\t\\tPEMNTVTY\\n',\n",
       " '| country of birth self\\t\\t\\t\\tPENATVTY\\n',\n",
       " '| citizenship\\t\\t\\t\\t\\tPRCITSHP\\n',\n",
       " '| total person income\\t\\t\\t\\tPTOTVAL\\n',\n",
       " '| own business or self employed\\t\\t\\tSEOTR\\n',\n",
       " '| taxable income amount\\t\\t\\t\\tTAXINC\\n',\n",
       " \"| fill inc questionnaire for veteran's admin\\tVETQVA\\n\",\n",
       " '| veterans benefits\\t\\t\\t\\tVETYN\\n',\n",
       " '| weeks worked in year\\t\\t\\t\\tWKSWORK\\n',\n",
       " '| \\n',\n",
       " '| Basic statistics for this data set:\\n',\n",
       " '|\\n',\n",
       " '| Number of instances data = 199523\\n',\n",
       " '|    Duplicate or conflicting instances : 46716\\n',\n",
       " '| Number of instances in test = 99762\\n',\n",
       " '|    Duplicate or conflicting instances : 20936\\n',\n",
       " '| Class probabilities for income-projected.test file\\n',\n",
       " \"| Probability for the label '- 50000' : 93.80%\\n\",\n",
       " \"| Probability for the label '50000+' : 6.20%\\n\",\n",
       " '| Majority accuracy: 93.80% on value - 50000\\n',\n",
       " '| Number of attributes = 40 (continuous : 7 nominal : 33)\\n',\n",
       " '| Information about .data file : \\n',\n",
       " '|   91 distinct values for attribute #0 (age) continuous\\n',\n",
       " '|    9 distinct values for attribute #1 (class of worker) nominal\\n',\n",
       " '|   52 distinct values for attribute #2 (detailed industry recode) nominal\\n',\n",
       " '|   47 distinct values for attribute #3 (detailed occupation recode) nominal\\n',\n",
       " '|   17 distinct values for attribute #4 (education) nominal\\n',\n",
       " '| 1240 distinct values for attribute #5 (wage per hour) continuous\\n',\n",
       " '|    3 distinct values for attribute #6 (enroll in edu inst last wk) nominal\\n',\n",
       " '|    7 distinct values for attribute #7 (marital stat) nominal\\n',\n",
       " '|   24 distinct values for attribute #8 (major industry code) nominal\\n',\n",
       " '|   15 distinct values for attribute #9 (major occupation code) nominal\\n',\n",
       " '|    5 distinct values for attribute #10 (race) nominal\\n',\n",
       " '|   10 distinct values for attribute #11 (hispanic origin) nominal\\n',\n",
       " '|    2 distinct values for attribute #12 (sex) nominal\\n',\n",
       " '|    3 distinct values for attribute #13 (member of a labor union) nominal\\n',\n",
       " '|    6 distinct values for attribute #14 (reason for unemployment) nominal\\n',\n",
       " '|    8 distinct values for attribute #15 (full or part time employment stat) nominal\\n',\n",
       " '|  132 distinct values for attribute #16 (capital gains) continuous\\n',\n",
       " '|  113 distinct values for attribute #17 (capital losses) continuous\\n',\n",
       " '| 1478 distinct values for attribute #18 (dividends from stocks) continuous\\n',\n",
       " '|    6 distinct values for attribute #19 (tax filer stat) nominal\\n',\n",
       " '|    6 distinct values for attribute #20 (region of previous residence) nominal\\n',\n",
       " '|   51 distinct values for attribute #21 (state of previous residence) nominal\\n',\n",
       " '|   38 distinct values for attribute #22 (detailed household and family stat) nominal\\n',\n",
       " '|    8 distinct values for attribute #23 (detailed household summary in household) nominal\\n',\n",
       " '|   10 distinct values for attribute #24 (migration code-change in msa) nominal\\n',\n",
       " '|    9 distinct values for attribute #25 (migration code-change in reg) nominal\\n',\n",
       " '|   10 distinct values for attribute #26 (migration code-move within reg) nominal\\n',\n",
       " '|    3 distinct values for attribute #27 (live in this house 1 year ago) nominal\\n',\n",
       " '|    4 distinct values for attribute #28 (migration prev res in sunbelt) nominal\\n',\n",
       " '|    7 distinct values for attribute #29 (num persons worked for employer) continuous\\n',\n",
       " '|    5 distinct values for attribute #30 (family members under 18) nominal\\n',\n",
       " '|   43 distinct values for attribute #31 (country of birth father) nominal\\n',\n",
       " '|   43 distinct values for attribute #32 (country of birth mother) nominal\\n',\n",
       " '|   43 distinct values for attribute #33 (country of birth self) nominal\\n',\n",
       " '|    5 distinct values for attribute #34 (citizenship) nominal\\n',\n",
       " '|    3 distinct values for attribute #35 (own business or self employed) nominal\\n',\n",
       " \"|    3 distinct values for attribute #36 (fill inc questionnaire for veteran's admin) nominal\\n\",\n",
       " '|    3 distinct values for attribute #37 (veterans benefits) nominal\\n',\n",
       " '|   53 distinct values for attribute #38 (weeks worked in year) continuous\\n',\n",
       " '|    2 distinct values for attribute #39 (year) nominal\\n',\n",
       " '| \\n',\n",
       " '|\\n',\n",
       " '| Error rates:\\n',\n",
       " '|    C4.5       \\t: 4.8%\\n',\n",
       " '|    C5.0\\t\\t: 4.7%\\n',\n",
       " '|    C5.0 rules\\t\\t: 4.7%\\n',\n",
       " '|    C5.0 boosting\\t: 4.6%\\n',\n",
       " '|    Naive-Bayes\\t: 23.2%\\n',\n",
       " '|\\n',\n",
       " '| \\n',\n",
       " '| All commas and periods were changed to spaces\\n',\n",
       " '| Colons were replaced with dashes.\\n',\n",
       " '|\\n',\n",
       " '| The instance weight indicates the number of people in the population\\n',\n",
       " '| that each record represents due to stratified sampling.\\n',\n",
       " '| To do real analysis and derive conclusions, this field must be used.\\n',\n",
       " '| This attribute should *not* be used in the classifiers, so it is\\n',\n",
       " '| set to \"ignore\" in this file.\\n',\n",
       " '|\\n',\n",
       " '- 50000, 50000+.\\n',\n",
       " '\\n',\n",
       " 'age: continuous.\\n',\n",
       " 'class of worker: Not in universe, Federal government, Local government, Never worked, Private, Self-employed-incorporated, Self-employed-not incorporated, State government, Without pay.\\n',\n",
       " 'detailed industry recode: 0, 40, 44, 2, 43, 47, 48, 1, 11, 19, 24, 25, 32, 33, 34, 35, 36, 37, 38, 39, 4, 42, 45, 5, 15, 16, 22, 29, 31, 50, 14, 17, 18, 28, 3, 30, 41, 46, 51, 12, 13, 21, 23, 26, 6, 7, 9, 49, 27, 8, 10, 20.\\n',\n",
       " 'detailed occupation recode: 0, 12, 31, 44, 19, 32, 10, 23, 26, 28, 29, 42, 40, 34, 14, 36, 38, 2, 20, 25, 37, 41, 27, 24, 30, 43, 33, 16, 45, 17, 35, 22, 18, 39, 3, 15, 13, 46, 8, 21, 9, 4, 6, 5, 1, 11, 7.\\n',\n",
       " 'education: Children, 7th and 8th grade, 9th grade, 10th grade, High school graduate, 11th grade, 12th grade no diploma, 5th or 6th grade, Less than 1st grade, Bachelors degree(BA AB BS), 1st 2nd 3rd or 4th grade, Some college but no degree, Masters degree(MA MS MEng MEd MSW MBA), Associates degree-occup /vocational, Associates degree-academic program, Doctorate degree(PhD EdD), Prof school degree (MD DDS DVM LLB JD).\\n',\n",
       " 'wage per hour: continuous.\\n',\n",
       " 'enroll in edu inst last wk: Not in universe, High school, College or university.\\n',\n",
       " 'marital stat: Never married, Married-civilian spouse present, Married-spouse absent, Separated, Divorced, Widowed, Married-A F spouse present.\\n',\n",
       " 'major industry code: Not in universe or children, Entertainment, Social services, Agriculture, Education, Public administration, Manufacturing-durable goods, Manufacturing-nondurable goods, Wholesale trade, Retail trade, Finance insurance and real estate, Private household services, Business and repair services, Personal services except private HH, Construction, Medical except hospital, Other professional services, Transportation, Utilities and sanitary services, Mining, Communications, Hospital services, Forestry and fisheries, Armed Forces.\\n',\n",
       " 'major occupation code: Not in universe, Professional specialty, Other service, Farming forestry and fishing, Sales, Adm support including clerical, Protective services, Handlers equip cleaners etc , Precision production craft & repair, Technicians and related support, Machine operators assmblrs & inspctrs, Transportation and material moving, Executive admin and managerial, Private household services, Armed Forces.\\n',\n",
       " 'race: White, Black, Other, Amer Indian Aleut or Eskimo, Asian or Pacific Islander.\\n',\n",
       " 'hispanic origin: Mexican (Mexicano), Mexican-American, Puerto Rican, Central or South American, All other, Other Spanish, Chicano, Cuban, Do not know, NA.\\n',\n",
       " 'sex: Female, Male.\\n',\n",
       " 'member of a labor union: Not in universe, No, Yes.\\n',\n",
       " 'reason for unemployment: Not in universe, Re-entrant, Job loser - on layoff, New entrant, Job leaver, Other job loser.\\n',\n",
       " 'full or part time employment stat: Children or Armed Forces, Full-time schedules, Unemployed part- time, Not in labor force, Unemployed full-time, PT for non-econ reasons usually FT, PT for econ reasons usually PT, PT for econ reasons usually FT.\\n',\n",
       " 'capital gains: continuous.\\n',\n",
       " 'capital losses: continuous.\\n',\n",
       " 'dividends from stocks: continuous.\\n',\n",
       " 'tax filer stat: Nonfiler, Joint one under 65 & one 65+, Joint both under 65, Single, Head of household, Joint both 65+.\\n',\n",
       " 'region of previous residence: Not in universe, South, Northeast, West, Midwest, Abroad.\\n',\n",
       " 'state of previous residence: Not in universe, Utah, Michigan, North Carolina, North Dakota, Virginia, Vermont, Wyoming, West Virginia, Pennsylvania, Abroad, Oregon, California, Iowa, Florida, Arkansas, Texas, South Carolina, Arizona, Indiana, Tennessee, Maine, Alaska, Ohio, Montana, Nebraska, Mississippi, District of Columbia, Minnesota, Illinois, Kentucky, Delaware, Colorado, Maryland, Wisconsin, New Hampshire, Nevada, New York, Georgia, Oklahoma, New Mexico, South Dakota, Missouri, Kansas, Connecticut, Louisiana, Alabama, Massachusetts, Idaho, New Jersey.\\n',\n",
       " 'detailed household and family stat: Child <18 never marr not in subfamily, Other Rel <18 never marr child of subfamily RP, Other Rel <18 never marr not in subfamily, Grandchild <18 never marr child of subfamily RP, Grandchild <18 never marr not in subfamily, Secondary individual, In group quarters, Child under 18 of RP of unrel subfamily, RP of unrelated subfamily, Spouse of householder, Householder, Other Rel <18 never married RP of subfamily, Grandchild <18 never marr RP of subfamily, Child <18 never marr RP of subfamily, Child <18 ever marr not in subfamily, Other Rel <18 ever marr RP of subfamily, Child <18 ever marr RP of subfamily, Nonfamily householder, Child <18 spouse of subfamily RP, Other Rel <18 spouse of subfamily RP, Other Rel <18 ever marr not in subfamily, Grandchild <18 ever marr not in subfamily, Child 18+ never marr Not in a subfamily, Grandchild 18+ never marr not in subfamily, Child 18+ ever marr RP of subfamily, Other Rel 18+ never marr not in subfamily, Child 18+ never marr RP of subfamily, Other Rel 18+ ever marr RP of subfamily, Other Rel 18+ never marr RP of subfamily, Other Rel 18+ spouse of subfamily RP, Other Rel 18+ ever marr not in subfamily, Child 18+ ever marr Not in a subfamily, Grandchild 18+ ever marr not in subfamily, Child 18+ spouse of subfamily RP, Spouse of RP of unrelated subfamily, Grandchild 18+ ever marr RP of subfamily, Grandchild 18+ never marr RP of subfamily, Grandchild 18+ spouse of subfamily RP.\\n',\n",
       " 'detailed household summary in household: Child under 18 never married, Other relative of householder, Nonrelative of householder, Spouse of householder, Householder, Child under 18 ever married, Group Quarters- Secondary individual, Child 18 or older.\\n',\n",
       " '| instance weight: ignore.\\n',\n",
       " 'instance weight: continuous.\\n',\n",
       " 'migration code-change in msa: Not in universe, Nonmover, MSA to MSA, NonMSA to nonMSA, MSA to nonMSA, NonMSA to MSA, Abroad to MSA, Not identifiable, Abroad to nonMSA.\\n',\n",
       " 'migration code-change in reg: Not in universe, Nonmover, Same county, Different county same state, Different state same division, Abroad, Different region, Different division same region.\\n',\n",
       " 'migration code-move within reg: Not in universe, Nonmover, Same county, Different county same state, Different state in West, Abroad, Different state in Midwest, Different state in South, Different state in Northeast.\\n',\n",
       " 'live in this house 1 year ago: Not in universe under 1 year old, Yes, No.\\n',\n",
       " 'migration prev res in sunbelt: Not in universe, Yes, No.\\n',\n",
       " 'num persons worked for employer: continuous.\\n',\n",
       " 'family members under 18: Both parents present, Neither parent present, Mother only present, Father only present, Not in universe.\\n',\n",
       " 'country of birth father: Mexico, United-States, Puerto-Rico, Dominican-Republic, Jamaica, Cuba, Portugal, Nicaragua, Peru, Ecuador, Guatemala, Philippines, Canada, Columbia, El-Salvador, Japan, England, Trinadad&Tobago, Honduras, Germany, Taiwan, Outlying-U S (Guam USVI etc), India, Vietnam, China, Hong Kong, Cambodia, France, Laos, Haiti, South Korea, Iran, Greece, Italy, Poland, Thailand, Yugoslavia, Holand-Netherlands, Ireland, Scotland, Hungary, Panama.\\n',\n",
       " 'country of birth mother: India, Mexico, United-States, Puerto-Rico, Dominican-Republic, England, Honduras, Peru, Guatemala, Columbia, El-Salvador, Philippines, France, Ecuador, Nicaragua, Cuba, Outlying-U S (Guam USVI etc), Jamaica, South Korea, China, Germany, Yugoslavia, Canada, Vietnam, Japan, Cambodia, Ireland, Laos, Haiti, Portugal, Taiwan, Holand-Netherlands, Greece, Italy, Poland, Thailand, Trinadad&Tobago, Hungary, Panama, Hong Kong, Scotland, Iran.\\n',\n",
       " 'country of birth self: United-States, Mexico, Puerto-Rico, Peru, Canada, South Korea, India, Japan, Haiti, El-Salvador, Dominican-Republic, Portugal, Columbia, England, Thailand, Cuba, Laos, Panama, China, Germany, Vietnam, Italy, Honduras, Outlying-U S (Guam USVI etc), Hungary, Philippines, Poland, Ecuador, Iran, Guatemala, Holand-Netherlands, Taiwan, Nicaragua, France, Jamaica, Scotland, Yugoslavia, Hong Kong, Trinadad&Tobago, Greece, Cambodia, Ireland.\\n',\n",
       " 'citizenship: Native- Born in the United States, Foreign born- Not a citizen of U S , Native- Born in Puerto Rico or U S Outlying, Native- Born abroad of American Parent(s), Foreign born- U S citizen by naturalization.\\n',\n",
       " 'own business or self employed: 0, 2, 1.\\n',\n",
       " \"fill inc questionnaire for veteran's admin: Not in universe, Yes, No.\\n\",\n",
       " 'veterans benefits: 0, 2, 1.\\n',\n",
       " 'weeks worked in year: continuous.\\n',\n",
       " 'year: 94, 95.\\n']"
      ]
     },
     "execution_count": 4,
     "metadata": {},
     "output_type": "execute_result"
    }
   ],
   "source": [
    "lines"
   ]
  },
  {
   "cell_type": "markdown",
   "metadata": {},
   "source": [
    "### 1.2 Reading train & test data and checking duplicates"
   ]
  },
  {
   "cell_type": "code",
   "execution_count": 5,
   "metadata": {
    "collapsed": false
   },
   "outputs": [
    {
     "name": "stdout",
     "output_type": "stream",
     "text": [
      "(199523, 42) (99762, 41)\n",
      "(196294, 42) (98446, 41)\n"
     ]
    }
   ],
   "source": [
    "train = pd.read_csv(path+\"census_income_learn.csv\", names = cols, header = None)\n",
    "test = pd.read_csv(path+\"census_income_test.csv\", names = cols[1:], header = None)\n",
    "print train.shape, test.shape\n",
    "train.drop_duplicates(inplace = True)\n",
    "test.drop_duplicates(inplace = True)\n",
    "print train.shape, test.shape"
   ]
  },
  {
   "cell_type": "code",
   "execution_count": 6,
   "metadata": {
    "collapsed": false,
    "scrolled": true
   },
   "outputs": [
    {
     "data": {
      "text/html": [
       "<div>\n",
       "<table border=\"1\" class=\"dataframe\">\n",
       "  <thead>\n",
       "    <tr style=\"text-align: right;\">\n",
       "      <th></th>\n",
       "      <th>age</th>\n",
       "      <th>class_of_worker</th>\n",
       "      <th>detailed_industry_recode</th>\n",
       "      <th>detailed_occupation_recode</th>\n",
       "      <th>education</th>\n",
       "      <th>wage_per_hour</th>\n",
       "      <th>enroll_in_edu_inst_last_wk</th>\n",
       "      <th>marital_stat</th>\n",
       "      <th>major_industry_code</th>\n",
       "      <th>major_occupation_code</th>\n",
       "      <th>race</th>\n",
       "      <th>hispanic_origin</th>\n",
       "      <th>sex</th>\n",
       "      <th>member_of_a_labor_union</th>\n",
       "      <th>reason_for_unemployment</th>\n",
       "      <th>full_or_part_time_employment_stat</th>\n",
       "      <th>capital_gains</th>\n",
       "      <th>capital_losses</th>\n",
       "      <th>dividends_from_stocks</th>\n",
       "      <th>tax_filer_stat</th>\n",
       "      <th>region_of_previous_residence</th>\n",
       "      <th>state_of_previous_residence</th>\n",
       "      <th>detailed_household_and_family_stat</th>\n",
       "      <th>detailed_household_summary_in_household</th>\n",
       "      <th>instance_weight</th>\n",
       "      <th>migration_code-change_in_msa</th>\n",
       "      <th>migration_code-change_in_reg</th>\n",
       "      <th>migration_code-move_within_reg</th>\n",
       "      <th>live_in_this_house_1_year_ago</th>\n",
       "      <th>migration_prev_res_in_sunbelt</th>\n",
       "      <th>num_persons_worked_for_employer</th>\n",
       "      <th>family_members_under_18</th>\n",
       "      <th>country_of_birth_father</th>\n",
       "      <th>country_of_birth_mother</th>\n",
       "      <th>country_of_birth_self</th>\n",
       "      <th>citizenship</th>\n",
       "      <th>own_business_or_self_employed</th>\n",
       "      <th>fill_inc_questionnaire_for_veteran's_admin</th>\n",
       "      <th>veterans_benefits</th>\n",
       "      <th>weeks_worked_in_year</th>\n",
       "      <th>year</th>\n",
       "      <th>target</th>\n",
       "    </tr>\n",
       "  </thead>\n",
       "  <tbody>\n",
       "    <tr>\n",
       "      <th>0</th>\n",
       "      <td>73</td>\n",
       "      <td>Not in universe</td>\n",
       "      <td>0</td>\n",
       "      <td>0</td>\n",
       "      <td>High school graduate</td>\n",
       "      <td>0</td>\n",
       "      <td>Not in universe</td>\n",
       "      <td>Widowed</td>\n",
       "      <td>Not in universe or children</td>\n",
       "      <td>Not in universe</td>\n",
       "      <td>White</td>\n",
       "      <td>All other</td>\n",
       "      <td>Female</td>\n",
       "      <td>Not in universe</td>\n",
       "      <td>Not in universe</td>\n",
       "      <td>Not in labor force</td>\n",
       "      <td>0</td>\n",
       "      <td>0</td>\n",
       "      <td>0</td>\n",
       "      <td>Nonfiler</td>\n",
       "      <td>Not in universe</td>\n",
       "      <td>Not in universe</td>\n",
       "      <td>Other Rel 18+ ever marr not in subfamily</td>\n",
       "      <td>Other relative of householder</td>\n",
       "      <td>1700.09</td>\n",
       "      <td>?</td>\n",
       "      <td>?</td>\n",
       "      <td>?</td>\n",
       "      <td>Not in universe under 1 year old</td>\n",
       "      <td>?</td>\n",
       "      <td>0</td>\n",
       "      <td>Not in universe</td>\n",
       "      <td>United-States</td>\n",
       "      <td>United-States</td>\n",
       "      <td>United-States</td>\n",
       "      <td>Native- Born in the United States</td>\n",
       "      <td>0</td>\n",
       "      <td>Not in universe</td>\n",
       "      <td>2</td>\n",
       "      <td>0</td>\n",
       "      <td>95</td>\n",
       "      <td>- 50000.</td>\n",
       "    </tr>\n",
       "    <tr>\n",
       "      <th>1</th>\n",
       "      <td>58</td>\n",
       "      <td>Self-employed-not incorporated</td>\n",
       "      <td>4</td>\n",
       "      <td>34</td>\n",
       "      <td>Some college but no degree</td>\n",
       "      <td>0</td>\n",
       "      <td>Not in universe</td>\n",
       "      <td>Divorced</td>\n",
       "      <td>Construction</td>\n",
       "      <td>Precision production craft &amp; repair</td>\n",
       "      <td>White</td>\n",
       "      <td>All other</td>\n",
       "      <td>Male</td>\n",
       "      <td>Not in universe</td>\n",
       "      <td>Not in universe</td>\n",
       "      <td>Children or Armed Forces</td>\n",
       "      <td>0</td>\n",
       "      <td>0</td>\n",
       "      <td>0</td>\n",
       "      <td>Head of household</td>\n",
       "      <td>South</td>\n",
       "      <td>Arkansas</td>\n",
       "      <td>Householder</td>\n",
       "      <td>Householder</td>\n",
       "      <td>1053.55</td>\n",
       "      <td>MSA to MSA</td>\n",
       "      <td>Same county</td>\n",
       "      <td>Same county</td>\n",
       "      <td>No</td>\n",
       "      <td>Yes</td>\n",
       "      <td>1</td>\n",
       "      <td>Not in universe</td>\n",
       "      <td>United-States</td>\n",
       "      <td>United-States</td>\n",
       "      <td>United-States</td>\n",
       "      <td>Native- Born in the United States</td>\n",
       "      <td>0</td>\n",
       "      <td>Not in universe</td>\n",
       "      <td>2</td>\n",
       "      <td>52</td>\n",
       "      <td>94</td>\n",
       "      <td>- 50000.</td>\n",
       "    </tr>\n",
       "    <tr>\n",
       "      <th>2</th>\n",
       "      <td>18</td>\n",
       "      <td>Not in universe</td>\n",
       "      <td>0</td>\n",
       "      <td>0</td>\n",
       "      <td>10th grade</td>\n",
       "      <td>0</td>\n",
       "      <td>High school</td>\n",
       "      <td>Never married</td>\n",
       "      <td>Not in universe or children</td>\n",
       "      <td>Not in universe</td>\n",
       "      <td>Asian or Pacific Islander</td>\n",
       "      <td>All other</td>\n",
       "      <td>Female</td>\n",
       "      <td>Not in universe</td>\n",
       "      <td>Not in universe</td>\n",
       "      <td>Not in labor force</td>\n",
       "      <td>0</td>\n",
       "      <td>0</td>\n",
       "      <td>0</td>\n",
       "      <td>Nonfiler</td>\n",
       "      <td>Not in universe</td>\n",
       "      <td>Not in universe</td>\n",
       "      <td>Child 18+ never marr Not in a subfamily</td>\n",
       "      <td>Child 18 or older</td>\n",
       "      <td>991.95</td>\n",
       "      <td>?</td>\n",
       "      <td>?</td>\n",
       "      <td>?</td>\n",
       "      <td>Not in universe under 1 year old</td>\n",
       "      <td>?</td>\n",
       "      <td>0</td>\n",
       "      <td>Not in universe</td>\n",
       "      <td>Vietnam</td>\n",
       "      <td>Vietnam</td>\n",
       "      <td>Vietnam</td>\n",
       "      <td>Foreign born- Not a citizen of U S</td>\n",
       "      <td>0</td>\n",
       "      <td>Not in universe</td>\n",
       "      <td>2</td>\n",
       "      <td>0</td>\n",
       "      <td>95</td>\n",
       "      <td>- 50000.</td>\n",
       "    </tr>\n",
       "    <tr>\n",
       "      <th>3</th>\n",
       "      <td>9</td>\n",
       "      <td>Not in universe</td>\n",
       "      <td>0</td>\n",
       "      <td>0</td>\n",
       "      <td>Children</td>\n",
       "      <td>0</td>\n",
       "      <td>Not in universe</td>\n",
       "      <td>Never married</td>\n",
       "      <td>Not in universe or children</td>\n",
       "      <td>Not in universe</td>\n",
       "      <td>White</td>\n",
       "      <td>All other</td>\n",
       "      <td>Female</td>\n",
       "      <td>Not in universe</td>\n",
       "      <td>Not in universe</td>\n",
       "      <td>Children or Armed Forces</td>\n",
       "      <td>0</td>\n",
       "      <td>0</td>\n",
       "      <td>0</td>\n",
       "      <td>Nonfiler</td>\n",
       "      <td>Not in universe</td>\n",
       "      <td>Not in universe</td>\n",
       "      <td>Child &lt;18 never marr not in subfamily</td>\n",
       "      <td>Child under 18 never married</td>\n",
       "      <td>1758.14</td>\n",
       "      <td>Nonmover</td>\n",
       "      <td>Nonmover</td>\n",
       "      <td>Nonmover</td>\n",
       "      <td>Yes</td>\n",
       "      <td>Not in universe</td>\n",
       "      <td>0</td>\n",
       "      <td>Both parents present</td>\n",
       "      <td>United-States</td>\n",
       "      <td>United-States</td>\n",
       "      <td>United-States</td>\n",
       "      <td>Native- Born in the United States</td>\n",
       "      <td>0</td>\n",
       "      <td>Not in universe</td>\n",
       "      <td>0</td>\n",
       "      <td>0</td>\n",
       "      <td>94</td>\n",
       "      <td>- 50000.</td>\n",
       "    </tr>\n",
       "    <tr>\n",
       "      <th>4</th>\n",
       "      <td>10</td>\n",
       "      <td>Not in universe</td>\n",
       "      <td>0</td>\n",
       "      <td>0</td>\n",
       "      <td>Children</td>\n",
       "      <td>0</td>\n",
       "      <td>Not in universe</td>\n",
       "      <td>Never married</td>\n",
       "      <td>Not in universe or children</td>\n",
       "      <td>Not in universe</td>\n",
       "      <td>White</td>\n",
       "      <td>All other</td>\n",
       "      <td>Female</td>\n",
       "      <td>Not in universe</td>\n",
       "      <td>Not in universe</td>\n",
       "      <td>Children or Armed Forces</td>\n",
       "      <td>0</td>\n",
       "      <td>0</td>\n",
       "      <td>0</td>\n",
       "      <td>Nonfiler</td>\n",
       "      <td>Not in universe</td>\n",
       "      <td>Not in universe</td>\n",
       "      <td>Child &lt;18 never marr not in subfamily</td>\n",
       "      <td>Child under 18 never married</td>\n",
       "      <td>1069.16</td>\n",
       "      <td>Nonmover</td>\n",
       "      <td>Nonmover</td>\n",
       "      <td>Nonmover</td>\n",
       "      <td>Yes</td>\n",
       "      <td>Not in universe</td>\n",
       "      <td>0</td>\n",
       "      <td>Both parents present</td>\n",
       "      <td>United-States</td>\n",
       "      <td>United-States</td>\n",
       "      <td>United-States</td>\n",
       "      <td>Native- Born in the United States</td>\n",
       "      <td>0</td>\n",
       "      <td>Not in universe</td>\n",
       "      <td>0</td>\n",
       "      <td>0</td>\n",
       "      <td>94</td>\n",
       "      <td>- 50000.</td>\n",
       "    </tr>\n",
       "  </tbody>\n",
       "</table>\n",
       "</div>"
      ],
      "text/plain": [
       "   age                  class_of_worker  detailed_industry_recode  \\\n",
       "0   73                  Not in universe                         0   \n",
       "1   58   Self-employed-not incorporated                         4   \n",
       "2   18                  Not in universe                         0   \n",
       "3    9                  Not in universe                         0   \n",
       "4   10                  Not in universe                         0   \n",
       "\n",
       "   detailed_occupation_recode                    education  wage_per_hour  \\\n",
       "0                           0         High school graduate              0   \n",
       "1                          34   Some college but no degree              0   \n",
       "2                           0                   10th grade              0   \n",
       "3                           0                     Children              0   \n",
       "4                           0                     Children              0   \n",
       "\n",
       "  enroll_in_edu_inst_last_wk    marital_stat           major_industry_code  \\\n",
       "0            Not in universe         Widowed   Not in universe or children   \n",
       "1            Not in universe        Divorced                  Construction   \n",
       "2                High school   Never married   Not in universe or children   \n",
       "3            Not in universe   Never married   Not in universe or children   \n",
       "4            Not in universe   Never married   Not in universe or children   \n",
       "\n",
       "                  major_occupation_code                        race  \\\n",
       "0                       Not in universe                       White   \n",
       "1   Precision production craft & repair                       White   \n",
       "2                       Not in universe   Asian or Pacific Islander   \n",
       "3                       Not in universe                       White   \n",
       "4                       Not in universe                       White   \n",
       "\n",
       "  hispanic_origin      sex member_of_a_labor_union reason_for_unemployment  \\\n",
       "0       All other   Female         Not in universe         Not in universe   \n",
       "1       All other     Male         Not in universe         Not in universe   \n",
       "2       All other   Female         Not in universe         Not in universe   \n",
       "3       All other   Female         Not in universe         Not in universe   \n",
       "4       All other   Female         Not in universe         Not in universe   \n",
       "\n",
       "  full_or_part_time_employment_stat  capital_gains  capital_losses  \\\n",
       "0                Not in labor force              0               0   \n",
       "1          Children or Armed Forces              0               0   \n",
       "2                Not in labor force              0               0   \n",
       "3          Children or Armed Forces              0               0   \n",
       "4          Children or Armed Forces              0               0   \n",
       "\n",
       "   dividends_from_stocks      tax_filer_stat region_of_previous_residence  \\\n",
       "0                      0            Nonfiler              Not in universe   \n",
       "1                      0   Head of household                        South   \n",
       "2                      0            Nonfiler              Not in universe   \n",
       "3                      0            Nonfiler              Not in universe   \n",
       "4                      0            Nonfiler              Not in universe   \n",
       "\n",
       "  state_of_previous_residence         detailed_household_and_family_stat  \\\n",
       "0             Not in universe   Other Rel 18+ ever marr not in subfamily   \n",
       "1                    Arkansas                                Householder   \n",
       "2             Not in universe    Child 18+ never marr Not in a subfamily   \n",
       "3             Not in universe      Child <18 never marr not in subfamily   \n",
       "4             Not in universe      Child <18 never marr not in subfamily   \n",
       "\n",
       "  detailed_household_summary_in_household  instance_weight  \\\n",
       "0           Other relative of householder          1700.09   \n",
       "1                             Householder          1053.55   \n",
       "2                       Child 18 or older           991.95   \n",
       "3            Child under 18 never married          1758.14   \n",
       "4            Child under 18 never married          1069.16   \n",
       "\n",
       "  migration_code-change_in_msa migration_code-change_in_reg  \\\n",
       "0                            ?                            ?   \n",
       "1                   MSA to MSA                  Same county   \n",
       "2                            ?                            ?   \n",
       "3                     Nonmover                     Nonmover   \n",
       "4                     Nonmover                     Nonmover   \n",
       "\n",
       "  migration_code-move_within_reg      live_in_this_house_1_year_ago  \\\n",
       "0                              ?   Not in universe under 1 year old   \n",
       "1                    Same county                                 No   \n",
       "2                              ?   Not in universe under 1 year old   \n",
       "3                       Nonmover                                Yes   \n",
       "4                       Nonmover                                Yes   \n",
       "\n",
       "  migration_prev_res_in_sunbelt  num_persons_worked_for_employer  \\\n",
       "0                             ?                                0   \n",
       "1                           Yes                                1   \n",
       "2                             ?                                0   \n",
       "3               Not in universe                                0   \n",
       "4               Not in universe                                0   \n",
       "\n",
       "  family_members_under_18 country_of_birth_father country_of_birth_mother  \\\n",
       "0         Not in universe           United-States           United-States   \n",
       "1         Not in universe           United-States           United-States   \n",
       "2         Not in universe                 Vietnam                 Vietnam   \n",
       "3    Both parents present           United-States           United-States   \n",
       "4    Both parents present           United-States           United-States   \n",
       "\n",
       "  country_of_birth_self                           citizenship  \\\n",
       "0         United-States     Native- Born in the United States   \n",
       "1         United-States     Native- Born in the United States   \n",
       "2               Vietnam   Foreign born- Not a citizen of U S    \n",
       "3         United-States     Native- Born in the United States   \n",
       "4         United-States     Native- Born in the United States   \n",
       "\n",
       "   own_business_or_self_employed fill_inc_questionnaire_for_veteran's_admin  \\\n",
       "0                              0                            Not in universe   \n",
       "1                              0                            Not in universe   \n",
       "2                              0                            Not in universe   \n",
       "3                              0                            Not in universe   \n",
       "4                              0                            Not in universe   \n",
       "\n",
       "   veterans_benefits  weeks_worked_in_year  year     target  \n",
       "0                  2                     0    95   - 50000.  \n",
       "1                  2                    52    94   - 50000.  \n",
       "2                  2                     0    95   - 50000.  \n",
       "3                  0                     0    94   - 50000.  \n",
       "4                  0                     0    94   - 50000.  "
      ]
     },
     "execution_count": 6,
     "metadata": {},
     "output_type": "execute_result"
    }
   ],
   "source": [
    "train.head()"
   ]
  },
  {
   "cell_type": "code",
   "execution_count": 8,
   "metadata": {
    "collapsed": false
   },
   "outputs": [
    {
     "data": {
      "text/html": [
       "<div>\n",
       "<table border=\"1\" class=\"dataframe\">\n",
       "  <thead>\n",
       "    <tr style=\"text-align: right;\">\n",
       "      <th></th>\n",
       "      <th>class_of_worker</th>\n",
       "      <th>detailed_industry_recode</th>\n",
       "      <th>detailed_occupation_recode</th>\n",
       "      <th>education</th>\n",
       "      <th>wage_per_hour</th>\n",
       "      <th>enroll_in_edu_inst_last_wk</th>\n",
       "      <th>marital_stat</th>\n",
       "      <th>major_industry_code</th>\n",
       "      <th>major_occupation_code</th>\n",
       "      <th>race</th>\n",
       "      <th>hispanic_origin</th>\n",
       "      <th>sex</th>\n",
       "      <th>member_of_a_labor_union</th>\n",
       "      <th>reason_for_unemployment</th>\n",
       "      <th>full_or_part_time_employment_stat</th>\n",
       "      <th>capital_gains</th>\n",
       "      <th>capital_losses</th>\n",
       "      <th>dividends_from_stocks</th>\n",
       "      <th>tax_filer_stat</th>\n",
       "      <th>region_of_previous_residence</th>\n",
       "      <th>state_of_previous_residence</th>\n",
       "      <th>detailed_household_and_family_stat</th>\n",
       "      <th>detailed_household_summary_in_household</th>\n",
       "      <th>instance_weight</th>\n",
       "      <th>migration_code-change_in_msa</th>\n",
       "      <th>migration_code-change_in_reg</th>\n",
       "      <th>migration_code-move_within_reg</th>\n",
       "      <th>live_in_this_house_1_year_ago</th>\n",
       "      <th>migration_prev_res_in_sunbelt</th>\n",
       "      <th>num_persons_worked_for_employer</th>\n",
       "      <th>family_members_under_18</th>\n",
       "      <th>country_of_birth_father</th>\n",
       "      <th>country_of_birth_mother</th>\n",
       "      <th>country_of_birth_self</th>\n",
       "      <th>citizenship</th>\n",
       "      <th>own_business_or_self_employed</th>\n",
       "      <th>fill_inc_questionnaire_for_veteran's_admin</th>\n",
       "      <th>veterans_benefits</th>\n",
       "      <th>weeks_worked_in_year</th>\n",
       "      <th>year</th>\n",
       "      <th>target</th>\n",
       "    </tr>\n",
       "  </thead>\n",
       "  <tbody>\n",
       "    <tr>\n",
       "      <th>38</th>\n",
       "      <td>Private</td>\n",
       "      <td>6</td>\n",
       "      <td>36</td>\n",
       "      <td>1st 2nd 3rd or 4th grade</td>\n",
       "      <td>0</td>\n",
       "      <td>Not in universe</td>\n",
       "      <td>Married-civilian spouse present</td>\n",
       "      <td>Manufacturing-durable goods</td>\n",
       "      <td>Machine operators assmblrs &amp; inspctrs</td>\n",
       "      <td>White</td>\n",
       "      <td>Mexican (Mexicano)</td>\n",
       "      <td>Female</td>\n",
       "      <td>Not in universe</td>\n",
       "      <td>Not in universe</td>\n",
       "      <td>Full-time schedules</td>\n",
       "      <td>0</td>\n",
       "      <td>0</td>\n",
       "      <td>0</td>\n",
       "      <td>Joint one under 65 &amp; one 65+</td>\n",
       "      <td>Not in universe</td>\n",
       "      <td>Not in universe</td>\n",
       "      <td>Spouse of householder</td>\n",
       "      <td>Spouse of householder</td>\n",
       "      <td>1032.38</td>\n",
       "      <td>?</td>\n",
       "      <td>?</td>\n",
       "      <td>?</td>\n",
       "      <td>Not in universe under 1 year old</td>\n",
       "      <td>?</td>\n",
       "      <td>4</td>\n",
       "      <td>Not in universe</td>\n",
       "      <td>Mexico</td>\n",
       "      <td>Mexico</td>\n",
       "      <td>Mexico</td>\n",
       "      <td>Foreign born- Not a citizen of U S</td>\n",
       "      <td>0</td>\n",
       "      <td>Not in universe</td>\n",
       "      <td>2</td>\n",
       "      <td>12</td>\n",
       "      <td>95</td>\n",
       "      <td>- 50000.</td>\n",
       "    </tr>\n",
       "    <tr>\n",
       "      <th>44</th>\n",
       "      <td>Self-employed-not incorporated</td>\n",
       "      <td>37</td>\n",
       "      <td>12</td>\n",
       "      <td>Associates degree-occup /vocational</td>\n",
       "      <td>0</td>\n",
       "      <td>Not in universe</td>\n",
       "      <td>Married-civilian spouse present</td>\n",
       "      <td>Business and repair services</td>\n",
       "      <td>Professional specialty</td>\n",
       "      <td>White</td>\n",
       "      <td>All other</td>\n",
       "      <td>Female</td>\n",
       "      <td>Not in universe</td>\n",
       "      <td>Not in universe</td>\n",
       "      <td>PT for econ reasons usually PT</td>\n",
       "      <td>0</td>\n",
       "      <td>0</td>\n",
       "      <td>2500</td>\n",
       "      <td>Joint both under 65</td>\n",
       "      <td>Not in universe</td>\n",
       "      <td>Not in universe</td>\n",
       "      <td>Spouse of householder</td>\n",
       "      <td>Spouse of householder</td>\n",
       "      <td>1462.33</td>\n",
       "      <td>?</td>\n",
       "      <td>?</td>\n",
       "      <td>?</td>\n",
       "      <td>Not in universe under 1 year old</td>\n",
       "      <td>?</td>\n",
       "      <td>1</td>\n",
       "      <td>Not in universe</td>\n",
       "      <td>United-States</td>\n",
       "      <td>United-States</td>\n",
       "      <td>United-States</td>\n",
       "      <td>Native- Born in the United States</td>\n",
       "      <td>0</td>\n",
       "      <td>Not in universe</td>\n",
       "      <td>2</td>\n",
       "      <td>26</td>\n",
       "      <td>95</td>\n",
       "      <td>- 50000.</td>\n",
       "    </tr>\n",
       "    <tr>\n",
       "      <th>2</th>\n",
       "      <td>Not in universe</td>\n",
       "      <td>0</td>\n",
       "      <td>0</td>\n",
       "      <td>Children</td>\n",
       "      <td>0</td>\n",
       "      <td>Not in universe</td>\n",
       "      <td>Never married</td>\n",
       "      <td>Not in universe or children</td>\n",
       "      <td>Not in universe</td>\n",
       "      <td>White</td>\n",
       "      <td>Mexican-American</td>\n",
       "      <td>Male</td>\n",
       "      <td>Not in universe</td>\n",
       "      <td>Not in universe</td>\n",
       "      <td>Children or Armed Forces</td>\n",
       "      <td>0</td>\n",
       "      <td>0</td>\n",
       "      <td>0</td>\n",
       "      <td>Nonfiler</td>\n",
       "      <td>Not in universe</td>\n",
       "      <td>Not in universe</td>\n",
       "      <td>Child &lt;18 never marr not in subfamily</td>\n",
       "      <td>Child under 18 never married</td>\n",
       "      <td>1601.75</td>\n",
       "      <td>?</td>\n",
       "      <td>?</td>\n",
       "      <td>?</td>\n",
       "      <td>Not in universe under 1 year old</td>\n",
       "      <td>?</td>\n",
       "      <td>0</td>\n",
       "      <td>Both parents present</td>\n",
       "      <td>United-States</td>\n",
       "      <td>United-States</td>\n",
       "      <td>United-States</td>\n",
       "      <td>Native- Born in the United States</td>\n",
       "      <td>0</td>\n",
       "      <td>Not in universe</td>\n",
       "      <td>0</td>\n",
       "      <td>0</td>\n",
       "      <td>95</td>\n",
       "      <td>- 50000.</td>\n",
       "    </tr>\n",
       "    <tr>\n",
       "      <th>35</th>\n",
       "      <td>Private</td>\n",
       "      <td>29</td>\n",
       "      <td>3</td>\n",
       "      <td>High school graduate</td>\n",
       "      <td>0</td>\n",
       "      <td>Not in universe</td>\n",
       "      <td>Divorced</td>\n",
       "      <td>Transportation</td>\n",
       "      <td>Executive admin and managerial</td>\n",
       "      <td>White</td>\n",
       "      <td>All other</td>\n",
       "      <td>Female</td>\n",
       "      <td>Not in universe</td>\n",
       "      <td>Not in universe</td>\n",
       "      <td>Children or Armed Forces</td>\n",
       "      <td>0</td>\n",
       "      <td>0</td>\n",
       "      <td>0</td>\n",
       "      <td>Head of household</td>\n",
       "      <td>Not in universe</td>\n",
       "      <td>Not in universe</td>\n",
       "      <td>Householder</td>\n",
       "      <td>Householder</td>\n",
       "      <td>1866.88</td>\n",
       "      <td>Nonmover</td>\n",
       "      <td>Nonmover</td>\n",
       "      <td>Nonmover</td>\n",
       "      <td>Yes</td>\n",
       "      <td>Not in universe</td>\n",
       "      <td>5</td>\n",
       "      <td>Not in universe</td>\n",
       "      <td>United-States</td>\n",
       "      <td>United-States</td>\n",
       "      <td>United-States</td>\n",
       "      <td>Native- Born in the United States</td>\n",
       "      <td>2</td>\n",
       "      <td>Not in universe</td>\n",
       "      <td>2</td>\n",
       "      <td>52</td>\n",
       "      <td>94</td>\n",
       "      <td>- 50000.</td>\n",
       "    </tr>\n",
       "    <tr>\n",
       "      <th>49</th>\n",
       "      <td>Private</td>\n",
       "      <td>4</td>\n",
       "      <td>34</td>\n",
       "      <td>High school graduate</td>\n",
       "      <td>0</td>\n",
       "      <td>Not in universe</td>\n",
       "      <td>Divorced</td>\n",
       "      <td>Construction</td>\n",
       "      <td>Precision production craft &amp; repair</td>\n",
       "      <td>White</td>\n",
       "      <td>All other</td>\n",
       "      <td>Male</td>\n",
       "      <td>Not in universe</td>\n",
       "      <td>Not in universe</td>\n",
       "      <td>Full-time schedules</td>\n",
       "      <td>0</td>\n",
       "      <td>0</td>\n",
       "      <td>0</td>\n",
       "      <td>Single</td>\n",
       "      <td>Not in universe</td>\n",
       "      <td>Not in universe</td>\n",
       "      <td>Secondary individual</td>\n",
       "      <td>Nonrelative of householder</td>\n",
       "      <td>1394.54</td>\n",
       "      <td>?</td>\n",
       "      <td>?</td>\n",
       "      <td>?</td>\n",
       "      <td>Not in universe under 1 year old</td>\n",
       "      <td>?</td>\n",
       "      <td>4</td>\n",
       "      <td>Not in universe</td>\n",
       "      <td>United-States</td>\n",
       "      <td>United-States</td>\n",
       "      <td>United-States</td>\n",
       "      <td>Native- Born in the United States</td>\n",
       "      <td>0</td>\n",
       "      <td>Not in universe</td>\n",
       "      <td>2</td>\n",
       "      <td>50</td>\n",
       "      <td>95</td>\n",
       "      <td>- 50000.</td>\n",
       "    </tr>\n",
       "  </tbody>\n",
       "</table>\n",
       "</div>"
      ],
      "text/plain": [
       "                    class_of_worker  detailed_industry_recode  \\\n",
       "38                          Private                         6   \n",
       "44   Self-employed-not incorporated                        37   \n",
       "2                   Not in universe                         0   \n",
       "35                          Private                        29   \n",
       "49                          Private                         4   \n",
       "\n",
       "    detailed_occupation_recode                             education  \\\n",
       "38                          36              1st 2nd 3rd or 4th grade   \n",
       "44                          12   Associates degree-occup /vocational   \n",
       "2                            0                              Children   \n",
       "35                           3                  High school graduate   \n",
       "49                          34                  High school graduate   \n",
       "\n",
       "    wage_per_hour enroll_in_edu_inst_last_wk  \\\n",
       "38              0            Not in universe   \n",
       "44              0            Not in universe   \n",
       "2               0            Not in universe   \n",
       "35              0            Not in universe   \n",
       "49              0            Not in universe   \n",
       "\n",
       "                        marital_stat            major_industry_code  \\\n",
       "38   Married-civilian spouse present    Manufacturing-durable goods   \n",
       "44   Married-civilian spouse present   Business and repair services   \n",
       "2                      Never married    Not in universe or children   \n",
       "35                          Divorced                 Transportation   \n",
       "49                          Divorced                   Construction   \n",
       "\n",
       "                     major_occupation_code    race      hispanic_origin  \\\n",
       "38   Machine operators assmblrs & inspctrs   White   Mexican (Mexicano)   \n",
       "44                  Professional specialty   White            All other   \n",
       "2                          Not in universe   White     Mexican-American   \n",
       "35          Executive admin and managerial   White            All other   \n",
       "49     Precision production craft & repair   White            All other   \n",
       "\n",
       "        sex member_of_a_labor_union reason_for_unemployment  \\\n",
       "38   Female         Not in universe         Not in universe   \n",
       "44   Female         Not in universe         Not in universe   \n",
       "2      Male         Not in universe         Not in universe   \n",
       "35   Female         Not in universe         Not in universe   \n",
       "49     Male         Not in universe         Not in universe   \n",
       "\n",
       "   full_or_part_time_employment_stat  capital_gains  capital_losses  \\\n",
       "38               Full-time schedules              0               0   \n",
       "44    PT for econ reasons usually PT              0               0   \n",
       "2           Children or Armed Forces              0               0   \n",
       "35          Children or Armed Forces              0               0   \n",
       "49               Full-time schedules              0               0   \n",
       "\n",
       "    dividends_from_stocks                 tax_filer_stat  \\\n",
       "38                      0   Joint one under 65 & one 65+   \n",
       "44                   2500            Joint both under 65   \n",
       "2                       0                       Nonfiler   \n",
       "35                      0              Head of household   \n",
       "49                      0                         Single   \n",
       "\n",
       "   region_of_previous_residence state_of_previous_residence  \\\n",
       "38              Not in universe             Not in universe   \n",
       "44              Not in universe             Not in universe   \n",
       "2               Not in universe             Not in universe   \n",
       "35              Not in universe             Not in universe   \n",
       "49              Not in universe             Not in universe   \n",
       "\n",
       "        detailed_household_and_family_stat  \\\n",
       "38                   Spouse of householder   \n",
       "44                   Spouse of householder   \n",
       "2    Child <18 never marr not in subfamily   \n",
       "35                             Householder   \n",
       "49                    Secondary individual   \n",
       "\n",
       "   detailed_household_summary_in_household  instance_weight  \\\n",
       "38                   Spouse of householder          1032.38   \n",
       "44                   Spouse of householder          1462.33   \n",
       "2             Child under 18 never married          1601.75   \n",
       "35                             Householder          1866.88   \n",
       "49              Nonrelative of householder          1394.54   \n",
       "\n",
       "   migration_code-change_in_msa migration_code-change_in_reg  \\\n",
       "38                            ?                            ?   \n",
       "44                            ?                            ?   \n",
       "2                             ?                            ?   \n",
       "35                     Nonmover                     Nonmover   \n",
       "49                            ?                            ?   \n",
       "\n",
       "   migration_code-move_within_reg      live_in_this_house_1_year_ago  \\\n",
       "38                              ?   Not in universe under 1 year old   \n",
       "44                              ?   Not in universe under 1 year old   \n",
       "2                               ?   Not in universe under 1 year old   \n",
       "35                       Nonmover                                Yes   \n",
       "49                              ?   Not in universe under 1 year old   \n",
       "\n",
       "   migration_prev_res_in_sunbelt  num_persons_worked_for_employer  \\\n",
       "38                             ?                                4   \n",
       "44                             ?                                1   \n",
       "2                              ?                                0   \n",
       "35               Not in universe                                5   \n",
       "49                             ?                                4   \n",
       "\n",
       "   family_members_under_18 country_of_birth_father country_of_birth_mother  \\\n",
       "38         Not in universe                  Mexico                  Mexico   \n",
       "44         Not in universe           United-States           United-States   \n",
       "2     Both parents present           United-States           United-States   \n",
       "35         Not in universe           United-States           United-States   \n",
       "49         Not in universe           United-States           United-States   \n",
       "\n",
       "   country_of_birth_self                           citizenship  \\\n",
       "38                Mexico   Foreign born- Not a citizen of U S    \n",
       "44         United-States     Native- Born in the United States   \n",
       "2          United-States     Native- Born in the United States   \n",
       "35         United-States     Native- Born in the United States   \n",
       "49         United-States     Native- Born in the United States   \n",
       "\n",
       "    own_business_or_self_employed fill_inc_questionnaire_for_veteran's_admin  \\\n",
       "38                              0                            Not in universe   \n",
       "44                              0                            Not in universe   \n",
       "2                               0                            Not in universe   \n",
       "35                              2                            Not in universe   \n",
       "49                              0                            Not in universe   \n",
       "\n",
       "    veterans_benefits  weeks_worked_in_year  year     target  \n",
       "38                  2                    12    95   - 50000.  \n",
       "44                  2                    26    95   - 50000.  \n",
       "2                   0                     0    95   - 50000.  \n",
       "35                  2                    52    94   - 50000.  \n",
       "49                  2                    50    95   - 50000.  "
      ]
     },
     "execution_count": 8,
     "metadata": {},
     "output_type": "execute_result"
    }
   ],
   "source": [
    "test.head()"
   ]
  },
  {
   "cell_type": "markdown",
   "metadata": {},
   "source": [
    "## 2. Exploratory Data Analysis"
   ]
  },
  {
   "cell_type": "markdown",
   "metadata": {},
   "source": [
    "### 2.1  Checking missing values"
   ]
  },
  {
   "cell_type": "code",
   "execution_count": 7,
   "metadata": {
    "collapsed": false
   },
   "outputs": [
    {
     "data": {
      "text/plain": [
       "age                                           0\n",
       "class_of_worker                               0\n",
       "detailed_industry_recode                      0\n",
       "detailed_occupation_recode                    0\n",
       "education                                     0\n",
       "wage_per_hour                                 0\n",
       "enroll_in_edu_inst_last_wk                    0\n",
       "marital_stat                                  0\n",
       "major_industry_code                           0\n",
       "major_occupation_code                         0\n",
       "race                                          0\n",
       "hispanic_origin                               0\n",
       "sex                                           0\n",
       "member_of_a_labor_union                       0\n",
       "reason_for_unemployment                       0\n",
       "full_or_part_time_employment_stat             0\n",
       "capital_gains                                 0\n",
       "capital_losses                                0\n",
       "dividends_from_stocks                         0\n",
       "tax_filer_stat                                0\n",
       "region_of_previous_residence                  0\n",
       "state_of_previous_residence                   0\n",
       "detailed_household_and_family_stat            0\n",
       "detailed_household_summary_in_household       0\n",
       "instance_weight                               0\n",
       "migration_code-change_in_msa                  0\n",
       "migration_code-change_in_reg                  0\n",
       "migration_code-move_within_reg                0\n",
       "live_in_this_house_1_year_ago                 0\n",
       "migration_prev_res_in_sunbelt                 0\n",
       "num_persons_worked_for_employer               0\n",
       "family_members_under_18                       0\n",
       "country_of_birth_father                       0\n",
       "country_of_birth_mother                       0\n",
       "country_of_birth_self                         0\n",
       "citizenship                                   0\n",
       "own_business_or_self_employed                 0\n",
       "fill_inc_questionnaire_for_veteran's_admin    0\n",
       "veterans_benefits                             0\n",
       "weeks_worked_in_year                          0\n",
       "year                                          0\n",
       "target                                        0\n",
       "dtype: int64"
      ]
     },
     "execution_count": 7,
     "metadata": {},
     "output_type": "execute_result"
    }
   ],
   "source": [
    "train.isnull().sum()"
   ]
  },
  {
   "cell_type": "code",
   "execution_count": 10,
   "metadata": {
    "collapsed": false
   },
   "outputs": [
    {
     "data": {
      "text/plain": [
       "class_of_worker                               0\n",
       "detailed_industry_recode                      0\n",
       "detailed_occupation_recode                    0\n",
       "education                                     0\n",
       "wage_per_hour                                 0\n",
       "enroll_in_edu_inst_last_wk                    0\n",
       "marital_stat                                  0\n",
       "major_industry_code                           0\n",
       "major_occupation_code                         0\n",
       "race                                          0\n",
       "hispanic_origin                               0\n",
       "sex                                           0\n",
       "member_of_a_labor_union                       0\n",
       "reason_for_unemployment                       0\n",
       "full_or_part_time_employment_stat             0\n",
       "capital_gains                                 0\n",
       "capital_losses                                0\n",
       "dividends_from_stocks                         0\n",
       "tax_filer_stat                                0\n",
       "region_of_previous_residence                  0\n",
       "state_of_previous_residence                   0\n",
       "detailed_household_and_family_stat            0\n",
       "detailed_household_summary_in_household       0\n",
       "instance_weight                               0\n",
       "migration_code-change_in_msa                  0\n",
       "migration_code-change_in_reg                  0\n",
       "migration_code-move_within_reg                0\n",
       "live_in_this_house_1_year_ago                 0\n",
       "migration_prev_res_in_sunbelt                 0\n",
       "num_persons_worked_for_employer               0\n",
       "family_members_under_18                       0\n",
       "country_of_birth_father                       0\n",
       "country_of_birth_mother                       0\n",
       "country_of_birth_self                         0\n",
       "citizenship                                   0\n",
       "own_business_or_self_employed                 0\n",
       "fill_inc_questionnaire_for_veteran's_admin    0\n",
       "veterans_benefits                             0\n",
       "weeks_worked_in_year                          0\n",
       "year                                          0\n",
       "target                                        0\n",
       "dtype: int64"
      ]
     },
     "execution_count": 10,
     "metadata": {},
     "output_type": "execute_result"
    }
   ],
   "source": [
    "test.isnull().sum()"
   ]
  },
  {
   "cell_type": "markdown",
   "metadata": {},
   "source": [
    "### 2.2 Checking and converting column data types"
   ]
  },
  {
   "cell_type": "code",
   "execution_count": 8,
   "metadata": {
    "collapsed": false
   },
   "outputs": [
    {
     "data": {
      "text/plain": [
       "age                                             int64\n",
       "class_of_worker                                object\n",
       "detailed_industry_recode                        int64\n",
       "detailed_occupation_recode                      int64\n",
       "education                                      object\n",
       "wage_per_hour                                   int64\n",
       "enroll_in_edu_inst_last_wk                     object\n",
       "marital_stat                                   object\n",
       "major_industry_code                            object\n",
       "major_occupation_code                          object\n",
       "race                                           object\n",
       "hispanic_origin                                object\n",
       "sex                                            object\n",
       "member_of_a_labor_union                        object\n",
       "reason_for_unemployment                        object\n",
       "full_or_part_time_employment_stat              object\n",
       "capital_gains                                   int64\n",
       "capital_losses                                  int64\n",
       "dividends_from_stocks                           int64\n",
       "tax_filer_stat                                 object\n",
       "region_of_previous_residence                   object\n",
       "state_of_previous_residence                    object\n",
       "detailed_household_and_family_stat             object\n",
       "detailed_household_summary_in_household        object\n",
       "instance_weight                               float64\n",
       "migration_code-change_in_msa                   object\n",
       "migration_code-change_in_reg                   object\n",
       "migration_code-move_within_reg                 object\n",
       "live_in_this_house_1_year_ago                  object\n",
       "migration_prev_res_in_sunbelt                  object\n",
       "num_persons_worked_for_employer                 int64\n",
       "family_members_under_18                        object\n",
       "country_of_birth_father                        object\n",
       "country_of_birth_mother                        object\n",
       "country_of_birth_self                          object\n",
       "citizenship                                    object\n",
       "own_business_or_self_employed                   int64\n",
       "fill_inc_questionnaire_for_veteran's_admin     object\n",
       "veterans_benefits                               int64\n",
       "weeks_worked_in_year                            int64\n",
       "year                                            int64\n",
       "target                                         object\n",
       "dtype: object"
      ]
     },
     "execution_count": 8,
     "metadata": {},
     "output_type": "execute_result"
    }
   ],
   "source": [
    "train.dtypes"
   ]
  },
  {
   "cell_type": "code",
   "execution_count": 9,
   "metadata": {
    "collapsed": true
   },
   "outputs": [],
   "source": [
    "convert_cols_obj = ['detailed_industry_recode',\n",
    "                    'detailed_occupation_recode',\n",
    "                    'own_business_or_self_employed',\n",
    "                    'veterans_benefits']\n",
    "\n",
    "train[convert_cols_obj] = train[convert_cols_obj].astype('object')\n",
    "test[convert_cols_obj] = test[convert_cols_obj].astype('object')"
   ]
  },
  {
   "cell_type": "markdown",
   "metadata": {},
   "source": [
    "### 2.3 Column summary statistics"
   ]
  },
  {
   "cell_type": "markdown",
   "metadata": {},
   "source": [
    "#### 2.3.1 Numerical columns"
   ]
  },
  {
   "cell_type": "code",
   "execution_count": 10,
   "metadata": {
    "collapsed": false
   },
   "outputs": [
    {
     "data": {
      "text/html": [
       "<div>\n",
       "<table border=\"1\" class=\"dataframe\">\n",
       "  <thead>\n",
       "    <tr style=\"text-align: right;\">\n",
       "      <th></th>\n",
       "      <th>age</th>\n",
       "      <th>wage_per_hour</th>\n",
       "      <th>capital_gains</th>\n",
       "      <th>capital_losses</th>\n",
       "      <th>dividends_from_stocks</th>\n",
       "      <th>instance_weight</th>\n",
       "      <th>num_persons_worked_for_employer</th>\n",
       "      <th>weeks_worked_in_year</th>\n",
       "      <th>year</th>\n",
       "    </tr>\n",
       "  </thead>\n",
       "  <tbody>\n",
       "    <tr>\n",
       "      <th>count</th>\n",
       "      <td>196294.000000</td>\n",
       "      <td>196294.000000</td>\n",
       "      <td>196294.000000</td>\n",
       "      <td>196294.000000</td>\n",
       "      <td>196294.000000</td>\n",
       "      <td>196294.000000</td>\n",
       "      <td>196294.000000</td>\n",
       "      <td>196294.000000</td>\n",
       "      <td>196294.000000</td>\n",
       "    </tr>\n",
       "    <tr>\n",
       "      <th>mean</th>\n",
       "      <td>34.929468</td>\n",
       "      <td>56.336505</td>\n",
       "      <td>441.870037</td>\n",
       "      <td>37.927593</td>\n",
       "      <td>200.722386</td>\n",
       "      <td>1743.267584</td>\n",
       "      <td>1.988105</td>\n",
       "      <td>23.553889</td>\n",
       "      <td>94.499328</td>\n",
       "    </tr>\n",
       "    <tr>\n",
       "      <th>std</th>\n",
       "      <td>22.210001</td>\n",
       "      <td>277.054333</td>\n",
       "      <td>4735.677027</td>\n",
       "      <td>274.081174</td>\n",
       "      <td>2000.130616</td>\n",
       "      <td>996.945985</td>\n",
       "      <td>2.371018</td>\n",
       "      <td>24.428588</td>\n",
       "      <td>0.500001</td>\n",
       "    </tr>\n",
       "    <tr>\n",
       "      <th>min</th>\n",
       "      <td>0.000000</td>\n",
       "      <td>0.000000</td>\n",
       "      <td>0.000000</td>\n",
       "      <td>0.000000</td>\n",
       "      <td>0.000000</td>\n",
       "      <td>37.870000</td>\n",
       "      <td>0.000000</td>\n",
       "      <td>0.000000</td>\n",
       "      <td>94.000000</td>\n",
       "    </tr>\n",
       "    <tr>\n",
       "      <th>25%</th>\n",
       "      <td>16.000000</td>\n",
       "      <td>0.000000</td>\n",
       "      <td>0.000000</td>\n",
       "      <td>0.000000</td>\n",
       "      <td>0.000000</td>\n",
       "      <td>1061.530000</td>\n",
       "      <td>0.000000</td>\n",
       "      <td>0.000000</td>\n",
       "      <td>94.000000</td>\n",
       "    </tr>\n",
       "    <tr>\n",
       "      <th>50%</th>\n",
       "      <td>34.000000</td>\n",
       "      <td>0.000000</td>\n",
       "      <td>0.000000</td>\n",
       "      <td>0.000000</td>\n",
       "      <td>0.000000</td>\n",
       "      <td>1620.175000</td>\n",
       "      <td>1.000000</td>\n",
       "      <td>12.000000</td>\n",
       "      <td>94.000000</td>\n",
       "    </tr>\n",
       "    <tr>\n",
       "      <th>75%</th>\n",
       "      <td>50.000000</td>\n",
       "      <td>0.000000</td>\n",
       "      <td>0.000000</td>\n",
       "      <td>0.000000</td>\n",
       "      <td>0.000000</td>\n",
       "      <td>2194.060000</td>\n",
       "      <td>4.000000</td>\n",
       "      <td>52.000000</td>\n",
       "      <td>95.000000</td>\n",
       "    </tr>\n",
       "    <tr>\n",
       "      <th>max</th>\n",
       "      <td>90.000000</td>\n",
       "      <td>9999.000000</td>\n",
       "      <td>99999.000000</td>\n",
       "      <td>4608.000000</td>\n",
       "      <td>99999.000000</td>\n",
       "      <td>18656.300000</td>\n",
       "      <td>6.000000</td>\n",
       "      <td>52.000000</td>\n",
       "      <td>95.000000</td>\n",
       "    </tr>\n",
       "  </tbody>\n",
       "</table>\n",
       "</div>"
      ],
      "text/plain": [
       "                 age  wage_per_hour  capital_gains  capital_losses  \\\n",
       "count  196294.000000  196294.000000  196294.000000   196294.000000   \n",
       "mean       34.929468      56.336505     441.870037       37.927593   \n",
       "std        22.210001     277.054333    4735.677027      274.081174   \n",
       "min         0.000000       0.000000       0.000000        0.000000   \n",
       "25%        16.000000       0.000000       0.000000        0.000000   \n",
       "50%        34.000000       0.000000       0.000000        0.000000   \n",
       "75%        50.000000       0.000000       0.000000        0.000000   \n",
       "max        90.000000    9999.000000   99999.000000     4608.000000   \n",
       "\n",
       "       dividends_from_stocks  instance_weight  \\\n",
       "count          196294.000000    196294.000000   \n",
       "mean              200.722386      1743.267584   \n",
       "std              2000.130616       996.945985   \n",
       "min                 0.000000        37.870000   \n",
       "25%                 0.000000      1061.530000   \n",
       "50%                 0.000000      1620.175000   \n",
       "75%                 0.000000      2194.060000   \n",
       "max             99999.000000     18656.300000   \n",
       "\n",
       "       num_persons_worked_for_employer  weeks_worked_in_year           year  \n",
       "count                    196294.000000         196294.000000  196294.000000  \n",
       "mean                          1.988105             23.553889      94.499328  \n",
       "std                           2.371018             24.428588       0.500001  \n",
       "min                           0.000000              0.000000      94.000000  \n",
       "25%                           0.000000              0.000000      94.000000  \n",
       "50%                           1.000000             12.000000      94.000000  \n",
       "75%                           4.000000             52.000000      95.000000  \n",
       "max                           6.000000             52.000000      95.000000  "
      ]
     },
     "execution_count": 10,
     "metadata": {},
     "output_type": "execute_result"
    }
   ],
   "source": [
    "train.describe()"
   ]
  },
  {
   "cell_type": "markdown",
   "metadata": {},
   "source": [
    "##### 2.3.1.1 Checking outliers for capital_gains, capital_lossess, dividends_from_stocks & wage_per_hour"
   ]
  },
  {
   "cell_type": "code",
   "execution_count": 11,
   "metadata": {
    "collapsed": false
   },
   "outputs": [
    {
     "data": {
      "text/plain": [
       "array([<matplotlib.axes._subplots.AxesSubplot object at 0x000000000E570400>,\n",
       "       <matplotlib.axes._subplots.AxesSubplot object at 0x000000001089C080>], dtype=object)"
      ]
     },
     "execution_count": 11,
     "metadata": {},
     "output_type": "execute_result"
    },
    {
     "data": {
      "image/png": "[encoded data removed]",
      "text/plain": [
       "<matplotlib.figure.Figure at 0x82e0da0>"
      ]
     },
     "metadata": {},
     "output_type": "display_data"
    }
   ],
   "source": [
    "train.hist(column = 'capital_gains', by = 'target',log = True, figsize = (15,3))"
   ]
  },
  {
   "cell_type": "code",
   "execution_count": 12,
   "metadata": {
    "collapsed": false
   },
   "outputs": [
    {
     "data": {
      "text/plain": [
       "99999    390\n",
       "41310      2\n",
       "Name: capital_gains, dtype: int64"
      ]
     },
     "execution_count": 12,
     "metadata": {},
     "output_type": "execute_result"
    }
   ],
   "source": [
    "train['capital_gains'][train['capital_gains']>40000].value_counts()"
   ]
  },
  {
   "cell_type": "code",
   "execution_count": 13,
   "metadata": {
    "collapsed": false
   },
   "outputs": [
    {
     "data": {
      "text/plain": [
       "2    387\n",
       "1      3\n",
       "Name: veterans_benefits, dtype: int64"
      ]
     },
     "execution_count": 13,
     "metadata": {},
     "output_type": "execute_result"
    }
   ],
   "source": [
    "train['veterans_benefits'][train['capital_gains'] == 99999].value_counts()"
   ]
  },
  {
   "cell_type": "markdown",
   "metadata": {},
   "source": [
    "It is strange that 390 people have values for capital_gains as 99999 but leaving it as it is since it might have some special significance."
   ]
  },
  {
   "cell_type": "code",
   "execution_count": 14,
   "metadata": {
    "collapsed": false
   },
   "outputs": [
    {
     "data": {
      "text/plain": [
       "array([<matplotlib.axes._subplots.AxesSubplot object at 0x000000000EDAB7F0>,\n",
       "       <matplotlib.axes._subplots.AxesSubplot object at 0x000000000F5ED908>], dtype=object)"
      ]
     },
     "execution_count": 14,
     "metadata": {},
     "output_type": "execute_result"
    },
    {
     "data": {
      "image/png": "[encoded data removed]",
      "text/plain": [
       "<matplotlib.figure.Figure at 0x42e8358>"
      ]
     },
     "metadata": {},
     "output_type": "display_data"
    }
   ],
   "source": [
    "train.hist(column = 'capital_losses', by = 'target',log = True, figsize = (15,3))"
   ]
  },
  {
   "cell_type": "code",
   "execution_count": 18,
   "metadata": {
    "collapsed": false
   },
   "outputs": [
    {
     "data": {
      "text/plain": [
       "array([<matplotlib.axes._subplots.AxesSubplot object at 0x000000000EC89710>,\n",
       "       <matplotlib.axes._subplots.AxesSubplot object at 0x000000000EFCE4A8>], dtype=object)"
      ]
     },
     "execution_count": 18,
     "metadata": {},
     "output_type": "execute_result"
    },
    {
     "data": {
      "image/png": "[encoded data removed]",
      "text/plain": [
       "<matplotlib.figure.Figure at 0x10e25e48>"
      ]
     },
     "metadata": {},
     "output_type": "display_data"
    }
   ],
   "source": [
    "train.hist(column = 'dividends_from_stocks', by = 'target',log = True, figsize = (15,3))"
   ]
  },
  {
   "cell_type": "code",
   "execution_count": 15,
   "metadata": {
    "collapsed": false
   },
   "outputs": [
    {
     "data": {
      "text/plain": [
       "array([<matplotlib.axes._subplots.AxesSubplot object at 0x000000000F6096A0>,\n",
       "       <matplotlib.axes._subplots.AxesSubplot object at 0x000000000F290BE0>], dtype=object)"
      ]
     },
     "execution_count": 15,
     "metadata": {},
     "output_type": "execute_result"
    },
    {
     "data": {
      "image/png": "[encoded data removed]",
      "text/plain": [
       "<matplotlib.figure.Figure at 0x10bdbcc0>"
      ]
     },
     "metadata": {},
     "output_type": "display_data"
    }
   ],
   "source": [
    "train.hist(column = 'wage_per_hour', by = 'target',log = True, figsize = (15,3))"
   ]
  },
  {
   "cell_type": "code",
   "execution_count": 16,
   "metadata": {
    "collapsed": false
   },
   "outputs": [
    {
     "data": {
      "text/html": [
       "<div>\n",
       "<table border=\"1\" class=\"dataframe\">\n",
       "  <thead>\n",
       "    <tr style=\"text-align: right;\">\n",
       "      <th></th>\n",
       "      <th>age</th>\n",
       "      <th>class_of_worker</th>\n",
       "      <th>detailed_industry_recode</th>\n",
       "      <th>detailed_occupation_recode</th>\n",
       "      <th>education</th>\n",
       "      <th>wage_per_hour</th>\n",
       "      <th>enroll_in_edu_inst_last_wk</th>\n",
       "      <th>marital_stat</th>\n",
       "      <th>major_industry_code</th>\n",
       "      <th>major_occupation_code</th>\n",
       "      <th>race</th>\n",
       "      <th>hispanic_origin</th>\n",
       "      <th>sex</th>\n",
       "      <th>member_of_a_labor_union</th>\n",
       "      <th>reason_for_unemployment</th>\n",
       "      <th>full_or_part_time_employment_stat</th>\n",
       "      <th>capital_gains</th>\n",
       "      <th>capital_losses</th>\n",
       "      <th>dividends_from_stocks</th>\n",
       "      <th>tax_filer_stat</th>\n",
       "      <th>region_of_previous_residence</th>\n",
       "      <th>state_of_previous_residence</th>\n",
       "      <th>detailed_household_and_family_stat</th>\n",
       "      <th>detailed_household_summary_in_household</th>\n",
       "      <th>instance_weight</th>\n",
       "      <th>migration_code-change_in_msa</th>\n",
       "      <th>migration_code-change_in_reg</th>\n",
       "      <th>migration_code-move_within_reg</th>\n",
       "      <th>live_in_this_house_1_year_ago</th>\n",
       "      <th>migration_prev_res_in_sunbelt</th>\n",
       "      <th>num_persons_worked_for_employer</th>\n",
       "      <th>family_members_under_18</th>\n",
       "      <th>country_of_birth_father</th>\n",
       "      <th>country_of_birth_mother</th>\n",
       "      <th>country_of_birth_self</th>\n",
       "      <th>citizenship</th>\n",
       "      <th>own_business_or_self_employed</th>\n",
       "      <th>fill_inc_questionnaire_for_veteran's_admin</th>\n",
       "      <th>veterans_benefits</th>\n",
       "      <th>weeks_worked_in_year</th>\n",
       "      <th>year</th>\n",
       "      <th>target</th>\n",
       "    </tr>\n",
       "  </thead>\n",
       "  <tbody>\n",
       "    <tr>\n",
       "      <th>266</th>\n",
       "      <td>25</td>\n",
       "      <td>Private</td>\n",
       "      <td>42</td>\n",
       "      <td>13</td>\n",
       "      <td>Some college but no degree</td>\n",
       "      <td>2825</td>\n",
       "      <td>Not in universe</td>\n",
       "      <td>Never married</td>\n",
       "      <td>Medical except hospital</td>\n",
       "      <td>Technicians and related support</td>\n",
       "      <td>White</td>\n",
       "      <td>All other</td>\n",
       "      <td>Male</td>\n",
       "      <td>No</td>\n",
       "      <td>Not in universe</td>\n",
       "      <td>Children or Armed Forces</td>\n",
       "      <td>0</td>\n",
       "      <td>0</td>\n",
       "      <td>0</td>\n",
       "      <td>Single</td>\n",
       "      <td>Not in universe</td>\n",
       "      <td>Not in universe</td>\n",
       "      <td>Nonfamily householder</td>\n",
       "      <td>Householder</td>\n",
       "      <td>2691.02</td>\n",
       "      <td>Nonmover</td>\n",
       "      <td>Nonmover</td>\n",
       "      <td>Nonmover</td>\n",
       "      <td>Yes</td>\n",
       "      <td>Not in universe</td>\n",
       "      <td>6</td>\n",
       "      <td>Not in universe</td>\n",
       "      <td>United-States</td>\n",
       "      <td>Germany</td>\n",
       "      <td>United-States</td>\n",
       "      <td>Native- Born in the United States</td>\n",
       "      <td>0</td>\n",
       "      <td>Not in universe</td>\n",
       "      <td>2</td>\n",
       "      <td>52</td>\n",
       "      <td>94</td>\n",
       "      <td>- 50000.</td>\n",
       "    </tr>\n",
       "    <tr>\n",
       "      <th>330</th>\n",
       "      <td>29</td>\n",
       "      <td>Private</td>\n",
       "      <td>37</td>\n",
       "      <td>8</td>\n",
       "      <td>Bachelors degree(BA AB BS)</td>\n",
       "      <td>5000</td>\n",
       "      <td>Not in universe</td>\n",
       "      <td>Married-civilian spouse present</td>\n",
       "      <td>Business and repair services</td>\n",
       "      <td>Professional specialty</td>\n",
       "      <td>White</td>\n",
       "      <td>All other</td>\n",
       "      <td>Female</td>\n",
       "      <td>No</td>\n",
       "      <td>Not in universe</td>\n",
       "      <td>Full-time schedules</td>\n",
       "      <td>0</td>\n",
       "      <td>0</td>\n",
       "      <td>0</td>\n",
       "      <td>Joint both under 65</td>\n",
       "      <td>Not in universe</td>\n",
       "      <td>Not in universe</td>\n",
       "      <td>Spouse of householder</td>\n",
       "      <td>Spouse of householder</td>\n",
       "      <td>1502.35</td>\n",
       "      <td>?</td>\n",
       "      <td>?</td>\n",
       "      <td>?</td>\n",
       "      <td>Not in universe under 1 year old</td>\n",
       "      <td>?</td>\n",
       "      <td>6</td>\n",
       "      <td>Not in universe</td>\n",
       "      <td>United-States</td>\n",
       "      <td>United-States</td>\n",
       "      <td>United-States</td>\n",
       "      <td>Native- Born in the United States</td>\n",
       "      <td>0</td>\n",
       "      <td>Not in universe</td>\n",
       "      <td>2</td>\n",
       "      <td>52</td>\n",
       "      <td>95</td>\n",
       "      <td>- 50000.</td>\n",
       "    </tr>\n",
       "    <tr>\n",
       "      <th>1018</th>\n",
       "      <td>62</td>\n",
       "      <td>Private</td>\n",
       "      <td>3</td>\n",
       "      <td>39</td>\n",
       "      <td>High school graduate</td>\n",
       "      <td>2200</td>\n",
       "      <td>Not in universe</td>\n",
       "      <td>Married-civilian spouse present</td>\n",
       "      <td>Mining</td>\n",
       "      <td>Transportation and material moving</td>\n",
       "      <td>White</td>\n",
       "      <td>All other</td>\n",
       "      <td>Male</td>\n",
       "      <td>No</td>\n",
       "      <td>Not in universe</td>\n",
       "      <td>Full-time schedules</td>\n",
       "      <td>0</td>\n",
       "      <td>0</td>\n",
       "      <td>100</td>\n",
       "      <td>Joint both under 65</td>\n",
       "      <td>Not in universe</td>\n",
       "      <td>Not in universe</td>\n",
       "      <td>Spouse of householder</td>\n",
       "      <td>Spouse of householder</td>\n",
       "      <td>237.67</td>\n",
       "      <td>?</td>\n",
       "      <td>?</td>\n",
       "      <td>?</td>\n",
       "      <td>Not in universe under 1 year old</td>\n",
       "      <td>?</td>\n",
       "      <td>6</td>\n",
       "      <td>Not in universe</td>\n",
       "      <td>United-States</td>\n",
       "      <td>United-States</td>\n",
       "      <td>United-States</td>\n",
       "      <td>Native- Born in the United States</td>\n",
       "      <td>0</td>\n",
       "      <td>Not in universe</td>\n",
       "      <td>2</td>\n",
       "      <td>52</td>\n",
       "      <td>95</td>\n",
       "      <td>50000+.</td>\n",
       "    </tr>\n",
       "    <tr>\n",
       "      <th>1222</th>\n",
       "      <td>35</td>\n",
       "      <td>Private</td>\n",
       "      <td>33</td>\n",
       "      <td>35</td>\n",
       "      <td>Some college but no degree</td>\n",
       "      <td>8000</td>\n",
       "      <td>Not in universe</td>\n",
       "      <td>Married-civilian spouse present</td>\n",
       "      <td>Retail trade</td>\n",
       "      <td>Precision production craft &amp; repair</td>\n",
       "      <td>White</td>\n",
       "      <td>All other</td>\n",
       "      <td>Male</td>\n",
       "      <td>No</td>\n",
       "      <td>Not in universe</td>\n",
       "      <td>Children or Armed Forces</td>\n",
       "      <td>0</td>\n",
       "      <td>0</td>\n",
       "      <td>0</td>\n",
       "      <td>Joint both under 65</td>\n",
       "      <td>Not in universe</td>\n",
       "      <td>Not in universe</td>\n",
       "      <td>Householder</td>\n",
       "      <td>Householder</td>\n",
       "      <td>2872.93</td>\n",
       "      <td>Nonmover</td>\n",
       "      <td>Nonmover</td>\n",
       "      <td>Nonmover</td>\n",
       "      <td>Yes</td>\n",
       "      <td>Not in universe</td>\n",
       "      <td>2</td>\n",
       "      <td>Not in universe</td>\n",
       "      <td>United-States</td>\n",
       "      <td>United-States</td>\n",
       "      <td>United-States</td>\n",
       "      <td>Native- Born in the United States</td>\n",
       "      <td>0</td>\n",
       "      <td>Not in universe</td>\n",
       "      <td>2</td>\n",
       "      <td>52</td>\n",
       "      <td>94</td>\n",
       "      <td>- 50000.</td>\n",
       "    </tr>\n",
       "    <tr>\n",
       "      <th>2083</th>\n",
       "      <td>46</td>\n",
       "      <td>Federal government</td>\n",
       "      <td>4</td>\n",
       "      <td>6</td>\n",
       "      <td>Masters degree(MA MS MEng MEd MSW MBA)</td>\n",
       "      <td>2751</td>\n",
       "      <td>Not in universe</td>\n",
       "      <td>Divorced</td>\n",
       "      <td>Construction</td>\n",
       "      <td>Professional specialty</td>\n",
       "      <td>White</td>\n",
       "      <td>All other</td>\n",
       "      <td>Male</td>\n",
       "      <td>No</td>\n",
       "      <td>Not in universe</td>\n",
       "      <td>PT for econ reasons usually PT</td>\n",
       "      <td>0</td>\n",
       "      <td>0</td>\n",
       "      <td>300</td>\n",
       "      <td>Head of household</td>\n",
       "      <td>Not in universe</td>\n",
       "      <td>Not in universe</td>\n",
       "      <td>Householder</td>\n",
       "      <td>Householder</td>\n",
       "      <td>328.11</td>\n",
       "      <td>?</td>\n",
       "      <td>?</td>\n",
       "      <td>?</td>\n",
       "      <td>Not in universe under 1 year old</td>\n",
       "      <td>?</td>\n",
       "      <td>6</td>\n",
       "      <td>Not in universe</td>\n",
       "      <td>United-States</td>\n",
       "      <td>United-States</td>\n",
       "      <td>United-States</td>\n",
       "      <td>Native- Born in the United States</td>\n",
       "      <td>0</td>\n",
       "      <td>Not in universe</td>\n",
       "      <td>2</td>\n",
       "      <td>52</td>\n",
       "      <td>95</td>\n",
       "      <td>50000+.</td>\n",
       "    </tr>\n",
       "  </tbody>\n",
       "</table>\n",
       "</div>"
      ],
      "text/plain": [
       "      age      class_of_worker detailed_industry_recode  \\\n",
       "266    25              Private                       42   \n",
       "330    29              Private                       37   \n",
       "1018   62              Private                        3   \n",
       "1222   35              Private                       33   \n",
       "2083   46   Federal government                        4   \n",
       "\n",
       "     detailed_occupation_recode                                education  \\\n",
       "266                          13               Some college but no degree   \n",
       "330                           8               Bachelors degree(BA AB BS)   \n",
       "1018                         39                     High school graduate   \n",
       "1222                         35               Some college but no degree   \n",
       "2083                          6   Masters degree(MA MS MEng MEd MSW MBA)   \n",
       "\n",
       "      wage_per_hour enroll_in_edu_inst_last_wk  \\\n",
       "266            2825            Not in universe   \n",
       "330            5000            Not in universe   \n",
       "1018           2200            Not in universe   \n",
       "1222           8000            Not in universe   \n",
       "2083           2751            Not in universe   \n",
       "\n",
       "                          marital_stat            major_industry_code  \\\n",
       "266                      Never married        Medical except hospital   \n",
       "330    Married-civilian spouse present   Business and repair services   \n",
       "1018   Married-civilian spouse present                         Mining   \n",
       "1222   Married-civilian spouse present                   Retail trade   \n",
       "2083                          Divorced                   Construction   \n",
       "\n",
       "                     major_occupation_code    race hispanic_origin      sex  \\\n",
       "266        Technicians and related support   White       All other     Male   \n",
       "330                 Professional specialty   White       All other   Female   \n",
       "1018    Transportation and material moving   White       All other     Male   \n",
       "1222   Precision production craft & repair   White       All other     Male   \n",
       "2083                Professional specialty   White       All other     Male   \n",
       "\n",
       "     member_of_a_labor_union reason_for_unemployment  \\\n",
       "266                       No         Not in universe   \n",
       "330                       No         Not in universe   \n",
       "1018                      No         Not in universe   \n",
       "1222                      No         Not in universe   \n",
       "2083                      No         Not in universe   \n",
       "\n",
       "     full_or_part_time_employment_stat  capital_gains  capital_losses  \\\n",
       "266           Children or Armed Forces              0               0   \n",
       "330                Full-time schedules              0               0   \n",
       "1018               Full-time schedules              0               0   \n",
       "1222          Children or Armed Forces              0               0   \n",
       "2083    PT for econ reasons usually PT              0               0   \n",
       "\n",
       "      dividends_from_stocks        tax_filer_stat  \\\n",
       "266                       0                Single   \n",
       "330                       0   Joint both under 65   \n",
       "1018                    100   Joint both under 65   \n",
       "1222                      0   Joint both under 65   \n",
       "2083                    300     Head of household   \n",
       "\n",
       "     region_of_previous_residence state_of_previous_residence  \\\n",
       "266               Not in universe             Not in universe   \n",
       "330               Not in universe             Not in universe   \n",
       "1018              Not in universe             Not in universe   \n",
       "1222              Not in universe             Not in universe   \n",
       "2083              Not in universe             Not in universe   \n",
       "\n",
       "     detailed_household_and_family_stat  \\\n",
       "266               Nonfamily householder   \n",
       "330               Spouse of householder   \n",
       "1018              Spouse of householder   \n",
       "1222                        Householder   \n",
       "2083                        Householder   \n",
       "\n",
       "     detailed_household_summary_in_household  instance_weight  \\\n",
       "266                              Householder          2691.02   \n",
       "330                    Spouse of householder          1502.35   \n",
       "1018                   Spouse of householder           237.67   \n",
       "1222                             Householder          2872.93   \n",
       "2083                             Householder           328.11   \n",
       "\n",
       "     migration_code-change_in_msa migration_code-change_in_reg  \\\n",
       "266                      Nonmover                     Nonmover   \n",
       "330                             ?                            ?   \n",
       "1018                            ?                            ?   \n",
       "1222                     Nonmover                     Nonmover   \n",
       "2083                            ?                            ?   \n",
       "\n",
       "     migration_code-move_within_reg      live_in_this_house_1_year_ago  \\\n",
       "266                        Nonmover                                Yes   \n",
       "330                               ?   Not in universe under 1 year old   \n",
       "1018                              ?   Not in universe under 1 year old   \n",
       "1222                       Nonmover                                Yes   \n",
       "2083                              ?   Not in universe under 1 year old   \n",
       "\n",
       "     migration_prev_res_in_sunbelt  num_persons_worked_for_employer  \\\n",
       "266                Not in universe                                6   \n",
       "330                              ?                                6   \n",
       "1018                             ?                                6   \n",
       "1222               Not in universe                                2   \n",
       "2083                             ?                                6   \n",
       "\n",
       "     family_members_under_18 country_of_birth_father country_of_birth_mother  \\\n",
       "266          Not in universe           United-States                 Germany   \n",
       "330          Not in universe           United-States           United-States   \n",
       "1018         Not in universe           United-States           United-States   \n",
       "1222         Not in universe           United-States           United-States   \n",
       "2083         Not in universe           United-States           United-States   \n",
       "\n",
       "     country_of_birth_self                         citizenship  \\\n",
       "266          United-States   Native- Born in the United States   \n",
       "330          United-States   Native- Born in the United States   \n",
       "1018         United-States   Native- Born in the United States   \n",
       "1222         United-States   Native- Born in the United States   \n",
       "2083         United-States   Native- Born in the United States   \n",
       "\n",
       "     own_business_or_self_employed fill_inc_questionnaire_for_veteran's_admin  \\\n",
       "266                              0                            Not in universe   \n",
       "330                              0                            Not in universe   \n",
       "1018                             0                            Not in universe   \n",
       "1222                             0                            Not in universe   \n",
       "2083                             0                            Not in universe   \n",
       "\n",
       "     veterans_benefits  weeks_worked_in_year  year     target  \n",
       "266                  2                    52    94   - 50000.  \n",
       "330                  2                    52    95   - 50000.  \n",
       "1018                 2                    52    95    50000+.  \n",
       "1222                 2                    52    94   - 50000.  \n",
       "2083                 2                    52    95    50000+.  "
      ]
     },
     "execution_count": 16,
     "metadata": {},
     "output_type": "execute_result"
    }
   ],
   "source": [
    "train[train['wage_per_hour']>2000].head()"
   ]
  },
  {
   "cell_type": "markdown",
   "metadata": {},
   "source": [
    "The values in the 'wage_per_hour' column seem too high and hence I'm ignoring the columns for the analysis and modeling."
   ]
  },
  {
   "cell_type": "markdown",
   "metadata": {},
   "source": [
    "#### 2.3.2  Categorical columns"
   ]
  },
  {
   "cell_type": "code",
   "execution_count": 17,
   "metadata": {
    "collapsed": false
   },
   "outputs": [
    {
     "data": {
      "text/html": [
       "<div>\n",
       "<table border=\"1\" class=\"dataframe\">\n",
       "  <thead>\n",
       "    <tr style=\"text-align: right;\">\n",
       "      <th></th>\n",
       "      <th>class_of_worker</th>\n",
       "      <th>detailed_industry_recode</th>\n",
       "      <th>detailed_occupation_recode</th>\n",
       "      <th>education</th>\n",
       "      <th>enroll_in_edu_inst_last_wk</th>\n",
       "      <th>marital_stat</th>\n",
       "      <th>major_industry_code</th>\n",
       "      <th>major_occupation_code</th>\n",
       "      <th>race</th>\n",
       "      <th>hispanic_origin</th>\n",
       "      <th>sex</th>\n",
       "      <th>member_of_a_labor_union</th>\n",
       "      <th>reason_for_unemployment</th>\n",
       "      <th>full_or_part_time_employment_stat</th>\n",
       "      <th>tax_filer_stat</th>\n",
       "      <th>region_of_previous_residence</th>\n",
       "      <th>state_of_previous_residence</th>\n",
       "      <th>detailed_household_and_family_stat</th>\n",
       "      <th>detailed_household_summary_in_household</th>\n",
       "      <th>migration_code-change_in_msa</th>\n",
       "      <th>migration_code-change_in_reg</th>\n",
       "      <th>migration_code-move_within_reg</th>\n",
       "      <th>live_in_this_house_1_year_ago</th>\n",
       "      <th>migration_prev_res_in_sunbelt</th>\n",
       "      <th>family_members_under_18</th>\n",
       "      <th>country_of_birth_father</th>\n",
       "      <th>country_of_birth_mother</th>\n",
       "      <th>country_of_birth_self</th>\n",
       "      <th>citizenship</th>\n",
       "      <th>own_business_or_self_employed</th>\n",
       "      <th>fill_inc_questionnaire_for_veteran's_admin</th>\n",
       "      <th>veterans_benefits</th>\n",
       "      <th>target</th>\n",
       "    </tr>\n",
       "  </thead>\n",
       "  <tbody>\n",
       "    <tr>\n",
       "      <th>count</th>\n",
       "      <td>196294</td>\n",
       "      <td>196294</td>\n",
       "      <td>196294</td>\n",
       "      <td>196294</td>\n",
       "      <td>196294</td>\n",
       "      <td>196294</td>\n",
       "      <td>196294</td>\n",
       "      <td>196294</td>\n",
       "      <td>196294</td>\n",
       "      <td>196294</td>\n",
       "      <td>196294</td>\n",
       "      <td>196294</td>\n",
       "      <td>196294</td>\n",
       "      <td>196294</td>\n",
       "      <td>196294</td>\n",
       "      <td>196294</td>\n",
       "      <td>196294</td>\n",
       "      <td>196294</td>\n",
       "      <td>196294</td>\n",
       "      <td>196294</td>\n",
       "      <td>196294</td>\n",
       "      <td>196294</td>\n",
       "      <td>196294</td>\n",
       "      <td>196294</td>\n",
       "      <td>196294</td>\n",
       "      <td>196294</td>\n",
       "      <td>196294</td>\n",
       "      <td>196294</td>\n",
       "      <td>196294</td>\n",
       "      <td>196294</td>\n",
       "      <td>196294</td>\n",
       "      <td>196294</td>\n",
       "      <td>196294</td>\n",
       "    </tr>\n",
       "    <tr>\n",
       "      <th>unique</th>\n",
       "      <td>9</td>\n",
       "      <td>52</td>\n",
       "      <td>47</td>\n",
       "      <td>17</td>\n",
       "      <td>3</td>\n",
       "      <td>7</td>\n",
       "      <td>24</td>\n",
       "      <td>15</td>\n",
       "      <td>5</td>\n",
       "      <td>10</td>\n",
       "      <td>2</td>\n",
       "      <td>3</td>\n",
       "      <td>6</td>\n",
       "      <td>8</td>\n",
       "      <td>6</td>\n",
       "      <td>6</td>\n",
       "      <td>51</td>\n",
       "      <td>38</td>\n",
       "      <td>8</td>\n",
       "      <td>10</td>\n",
       "      <td>9</td>\n",
       "      <td>10</td>\n",
       "      <td>3</td>\n",
       "      <td>4</td>\n",
       "      <td>5</td>\n",
       "      <td>43</td>\n",
       "      <td>43</td>\n",
       "      <td>43</td>\n",
       "      <td>5</td>\n",
       "      <td>3</td>\n",
       "      <td>3</td>\n",
       "      <td>3</td>\n",
       "      <td>2</td>\n",
       "    </tr>\n",
       "    <tr>\n",
       "      <th>top</th>\n",
       "      <td>Not in universe</td>\n",
       "      <td>0</td>\n",
       "      <td>0</td>\n",
       "      <td>High school graduate</td>\n",
       "      <td>Not in universe</td>\n",
       "      <td>Married-civilian spouse present</td>\n",
       "      <td>Not in universe or children</td>\n",
       "      <td>Not in universe</td>\n",
       "      <td>White</td>\n",
       "      <td>All other</td>\n",
       "      <td>Female</td>\n",
       "      <td>Not in universe</td>\n",
       "      <td>Not in universe</td>\n",
       "      <td>Children or Armed Forces</td>\n",
       "      <td>Nonfiler</td>\n",
       "      <td>Not in universe</td>\n",
       "      <td>Not in universe</td>\n",
       "      <td>Householder</td>\n",
       "      <td>Householder</td>\n",
       "      <td>?</td>\n",
       "      <td>?</td>\n",
       "      <td>?</td>\n",
       "      <td>Not in universe under 1 year old</td>\n",
       "      <td>?</td>\n",
       "      <td>Not in universe</td>\n",
       "      <td>United-States</td>\n",
       "      <td>United-States</td>\n",
       "      <td>United-States</td>\n",
       "      <td>Native- Born in the United States</td>\n",
       "      <td>0</td>\n",
       "      <td>Not in universe</td>\n",
       "      <td>2</td>\n",
       "      <td>- 50000.</td>\n",
       "    </tr>\n",
       "    <tr>\n",
       "      <th>freq</th>\n",
       "      <td>97029</td>\n",
       "      <td>97467</td>\n",
       "      <td>97467</td>\n",
       "      <td>48374</td>\n",
       "      <td>183762</td>\n",
       "      <td>84194</td>\n",
       "      <td>97467</td>\n",
       "      <td>97467</td>\n",
       "      <td>164380</td>\n",
       "      <td>168803</td>\n",
       "      <td>102400</td>\n",
       "      <td>177232</td>\n",
       "      <td>190226</td>\n",
       "      <td>120632</td>\n",
       "      <td>71903</td>\n",
       "      <td>180562</td>\n",
       "      <td>180562</td>\n",
       "      <td>53242</td>\n",
       "      <td>75461</td>\n",
       "      <td>98015</td>\n",
       "      <td>98015</td>\n",
       "      <td>98015</td>\n",
       "      <td>99434</td>\n",
       "      <td>98015</td>\n",
       "      <td>144161</td>\n",
       "      <td>156037</td>\n",
       "      <td>157355</td>\n",
       "      <td>173783</td>\n",
       "      <td>173786</td>\n",
       "      <td>177445</td>\n",
       "      <td>194310</td>\n",
       "      <td>149976</td>\n",
       "      <td>183912</td>\n",
       "    </tr>\n",
       "  </tbody>\n",
       "</table>\n",
       "</div>"
      ],
      "text/plain": [
       "         class_of_worker  detailed_industry_recode  \\\n",
       "count             196294                    196294   \n",
       "unique                 9                        52   \n",
       "top      Not in universe                         0   \n",
       "freq               97029                     97467   \n",
       "\n",
       "        detailed_occupation_recode              education  \\\n",
       "count                       196294                 196294   \n",
       "unique                          47                     17   \n",
       "top                              0   High school graduate   \n",
       "freq                         97467                  48374   \n",
       "\n",
       "       enroll_in_edu_inst_last_wk                      marital_stat  \\\n",
       "count                      196294                            196294   \n",
       "unique                          3                                 7   \n",
       "top               Not in universe   Married-civilian spouse present   \n",
       "freq                       183762                             84194   \n",
       "\n",
       "                 major_industry_code major_occupation_code    race  \\\n",
       "count                         196294                196294  196294   \n",
       "unique                            24                    15       5   \n",
       "top      Not in universe or children       Not in universe   White   \n",
       "freq                           97467                 97467  164380   \n",
       "\n",
       "       hispanic_origin      sex member_of_a_labor_union  \\\n",
       "count           196294   196294                  196294   \n",
       "unique              10        2                       3   \n",
       "top          All other   Female         Not in universe   \n",
       "freq            168803   102400                  177232   \n",
       "\n",
       "       reason_for_unemployment full_or_part_time_employment_stat  \\\n",
       "count                   196294                            196294   \n",
       "unique                       6                                 8   \n",
       "top            Not in universe          Children or Armed Forces   \n",
       "freq                    190226                            120632   \n",
       "\n",
       "       tax_filer_stat region_of_previous_residence  \\\n",
       "count          196294                       196294   \n",
       "unique              6                            6   \n",
       "top          Nonfiler              Not in universe   \n",
       "freq            71903                       180562   \n",
       "\n",
       "       state_of_previous_residence detailed_household_and_family_stat  \\\n",
       "count                       196294                             196294   \n",
       "unique                          51                                 38   \n",
       "top                Not in universe                        Householder   \n",
       "freq                        180562                              53242   \n",
       "\n",
       "       detailed_household_summary_in_household migration_code-change_in_msa  \\\n",
       "count                                   196294                       196294   \n",
       "unique                                       8                           10   \n",
       "top                                Householder                            ?   \n",
       "freq                                     75461                        98015   \n",
       "\n",
       "       migration_code-change_in_reg migration_code-move_within_reg  \\\n",
       "count                        196294                         196294   \n",
       "unique                            9                             10   \n",
       "top                               ?                              ?   \n",
       "freq                          98015                          98015   \n",
       "\n",
       "            live_in_this_house_1_year_ago migration_prev_res_in_sunbelt  \\\n",
       "count                              196294                        196294   \n",
       "unique                                  3                             4   \n",
       "top      Not in universe under 1 year old                             ?   \n",
       "freq                                99434                         98015   \n",
       "\n",
       "       family_members_under_18 country_of_birth_father  \\\n",
       "count                   196294                  196294   \n",
       "unique                       5                      43   \n",
       "top            Not in universe           United-States   \n",
       "freq                    144161                  156037   \n",
       "\n",
       "       country_of_birth_mother country_of_birth_self  \\\n",
       "count                   196294                196294   \n",
       "unique                      43                    43   \n",
       "top              United-States         United-States   \n",
       "freq                    157355                173783   \n",
       "\n",
       "                               citizenship  own_business_or_self_employed  \\\n",
       "count                               196294                         196294   \n",
       "unique                                   5                              3   \n",
       "top      Native- Born in the United States                              0   \n",
       "freq                                173786                         177445   \n",
       "\n",
       "       fill_inc_questionnaire_for_veteran's_admin  veterans_benefits  \\\n",
       "count                                      196294             196294   \n",
       "unique                                          3                  3   \n",
       "top                               Not in universe                  2   \n",
       "freq                                       194310             149976   \n",
       "\n",
       "           target  \n",
       "count      196294  \n",
       "unique          2  \n",
       "top      - 50000.  \n",
       "freq       183912  "
      ]
     },
     "execution_count": 17,
     "metadata": {},
     "output_type": "execute_result"
    }
   ],
   "source": [
    "train.describe(include = ['O'])"
   ]
  },
  {
   "cell_type": "code",
   "execution_count": 18,
   "metadata": {
    "collapsed": false
   },
   "outputs": [
    {
     "data": {
      "text/plain": [
       " ?                   98015\n",
       " Nonmover            81128\n",
       " MSA to MSA          10572\n",
       " NonMSA to nonMSA     2802\n",
       " Not in universe      1419\n",
       " MSA to nonMSA         787\n",
       " NonMSA to MSA         615\n",
       " Abroad to MSA         453\n",
       " Not identifiable      430\n",
       " Abroad to nonMSA       73\n",
       "Name: migration_code-change_in_msa, dtype: int64"
      ]
     },
     "execution_count": 18,
     "metadata": {},
     "output_type": "execute_result"
    }
   ],
   "source": [
    "train['migration_code-change_in_msa'].value_counts()"
   ]
  },
  {
   "cell_type": "code",
   "execution_count": 19,
   "metadata": {
    "collapsed": false
   },
   "outputs": [
    {
     "data": {
      "text/plain": [
       " ?                                 98015\n",
       " Nonmover                          81128\n",
       " Same county                        9779\n",
       " Different county same state        2792\n",
       " Not in universe                    1419\n",
       " Different region                   1178\n",
       " Different state same division       990\n",
       " Abroad                              530\n",
       " Different division same region      463\n",
       "Name: migration_code-change_in_reg, dtype: int64"
      ]
     },
     "execution_count": 19,
     "metadata": {},
     "output_type": "execute_result"
    }
   ],
   "source": [
    "train['migration_code-change_in_reg'].value_counts()"
   ]
  },
  {
   "cell_type": "code",
   "execution_count": 20,
   "metadata": {
    "collapsed": false
   },
   "outputs": [
    {
     "data": {
      "text/plain": [
       " ?                               98015\n",
       " Nonmover                        81128\n",
       " Same county                      9779\n",
       " Different county same state      2792\n",
       " Not in universe                  1419\n",
       " Different state in South          972\n",
       " Different state in West           678\n",
       " Different state in Midwest        551\n",
       " Abroad                            530\n",
       " Different state in Northeast      430\n",
       "Name: migration_code-move_within_reg, dtype: int64"
      ]
     },
     "execution_count": 20,
     "metadata": {},
     "output_type": "execute_result"
    }
   ],
   "source": [
    "train['migration_code-move_within_reg'].value_counts()"
   ]
  },
  {
   "cell_type": "markdown",
   "metadata": {},
   "source": [
    "### 2.4 Checking variation in target across years"
   ]
  },
  {
   "cell_type": "code",
   "execution_count": 21,
   "metadata": {
    "collapsed": false
   },
   "outputs": [
    {
     "data": {
      "text/html": [
       "<div>\n",
       "<table border=\"1\" class=\"dataframe\">\n",
       "  <thead>\n",
       "    <tr style=\"text-align: right;\">\n",
       "      <th>year</th>\n",
       "      <th>94</th>\n",
       "      <th>95</th>\n",
       "    </tr>\n",
       "    <tr>\n",
       "      <th>target</th>\n",
       "      <th></th>\n",
       "      <th></th>\n",
       "    </tr>\n",
       "  </thead>\n",
       "  <tbody>\n",
       "    <tr>\n",
       "      <th>- 50000.</th>\n",
       "      <td>92440</td>\n",
       "      <td>91472</td>\n",
       "    </tr>\n",
       "    <tr>\n",
       "      <th>50000+.</th>\n",
       "      <td>5839</td>\n",
       "      <td>6543</td>\n",
       "    </tr>\n",
       "  </tbody>\n",
       "</table>\n",
       "</div>"
      ],
      "text/plain": [
       "year          94     95\n",
       "target                 \n",
       " - 50000.  92440  91472\n",
       " 50000+.    5839   6543"
      ]
     },
     "execution_count": 21,
     "metadata": {},
     "output_type": "execute_result"
    }
   ],
   "source": [
    "pd.crosstab(train['target'],train['year'])"
   ]
  },
  {
   "cell_type": "markdown",
   "metadata": {},
   "source": [
    "### 2.5 Checking if categorical variables match in training and test set"
   ]
  },
  {
   "cell_type": "code",
   "execution_count": 22,
   "metadata": {
    "collapsed": false
   },
   "outputs": [
    {
     "name": "stdout",
     "output_type": "stream",
     "text": [
      "Categorical variables match in train and test sets.\n"
     ]
    }
   ],
   "source": [
    "columns = []\n",
    "for column in train.columns.values:\n",
    "    if train[column].dtypes == 'object':\n",
    "        if train[column].unique().sort() != test[column].unique().sort():\n",
    "            columns.append(column)\n",
    "\n",
    "if columns == []:\n",
    "    print \"Categorical variables match in train and test sets.\"\n",
    "else:\n",
    "    print columns"
   ]
  },
  {
   "cell_type": "markdown",
   "metadata": {},
   "source": [
    "## 3. Preprocessing"
   ]
  },
  {
   "cell_type": "markdown",
   "metadata": {},
   "source": [
    "### 3.1 Removing unwanted columns based on exploratory data analysis"
   ]
  },
  {
   "cell_type": "code",
   "execution_count": 23,
   "metadata": {
    "collapsed": false
   },
   "outputs": [],
   "source": [
    "remove_cols = ['age',\n",
    "               'detailed_industry_recode',\n",
    "               'detailed_occupation_recode',\n",
    "               'instance_weight',\n",
    "               'state_of_previous_residence',\n",
    "               'detailed_household_and_family_stat',\n",
    "               'migration_code-change_in_msa',\n",
    "               'migration_code-change_in_reg',\n",
    "               'migration_code-move_within_reg',\n",
    "               'migration_prev_res_in_sunbelt',\n",
    "               'wage_per_hour',\n",
    "               'country_of_birth_self',\n",
    "               'country_of_birth_father',\n",
    "               'country_of_birth_mother',\n",
    "               'year']\n",
    "\n",
    "train.drop(remove_cols, axis = 1, inplace = True)\n",
    "test.drop(remove_cols[1:], axis = 1, inplace = True)"
   ]
  },
  {
   "cell_type": "code",
   "execution_count": 24,
   "metadata": {
    "collapsed": false
   },
   "outputs": [
    {
     "name": "stdout",
     "output_type": "stream",
     "text": [
      "(196294, 27)\n",
      "(98446, 27)\n"
     ]
    }
   ],
   "source": [
    "print train.shape\n",
    "print test.shape"
   ]
  },
  {
   "cell_type": "markdown",
   "metadata": {},
   "source": [
    "### 3.2 Preparing data for modeling"
   ]
  },
  {
   "cell_type": "code",
   "execution_count": 25,
   "metadata": {
    "collapsed": false
   },
   "outputs": [],
   "source": [
    "from sklearn.preprocessing import LabelEncoder\n",
    "target = 'target'\n",
    "continous_feat = [col for col in train.columns.values if train[col].dtype == 'int64' or  train[col].dtype == 'float64']\n",
    "categorical_feat = [col for col in train.columns.values if train[col].dtype == \"object\" and col != 'target']\n",
    "\n",
    "flf = LabelEncoder()\n",
    "train[target] = flf.fit_transform(train[target])\n",
    "test[target] = flf.fit_transform(test[target])"
   ]
  },
  {
   "cell_type": "code",
   "execution_count": 26,
   "metadata": {
    "collapsed": true
   },
   "outputs": [],
   "source": [
    "X_train = pd.concat([pd.get_dummies(train[categorical_feat]), train[continous_feat]], axis = 1)\n",
    "X_test = pd.concat([pd.get_dummies(test[categorical_feat]), test[continous_feat]], axis = 1)\n",
    "y_train = train[target]\n",
    "y_test = test[target]"
   ]
  },
  {
   "cell_type": "markdown",
   "metadata": {},
   "source": [
    "## 4. Modeling"
   ]
  },
  {
   "cell_type": "code",
   "execution_count": 27,
   "metadata": {
    "collapsed": true
   },
   "outputs": [],
   "source": [
    "from sklearn.cross_validation import StratifiedKFold, cross_val_score\n",
    "from sklearn.tree import DecisionTreeClassifier\n",
    "from sklearn.ensemble import RandomForestClassifier\n",
    "from sklearn.metrics import confusion_matrix, classification_report, accuracy_score, roc_curve, auc, roc_auc_score\n",
    "from sklearn.grid_search import GridSearchCV"
   ]
  },
  {
   "cell_type": "markdown",
   "metadata": {},
   "source": [
    "### 4.1 Functions"
   ]
  },
  {
   "cell_type": "code",
   "execution_count": 28,
   "metadata": {
    "collapsed": true
   },
   "outputs": [],
   "source": [
    "def plot_roc(false_positive_rate, true_positive_rate, auc):\n",
    "    plt.title(\"ROC Curve\")\n",
    "    plt.plot(false_positive_rate, true_positive_rate, 'b', label = 'AUC = %f' % auc)\n",
    "    plt.legend(loc = 'lower right')\n",
    "    plt.plot([0,1],[0,1],'r--')\n",
    "    plt.xlim([0,1])\n",
    "    plt.ylim([0,1])\n",
    "    plt.ylabel('True Positive Rate')\n",
    "    plt.xlabel('False Positive Rate')\n",
    "    plt.show()\n",
    "    \n",
    "def liftchart(y, y_pred):\n",
    "    df = pd.DataFrame({'y':y,'y_pred':y_pred})\n",
    "    df.sort_values('y_pred',ascending = False, inplace = True)\n",
    "    base = df['y'].sum()/float(len(y))\n",
    "    lift_chart = []\n",
    "    for i in range(1,11):\n",
    "        n = i*len(y)/10\n",
    "        sub = df.iloc[:n,:]\n",
    "        lift_chart.append(sub['y'].sum()/float(n)/base)\n",
    "     \n",
    "    df_lift_chart = pd.DataFrame(lift_chart, index = np.linspace(0.1,1,10))\n",
    "    return df_lift_chart\n",
    "\n",
    "def precision_top_n(y,y_pred,n_list):\n",
    "    correct = []\n",
    "    df = pd.DataFrame({'y':y,'y_pred':y_pred})\n",
    "    df.sort_values('y_pred',ascending = False, inplace = True)\n",
    "    for n in n_list:\n",
    "        sub = df.iloc[:n,:]\n",
    "        correct.append(sub['y'].sum())\n",
    "\n",
    "    precision = pd.DataFrame({'Count' : n_list, 'True' : correct})\n",
    "    precision['Precision'] = precision['True']/precision['Count']*100\n",
    "    return precision"
   ]
  },
  {
   "cell_type": "markdown",
   "metadata": {},
   "source": [
    "### 4.2 Decision Tree Model"
   ]
  },
  {
   "cell_type": "markdown",
   "metadata": {},
   "source": [
    "#### 4.2.1 Grid search to choose best decision tree hyper-parameters"
   ]
  },
  {
   "cell_type": "code",
   "execution_count": 29,
   "metadata": {
    "collapsed": false
   },
   "outputs": [
    {
     "name": "stderr",
     "output_type": "stream",
     "text": [
      "[Parallel(n_jobs=-1)]: Done  42 tasks      | elapsed:   25.7s\n",
      "[Parallel(n_jobs=-1)]: Done 192 tasks      | elapsed:  1.5min\n",
      "[Parallel(n_jobs=-1)]: Done 442 tasks      | elapsed:  3.4min\n",
      "[Parallel(n_jobs=-1)]: Done 792 tasks      | elapsed:  6.5min\n",
      "[Parallel(n_jobs=-1)]: Done 1080 out of 1080 | elapsed:  9.2min finished\n"
     ]
    },
    {
     "name": "stdout",
     "output_type": "stream",
     "text": [
      "Fitting 3 folds for each of 360 candidates, totalling 1080 fits\n"
     ]
    },
    {
     "data": {
      "text/plain": [
       "GridSearchCV(cv=None, error_score='raise',\n",
       "       estimator=DecisionTreeClassifier(class_weight='balanced', criterion='gini',\n",
       "            max_depth=None, max_features=None, max_leaf_nodes=None,\n",
       "            min_samples_leaf=1, min_samples_split=2,\n",
       "            min_weight_fraction_leaf=0.0, presort=False, random_state=None,\n",
       "            splitter='best'),\n",
       "       fit_params={}, iid=True, n_jobs=-1,\n",
       "       param_grid={'max_features': [3, 4, 5, 6, 7, 8, 9, 10, 11, 12, 13, 14, 15, 16, 17, 18, 19, 20, 21, 22, 23, 24, 25, 26], 'max_depth': [5, 6, 7, 8, 9, 10, 11, 12, 13, 14, 15, 16, 17, 18, 19]},\n",
       "       pre_dispatch='2*n_jobs', refit=True, scoring='roc_auc', verbose=1)"
      ]
     },
     "execution_count": 29,
     "metadata": {},
     "output_type": "execute_result"
    }
   ],
   "source": [
    "glf = GridSearchCV(DecisionTreeClassifier(class_weight = 'balanced'),\n",
    "                       param_grid = {'max_features': range(3,27),\n",
    "                                     'max_depth' : range(5,20)},\n",
    "                       scoring = 'roc_auc',\n",
    "                       n_jobs = -1,\n",
    "                       verbose = 1)\n",
    "glf.fit(X_train,y_train)    "
   ]
  },
  {
   "cell_type": "code",
   "execution_count": 30,
   "metadata": {
    "collapsed": false
   },
   "outputs": [
    {
     "name": "stdout",
     "output_type": "stream",
     "text": [
      "{'max_features': 24, 'max_depth': 10} 0.905697630304\n"
     ]
    }
   ],
   "source": [
    "print glf.best_params_, glf.best_score_\n",
    "clf1 = glf.best_estimator_"
   ]
  },
  {
   "cell_type": "markdown",
   "metadata": {},
   "source": [
    "#### 4.2.2 Model Training - Decision Tree"
   ]
  },
  {
   "cell_type": "code",
   "execution_count": 31,
   "metadata": {
    "collapsed": false
   },
   "outputs": [
    {
     "data": {
      "text/plain": [
       "DecisionTreeClassifier(class_weight='balanced', criterion='gini',\n",
       "            max_depth=None, max_features=None, max_leaf_nodes=None,\n",
       "            min_samples_leaf=1, min_samples_split=2,\n",
       "            min_weight_fraction_leaf=0.0, presort=False, random_state=1000,\n",
       "            splitter='best')"
      ]
     },
     "execution_count": 31,
     "metadata": {},
     "output_type": "execute_result"
    }
   ],
   "source": [
    "clf1 = DecisionTreeClassifier(class_weight = 'balanced',random_state = 1000)\n",
    "clf1.fit(X_train, y_train)"
   ]
  },
  {
   "cell_type": "markdown",
   "metadata": {},
   "source": [
    "#### 4.2.3 Model Predictions - Decision Tree"
   ]
  },
  {
   "cell_type": "code",
   "execution_count": 32,
   "metadata": {
    "collapsed": true
   },
   "outputs": [],
   "source": [
    "y_pred_class = clf1.predict(X_test)\n",
    "y_pred_proba = clf1.predict_proba(X_test)[:,1]"
   ]
  },
  {
   "cell_type": "markdown",
   "metadata": {},
   "source": [
    "#### 4.2.3 Model Performance - Decision Tree"
   ]
  },
  {
   "cell_type": "markdown",
   "metadata": {},
   "source": [
    "Baseline Accuracy (If we only predict majority class)"
   ]
  },
  {
   "cell_type": "code",
   "execution_count": 33,
   "metadata": {
    "collapsed": false
   },
   "outputs": [
    {
     "data": {
      "text/plain": [
       "0.93717367897121262"
      ]
     },
     "execution_count": 33,
     "metadata": {},
     "output_type": "execute_result"
    }
   ],
   "source": [
    "accuracy_score(y_test, np.zeros_like(y_test))"
   ]
  },
  {
   "cell_type": "markdown",
   "metadata": {},
   "source": [
    "Accuracy - Test Set"
   ]
  },
  {
   "cell_type": "code",
   "execution_count": 34,
   "metadata": {
    "collapsed": false
   },
   "outputs": [
    {
     "data": {
      "text/plain": [
       "0.92169311094407091"
      ]
     },
     "execution_count": 34,
     "metadata": {},
     "output_type": "execute_result"
    }
   ],
   "source": [
    "accuracy_score(y_test, y_pred_class)"
   ]
  },
  {
   "cell_type": "markdown",
   "metadata": {},
   "source": [
    "AUC - Cross-validated"
   ]
  },
  {
   "cell_type": "code",
   "execution_count": 35,
   "metadata": {
    "collapsed": false
   },
   "outputs": [
    {
     "name": "stdout",
     "output_type": "stream",
     "text": [
      "0.71267964483 0.00486704352577\n"
     ]
    }
   ],
   "source": [
    "stratification = StratifiedKFold(y_train,n_folds = 5)\n",
    "scores = cross_val_score(clf1, X_train, y_train, scoring = 'roc_auc', cv = stratification, n_jobs = -1)\n",
    "print np.mean(scores), np.std(scores)"
   ]
  },
  {
   "cell_type": "markdown",
   "metadata": {},
   "source": [
    "AUC - Test Set"
   ]
  },
  {
   "cell_type": "code",
   "execution_count": 36,
   "metadata": {
    "collapsed": false
   },
   "outputs": [
    {
     "data": {
      "image/png": "[encoded data removed]",
      "text/plain": [
       "<matplotlib.figure.Figure at 0xebc51d0>"
      ]
     },
     "metadata": {},
     "output_type": "display_data"
    }
   ],
   "source": [
    "false_positive_rate, true_positive_rate, thresholds = roc_curve(y_test, y_pred_proba)\n",
    "roc_auc = auc(false_positive_rate, true_positive_rate)\n",
    "plot_roc(false_positive_rate, true_positive_rate, roc_auc)"
   ]
  },
  {
   "cell_type": "markdown",
   "metadata": {},
   "source": [
    "### 4.3 Random Forest Model"
   ]
  },
  {
   "cell_type": "markdown",
   "metadata": {},
   "source": [
    "#### 4.3.1 Model Training"
   ]
  },
  {
   "cell_type": "code",
   "execution_count": 37,
   "metadata": {
    "collapsed": false
   },
   "outputs": [
    {
     "data": {
      "text/plain": [
       "RandomForestClassifier(bootstrap=True, class_weight='balanced',\n",
       "            criterion='gini', max_depth=None, max_features='auto',\n",
       "            max_leaf_nodes=None, min_samples_leaf=1, min_samples_split=2,\n",
       "            min_weight_fraction_leaf=0.0, n_estimators=100, n_jobs=-1,\n",
       "            oob_score=False, random_state=1000, verbose=0,\n",
       "            warm_start=False)"
      ]
     },
     "execution_count": 37,
     "metadata": {},
     "output_type": "execute_result"
    }
   ],
   "source": [
    "clf2 = RandomForestClassifier(n_estimators = 100, class_weight = 'balanced', n_jobs = -1, random_state = 1000)\n",
    "clf2.fit(X_train, y_train)"
   ]
  },
  {
   "cell_type": "markdown",
   "metadata": {},
   "source": [
    "#### 4.3.2 Making Predictions"
   ]
  },
  {
   "cell_type": "code",
   "execution_count": 38,
   "metadata": {
    "collapsed": false
   },
   "outputs": [],
   "source": [
    "y_pred_class = clf2.predict(X_test)\n",
    "y_pred_proba = clf2.predict_proba(X_test)[:,1]"
   ]
  },
  {
   "cell_type": "markdown",
   "metadata": {},
   "source": [
    "#### 4.3.3 Model Performance"
   ]
  },
  {
   "cell_type": "markdown",
   "metadata": {
    "collapsed": true
   },
   "source": [
    "Baseline Accuracy (If we only predict majority class)"
   ]
  },
  {
   "cell_type": "code",
   "execution_count": 39,
   "metadata": {
    "collapsed": false
   },
   "outputs": [
    {
     "data": {
      "text/plain": [
       "0.93717367897121262"
      ]
     },
     "execution_count": 39,
     "metadata": {},
     "output_type": "execute_result"
    }
   ],
   "source": [
    "accuracy_score(y_test, np.zeros_like(y_test))"
   ]
  },
  {
   "cell_type": "markdown",
   "metadata": {},
   "source": [
    "Confusion Matrix"
   ]
  },
  {
   "cell_type": "code",
   "execution_count": 40,
   "metadata": {
    "collapsed": false
   },
   "outputs": [
    {
     "data": {
      "text/plain": [
       "array([[90363,  1898],\n",
       "       [ 3555,  2630]])"
      ]
     },
     "execution_count": 40,
     "metadata": {},
     "output_type": "execute_result"
    }
   ],
   "source": [
    "confusion_matrix(y_test, y_pred_class)"
   ]
  },
  {
   "cell_type": "markdown",
   "metadata": {},
   "source": [
    "Accuracy - Test Set"
   ]
  },
  {
   "cell_type": "code",
   "execution_count": 41,
   "metadata": {
    "collapsed": false
   },
   "outputs": [
    {
     "data": {
      "text/plain": [
       "0.94460922739369801"
      ]
     },
     "execution_count": 41,
     "metadata": {},
     "output_type": "execute_result"
    }
   ],
   "source": [
    "accuracy_score(y_test, y_pred_class)"
   ]
  },
  {
   "cell_type": "markdown",
   "metadata": {},
   "source": [
    "Classification Report - Test Set"
   ]
  },
  {
   "cell_type": "code",
   "execution_count": 42,
   "metadata": {
    "collapsed": false
   },
   "outputs": [
    {
     "name": "stdout",
     "output_type": "stream",
     "text": [
      "             precision    recall  f1-score   support\n",
      "\n",
      "          0       0.96      0.98      0.97     92261\n",
      "          1       0.58      0.43      0.49      6185\n",
      "\n",
      "avg / total       0.94      0.94      0.94     98446\n",
      "\n"
     ]
    }
   ],
   "source": [
    "print classification_report(y_test, y_pred_class)"
   ]
  },
  {
   "cell_type": "markdown",
   "metadata": {},
   "source": [
    "AUC - Cross-validated"
   ]
  },
  {
   "cell_type": "code",
   "execution_count": 43,
   "metadata": {
    "collapsed": false
   },
   "outputs": [
    {
     "name": "stdout",
     "output_type": "stream",
     "text": [
      "0.919197433691 0.00419371147155\n"
     ]
    }
   ],
   "source": [
    "stratification = StratifiedKFold(y_train,n_folds = 5)\n",
    "scores = cross_val_score(clf2, X_train, y_train, scoring = 'roc_auc', cv = stratification, n_jobs = -1)\n",
    "print np.mean(scores), np.std(scores)"
   ]
  },
  {
   "cell_type": "markdown",
   "metadata": {},
   "source": [
    "AUC - Test Set"
   ]
  },
  {
   "cell_type": "code",
   "execution_count": 44,
   "metadata": {
    "collapsed": false
   },
   "outputs": [
    {
     "data": {
      "image/png": "[encoded data removed]",
      "text/plain": [
       "<matplotlib.figure.Figure at 0xfbb8f60>"
      ]
     },
     "metadata": {},
     "output_type": "display_data"
    }
   ],
   "source": [
    "false_positive_rate, true_positive_rate, thresholds = roc_curve(y_test, y_pred_proba)\n",
    "roc_auc = auc(false_positive_rate, true_positive_rate)\n",
    "plot_roc(false_positive_rate, true_positive_rate, roc_auc)"
   ]
  },
  {
   "cell_type": "markdown",
   "metadata": {},
   "source": [
    "Lift Chart - Test Set"
   ]
  },
  {
   "cell_type": "code",
   "execution_count": 45,
   "metadata": {
    "collapsed": false
   },
   "outputs": [
    {
     "data": {
      "text/plain": [
       "<matplotlib.text.Text at 0xe3bd4a8>"
      ]
     },
     "execution_count": 45,
     "metadata": {},
     "output_type": "execute_result"
    },
    {
     "data": {
      "image/png": "[encoded data removed]",
      "text/plain": [
       "<matplotlib.figure.Figure at 0x10ca6f28>"
      ]
     },
     "metadata": {},
     "output_type": "display_data"
    }
   ],
   "source": [
    "liftchart(y_test,y_pred_proba).plot(kind = 'bar')\n",
    "plt.title(\"Lift Chart\")"
   ]
  },
  {
   "cell_type": "markdown",
   "metadata": {},
   "source": [
    "Top N Precision"
   ]
  },
  {
   "cell_type": "code",
   "execution_count": 46,
   "metadata": {
    "collapsed": false
   },
   "outputs": [
    {
     "data": {
      "text/html": [
       "<div>\n",
       "<table border=\"1\" class=\"dataframe\">\n",
       "  <thead>\n",
       "    <tr style=\"text-align: right;\">\n",
       "      <th></th>\n",
       "      <th>Count</th>\n",
       "      <th>True</th>\n",
       "      <th>Precision</th>\n",
       "    </tr>\n",
       "  </thead>\n",
       "  <tbody>\n",
       "    <tr>\n",
       "      <th>0</th>\n",
       "      <td>10</td>\n",
       "      <td>6</td>\n",
       "      <td>60.000000</td>\n",
       "    </tr>\n",
       "    <tr>\n",
       "      <th>1</th>\n",
       "      <td>50</td>\n",
       "      <td>43</td>\n",
       "      <td>86.000000</td>\n",
       "    </tr>\n",
       "    <tr>\n",
       "      <th>2</th>\n",
       "      <td>100</td>\n",
       "      <td>83</td>\n",
       "      <td>83.000000</td>\n",
       "    </tr>\n",
       "    <tr>\n",
       "      <th>3</th>\n",
       "      <td>500</td>\n",
       "      <td>413</td>\n",
       "      <td>82.600000</td>\n",
       "    </tr>\n",
       "    <tr>\n",
       "      <th>4</th>\n",
       "      <td>1000</td>\n",
       "      <td>783</td>\n",
       "      <td>78.300000</td>\n",
       "    </tr>\n",
       "    <tr>\n",
       "      <th>5</th>\n",
       "      <td>5000</td>\n",
       "      <td>2832</td>\n",
       "      <td>56.640000</td>\n",
       "    </tr>\n",
       "    <tr>\n",
       "      <th>6</th>\n",
       "      <td>7000</td>\n",
       "      <td>3498</td>\n",
       "      <td>49.971429</td>\n",
       "    </tr>\n",
       "    <tr>\n",
       "      <th>7</th>\n",
       "      <td>10000</td>\n",
       "      <td>4262</td>\n",
       "      <td>42.620000</td>\n",
       "    </tr>\n",
       "    <tr>\n",
       "      <th>8</th>\n",
       "      <td>50000</td>\n",
       "      <td>5999</td>\n",
       "      <td>11.998000</td>\n",
       "    </tr>\n",
       "    <tr>\n",
       "      <th>9</th>\n",
       "      <td>98446</td>\n",
       "      <td>6185</td>\n",
       "      <td>6.282632</td>\n",
       "    </tr>\n",
       "  </tbody>\n",
       "</table>\n",
       "</div>"
      ],
      "text/plain": [
       "   Count  True  Precision\n",
       "0     10     6  60.000000\n",
       "1     50    43  86.000000\n",
       "2    100    83  83.000000\n",
       "3    500   413  82.600000\n",
       "4   1000   783  78.300000\n",
       "5   5000  2832  56.640000\n",
       "6   7000  3498  49.971429\n",
       "7  10000  4262  42.620000\n",
       "8  50000  5999  11.998000\n",
       "9  98446  6185   6.282632"
      ]
     },
     "execution_count": 46,
     "metadata": {},
     "output_type": "execute_result"
    }
   ],
   "source": [
    "breaks = [10,50,100,500,1000,5000,7000,10000,50000,len(y_test)]\n",
    "precision_top_n(y_test,y_pred_proba,breaks)"
   ]
  },
  {
   "cell_type": "markdown",
   "metadata": {},
   "source": [
    "#### 4.3.4 Feature Importance"
   ]
  },
  {
   "cell_type": "code",
   "execution_count": 48,
   "metadata": {
    "collapsed": false
   },
   "outputs": [
    {
     "data": {
      "text/plain": [
       "<matplotlib.text.Text at 0x358e1b38>"
      ]
     },
     "execution_count": 48,
     "metadata": {},
     "output_type": "execute_result"
    },
    {
     "data": {
      "image/png": "[encoded data removed]",
      "text/plain": [
       "<matplotlib.figure.Figure at 0x355419b0>"
      ]
     },
     "metadata": {},
     "output_type": "display_data"
    }
   ],
   "source": [
    "features = X_train.columns.values\n",
    "pd.DataFrame({'Features':features,'Importance':clf2.feature_importances_}).sort_values(\n",
    "by = 'Importance',ascending = False).head(10).set_index(\"Features\").plot(kind = \"bar\")\n",
    "plt.title(\"Feature Importance\")"
   ]
  },
  {
   "cell_type": "code",
   "execution_count": 51,
   "metadata": {
    "collapsed": false
   },
   "outputs": [
    {
     "data": {
      "text/html": [
       "<div>\n",
       "<table border=\"1\" class=\"dataframe\">\n",
       "  <thead>\n",
       "    <tr style=\"text-align: right;\">\n",
       "      <th></th>\n",
       "      <th>Importance</th>\n",
       "    </tr>\n",
       "    <tr>\n",
       "      <th>Features</th>\n",
       "      <th></th>\n",
       "    </tr>\n",
       "  </thead>\n",
       "  <tbody>\n",
       "    <tr>\n",
       "      <th>dividends_from_stocks</th>\n",
       "      <td>0.080196</td>\n",
       "    </tr>\n",
       "    <tr>\n",
       "      <th>weeks_worked_in_year</th>\n",
       "      <td>0.075135</td>\n",
       "    </tr>\n",
       "    <tr>\n",
       "      <th>num_persons_worked_for_employer</th>\n",
       "      <td>0.061586</td>\n",
       "    </tr>\n",
       "    <tr>\n",
       "      <th>major_occupation_code_ Not in universe</th>\n",
       "      <td>0.040559</td>\n",
       "    </tr>\n",
       "    <tr>\n",
       "      <th>capital_gains</th>\n",
       "      <td>0.038525</td>\n",
       "    </tr>\n",
       "    <tr>\n",
       "      <th>major_industry_code_ Not in universe or children</th>\n",
       "      <td>0.037404</td>\n",
       "    </tr>\n",
       "    <tr>\n",
       "      <th>tax_filer_stat_ Nonfiler</th>\n",
       "      <td>0.031271</td>\n",
       "    </tr>\n",
       "    <tr>\n",
       "      <th>detailed_household_summary_in_household_ Householder</th>\n",
       "      <td>0.031056</td>\n",
       "    </tr>\n",
       "    <tr>\n",
       "      <th>sex_ Female</th>\n",
       "      <td>0.026377</td>\n",
       "    </tr>\n",
       "    <tr>\n",
       "      <th>class_of_worker_ Not in universe</th>\n",
       "      <td>0.024095</td>\n",
       "    </tr>\n",
       "    <tr>\n",
       "      <th>sex_ Male</th>\n",
       "      <td>0.023962</td>\n",
       "    </tr>\n",
       "    <tr>\n",
       "      <th>marital_stat_ Married-civilian spouse present</th>\n",
       "      <td>0.020390</td>\n",
       "    </tr>\n",
       "    <tr>\n",
       "      <th>major_occupation_code_ Executive admin and managerial</th>\n",
       "      <td>0.019113</td>\n",
       "    </tr>\n",
       "    <tr>\n",
       "      <th>marital_stat_ Never married</th>\n",
       "      <td>0.018448</td>\n",
       "    </tr>\n",
       "    <tr>\n",
       "      <th>education_ Bachelors degree(BA AB BS)</th>\n",
       "      <td>0.018137</td>\n",
       "    </tr>\n",
       "    <tr>\n",
       "      <th>major_occupation_code_ Professional specialty</th>\n",
       "      <td>0.016881</td>\n",
       "    </tr>\n",
       "    <tr>\n",
       "      <th>education_ High school graduate</th>\n",
       "      <td>0.015414</td>\n",
       "    </tr>\n",
       "    <tr>\n",
       "      <th>education_ Masters degree(MA MS MEng MEd MSW MBA)</th>\n",
       "      <td>0.014692</td>\n",
       "    </tr>\n",
       "    <tr>\n",
       "      <th>major_occupation_code_ Other service</th>\n",
       "      <td>0.012814</td>\n",
       "    </tr>\n",
       "    <tr>\n",
       "      <th>capital_losses</th>\n",
       "      <td>0.012203</td>\n",
       "    </tr>\n",
       "  </tbody>\n",
       "</table>\n",
       "</div>"
      ],
      "text/plain": [
       "                                                    Importance\n",
       "Features                                                      \n",
       "dividends_from_stocks                                 0.080196\n",
       "weeks_worked_in_year                                  0.075135\n",
       "num_persons_worked_for_employer                       0.061586\n",
       "major_occupation_code_ Not in universe                0.040559\n",
       "capital_gains                                         0.038525\n",
       "major_industry_code_ Not in universe or children      0.037404\n",
       "tax_filer_stat_ Nonfiler                              0.031271\n",
       "detailed_household_summary_in_household_ Househ...    0.031056\n",
       "sex_ Female                                           0.026377\n",
       "class_of_worker_ Not in universe                      0.024095\n",
       "sex_ Male                                             0.023962\n",
       "marital_stat_ Married-civilian spouse present         0.020390\n",
       "major_occupation_code_ Executive admin and mana...    0.019113\n",
       "marital_stat_ Never married                           0.018448\n",
       "education_ Bachelors degree(BA AB BS)                 0.018137\n",
       "major_occupation_code_ Professional specialty         0.016881\n",
       "education_ High school graduate                       0.015414\n",
       "education_ Masters degree(MA MS MEng MEd MSW MBA)     0.014692\n",
       "major_occupation_code_ Other service                  0.012814\n",
       "capital_losses                                        0.012203"
      ]
     },
     "execution_count": 51,
     "metadata": {},
     "output_type": "execute_result"
    }
   ],
   "source": [
    "pd.DataFrame({'Features':features,'Importance':clf2.feature_importances_}).sort_values(\n",
    "by = 'Importance',ascending = False).head(20).set_index(\"Features\")"
   ]
  },
  {
   "cell_type": "markdown",
   "metadata": {},
   "source": [
    "#### 4.3.5 Checking correlations if they match feature importance"
   ]
  },
  {
   "cell_type": "code",
   "execution_count": 55,
   "metadata": {
    "collapsed": false
   },
   "outputs": [],
   "source": [
    "cor = pd.concat([X_train,y_train],axis = 1).corr()['target'] "
   ]
  },
  {
   "cell_type": "markdown",
   "metadata": {},
   "source": [
    "##### 4.3.5.1 Features positively correlated to target"
   ]
  },
  {
   "cell_type": "code",
   "execution_count": 74,
   "metadata": {
    "collapsed": false
   },
   "outputs": [
    {
     "data": {
      "text/plain": [
       "target                                                    1.000000\n",
       "weeks_worked_in_year                                      0.260398\n",
       "major_occupation_code_ Executive admin and managerial     0.240754\n",
       "capital_gains                                             0.240481\n",
       "num_persons_worked_for_employer                           0.220579\n",
       "major_occupation_code_ Professional specialty             0.211772\n",
       "detailed_household_summary_in_household_ Householder      0.210693\n",
       "tax_filer_stat_ Joint both under 65                       0.203191\n",
       "education_ Masters degree(MA MS MEng MEd MSW MBA)         0.189802\n",
       "education_ Prof school degree (MD DDS DVM LLB JD)         0.188529\n",
       "education_ Bachelors degree(BA AB BS)                     0.185010\n",
       "marital_stat_ Married-civilian spouse present             0.181607\n",
       "dividends_from_stocks                                     0.175486\n",
       "sex_ Male                                                 0.159256\n",
       "family_members_under_18_ Not in universe                  0.155940\n",
       "class_of_worker_ Self-employed-incorporated               0.152096\n",
       "education_ Doctorate degree(PhD EdD)                      0.151314\n",
       "capital_losses                                            0.146939\n",
       "full_or_part_time_employment_stat_ Full-time schedules    0.144538\n",
       "veterans_benefits_2                                       0.132796\n",
       "class_of_worker_ Private                                  0.120831\n",
       "major_industry_code_ Other professional services          0.106802\n",
       "Name: target, dtype: float64"
      ]
     },
     "execution_count": 74,
     "metadata": {},
     "output_type": "execute_result"
    }
   ],
   "source": [
    "cor[cor > 0.1].sort_values(ascending = False)"
   ]
  },
  {
   "cell_type": "markdown",
   "metadata": {},
   "source": [
    "##### 4.3.5.2 Features negatively correlated to target"
   ]
  },
  {
   "cell_type": "code",
   "execution_count": 76,
   "metadata": {
    "collapsed": false
   },
   "outputs": [
    {
     "data": {
      "text/plain": [
       "major_industry_code_ Not in universe or children                        -0.219708\n",
       "major_occupation_code_ Not in universe                                  -0.219708\n",
       "class_of_worker_ Not in universe                                        -0.218643\n",
       "tax_filer_stat_ Nonfiler                                                -0.195751\n",
       "marital_stat_ Never married                                             -0.175415\n",
       "sex_ Female                                                             -0.159256\n",
       "detailed_household_summary_in_household_ Child under 18 never married   -0.146135\n",
       "education_ Children                                                     -0.140177\n",
       "veterans_benefits_0                                                     -0.140150\n",
       "family_members_under_18_ Both parents present                           -0.123081\n",
       "Name: target, dtype: float64"
      ]
     },
     "execution_count": 76,
     "metadata": {},
     "output_type": "execute_result"
    }
   ],
   "source": [
    "cor[cor < -0.1].sort_values()"
   ]
  },
  {
   "cell_type": "markdown",
   "metadata": {},
   "source": [
    "Most of the highly correlated features appear in the feature importance diagram."
   ]
  },
  {
   "cell_type": "markdown",
   "metadata": {},
   "source": [
    "## 5. Notes"
   ]
  },
  {
   "cell_type": "markdown",
   "metadata": {},
   "source": [
    "1. The biggest challenge was the lack of context about the data. While the metadata text file did provide some context, having some more insights about the different variables would have been helpful.\n",
    "\n",
    "2. I chose to experiment with tree-based models since they would choose the most important variables from all the input feature. The fact that there were many categorical variables and we don't have to worry about correlations, made tree-based models favorable.\n",
    "\n",
    "3. Apart from converting the categorical features to binary, I did not perform much feature engineering since a simple random forest model using existing features was giving a good performance based on cross-validation on the training set and predictions on the test set. There is definitely scope to derive new features from existing features.\n",
    "\n",
    "4. The random forest feature importance gives us an indication of the features that were the most important in developing the model in terms of the average decrease in gini. There is definitely scope in making the model more interpretable by getting the most important features that influenced the predictions of every point in the test set using techniques such as LIME (Local Interpretable Model-Agnostic Explanations) and other decision tree interpreters."
   ]
  }
 ],
 "metadata": {
  "kernelspec": {
   "display_name": "Python 2",
   "language": "python",
   "name": "python2"
  },
  "language_info": {
   "codemirror_mode": {
    "name": "ipython",
    "version": 2
   },
   "file_extension": ".py",
   "mimetype": "text/x-python",
   "name": "python",
   "nbconvert_exporter": "python",
   "pygments_lexer": "ipython2",
   "version": "2.7.11"
  }
 },
 "nbformat": 4,
 "nbformat_minor": 0
}
