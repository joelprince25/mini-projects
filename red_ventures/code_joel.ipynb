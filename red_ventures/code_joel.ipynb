{
 "cells": [
  {
   "cell_type": "markdown",
   "metadata": {},
   "source": [
    "## 1. Importing Packages"
   ]
  },
  {
   "cell_type": "code",
   "execution_count": 182,
   "metadata": {
    "collapsed": true
   },
   "outputs": [],
   "source": [
    "%matplotlib inline\n",
    "\n",
    "import re\n",
    "import numpy as np\n",
    "import scipy as sp\n",
    "import pandas as pd\n",
    "import matplotlib.pyplot as plt\n",
    "from IPython.core.pylabtools import figsize\n",
    "\n",
    "plt.style.use('ggplot')\n",
    "figsize(15,8)\n",
    "pd.set_option('display.max_columns', None)"
   ]
  },
  {
   "cell_type": "markdown",
   "metadata": {},
   "source": [
    "\n",
    "## 2. Importing Data"
   ]
  },
  {
   "cell_type": "code",
   "execution_count": 183,
   "metadata": {
    "collapsed": true
   },
   "outputs": [],
   "source": [
    "path = \"data/RVDS_technical_assessment/\""
   ]
  },
  {
   "cell_type": "code",
   "execution_count": 184,
   "metadata": {
    "collapsed": true
   },
   "outputs": [],
   "source": [
    "train = pd.read_csv(path+\"train.csv\")\n",
    "test = pd.read_csv(path+\"test.csv\")"
   ]
  },
  {
   "cell_type": "code",
   "execution_count": 185,
   "metadata": {
    "collapsed": false
   },
   "outputs": [
    {
     "name": "stdout",
     "output_type": "stream",
     "text": [
      "(24001, 25)\n",
      "(5999, 24)\n"
     ]
    }
   ],
   "source": [
    "print train.shape\n",
    "print test.shape"
   ]
  },
  {
   "cell_type": "code",
   "execution_count": 186,
   "metadata": {
    "collapsed": false
   },
   "outputs": [
    {
     "data": {
      "text/html": [
       "<div>\n",
       "<table border=\"1\" class=\"dataframe\">\n",
       "  <thead>\n",
       "    <tr style=\"text-align: right;\">\n",
       "      <th></th>\n",
       "      <th>customer_id</th>\n",
       "      <th>limit_bal</th>\n",
       "      <th>sex</th>\n",
       "      <th>education</th>\n",
       "      <th>marriage</th>\n",
       "      <th>age</th>\n",
       "      <th>pay_1</th>\n",
       "      <th>pay_2</th>\n",
       "      <th>pay_3</th>\n",
       "      <th>pay_4</th>\n",
       "      <th>pay_5</th>\n",
       "      <th>pay_6</th>\n",
       "      <th>bill_amt1</th>\n",
       "      <th>bill_amt2</th>\n",
       "      <th>bill_amt3</th>\n",
       "      <th>bill_amt4</th>\n",
       "      <th>bill_amt5</th>\n",
       "      <th>bill_amt6</th>\n",
       "      <th>pay_amt1</th>\n",
       "      <th>pay_amt2</th>\n",
       "      <th>pay_amt3</th>\n",
       "      <th>pay_amt4</th>\n",
       "      <th>pay_amt5</th>\n",
       "      <th>pay_amt6</th>\n",
       "      <th>default_oct</th>\n",
       "    </tr>\n",
       "  </thead>\n",
       "  <tbody>\n",
       "    <tr>\n",
       "      <th>0</th>\n",
       "      <td>1</td>\n",
       "      <td>1500</td>\n",
       "      <td>2</td>\n",
       "      <td>1</td>\n",
       "      <td>2</td>\n",
       "      <td>23</td>\n",
       "      <td>0</td>\n",
       "      <td>0</td>\n",
       "      <td>0</td>\n",
       "      <td>2</td>\n",
       "      <td>2</td>\n",
       "      <td>0</td>\n",
       "      <td>1452</td>\n",
       "      <td>1503</td>\n",
       "      <td>1482</td>\n",
       "      <td>1463</td>\n",
       "      <td>938</td>\n",
       "      <td>698</td>\n",
       "      <td>75</td>\n",
       "      <td>150</td>\n",
       "      <td>86</td>\n",
       "      <td>0</td>\n",
       "      <td>50</td>\n",
       "      <td>50</td>\n",
       "      <td>yes</td>\n",
       "    </tr>\n",
       "    <tr>\n",
       "      <th>1</th>\n",
       "      <td>2</td>\n",
       "      <td>8500</td>\n",
       "      <td>2</td>\n",
       "      <td>2</td>\n",
       "      <td>2</td>\n",
       "      <td>29</td>\n",
       "      <td>0</td>\n",
       "      <td>0</td>\n",
       "      <td>0</td>\n",
       "      <td>0</td>\n",
       "      <td>0</td>\n",
       "      <td>0</td>\n",
       "      <td>8079</td>\n",
       "      <td>8175</td>\n",
       "      <td>8300</td>\n",
       "      <td>8364</td>\n",
       "      <td>8275</td>\n",
       "      <td>8425</td>\n",
       "      <td>300</td>\n",
       "      <td>400</td>\n",
       "      <td>315</td>\n",
       "      <td>300</td>\n",
       "      <td>325</td>\n",
       "      <td>305</td>\n",
       "      <td>no</td>\n",
       "    </tr>\n",
       "    <tr>\n",
       "      <th>2</th>\n",
       "      <td>3</td>\n",
       "      <td>1000</td>\n",
       "      <td>1</td>\n",
       "      <td>1</td>\n",
       "      <td>2</td>\n",
       "      <td>22</td>\n",
       "      <td>0</td>\n",
       "      <td>0</td>\n",
       "      <td>0</td>\n",
       "      <td>0</td>\n",
       "      <td>0</td>\n",
       "      <td>0</td>\n",
       "      <td>733</td>\n",
       "      <td>831</td>\n",
       "      <td>896</td>\n",
       "      <td>933</td>\n",
       "      <td>772</td>\n",
       "      <td>794</td>\n",
       "      <td>150</td>\n",
       "      <td>150</td>\n",
       "      <td>150</td>\n",
       "      <td>24</td>\n",
       "      <td>105</td>\n",
       "      <td>110</td>\n",
       "      <td>no</td>\n",
       "    </tr>\n",
       "    <tr>\n",
       "      <th>3</th>\n",
       "      <td>4</td>\n",
       "      <td>10500</td>\n",
       "      <td>1</td>\n",
       "      <td>1</td>\n",
       "      <td>1</td>\n",
       "      <td>31</td>\n",
       "      <td>0</td>\n",
       "      <td>0</td>\n",
       "      <td>0</td>\n",
       "      <td>0</td>\n",
       "      <td>0</td>\n",
       "      <td>0</td>\n",
       "      <td>7049</td>\n",
       "      <td>7011</td>\n",
       "      <td>7077</td>\n",
       "      <td>7190</td>\n",
       "      <td>7229</td>\n",
       "      <td>7340</td>\n",
       "      <td>255</td>\n",
       "      <td>260</td>\n",
       "      <td>258</td>\n",
       "      <td>260</td>\n",
       "      <td>265</td>\n",
       "      <td>307</td>\n",
       "      <td>no</td>\n",
       "    </tr>\n",
       "    <tr>\n",
       "      <th>4</th>\n",
       "      <td>5</td>\n",
       "      <td>10500</td>\n",
       "      <td>2</td>\n",
       "      <td>2</td>\n",
       "      <td>1</td>\n",
       "      <td>44</td>\n",
       "      <td>0</td>\n",
       "      <td>0</td>\n",
       "      <td>0</td>\n",
       "      <td>0</td>\n",
       "      <td>0</td>\n",
       "      <td>0</td>\n",
       "      <td>4487</td>\n",
       "      <td>4501</td>\n",
       "      <td>3533</td>\n",
       "      <td>3558</td>\n",
       "      <td>3592</td>\n",
       "      <td>3496</td>\n",
       "      <td>180</td>\n",
       "      <td>155</td>\n",
       "      <td>145</td>\n",
       "      <td>130</td>\n",
       "      <td>135</td>\n",
       "      <td>200</td>\n",
       "      <td>no</td>\n",
       "    </tr>\n",
       "  </tbody>\n",
       "</table>\n",
       "</div>"
      ],
      "text/plain": [
       "   customer_id  limit_bal  sex  education  marriage  age  pay_1  pay_2  pay_3  \\\n",
       "0            1       1500    2          1         2   23      0      0      0   \n",
       "1            2       8500    2          2         2   29      0      0      0   \n",
       "2            3       1000    1          1         2   22      0      0      0   \n",
       "3            4      10500    1          1         1   31      0      0      0   \n",
       "4            5      10500    2          2         1   44      0      0      0   \n",
       "\n",
       "   pay_4  pay_5  pay_6  bill_amt1  bill_amt2  bill_amt3  bill_amt4  bill_amt5  \\\n",
       "0      2      2      0       1452       1503       1482       1463        938   \n",
       "1      0      0      0       8079       8175       8300       8364       8275   \n",
       "2      0      0      0        733        831        896        933        772   \n",
       "3      0      0      0       7049       7011       7077       7190       7229   \n",
       "4      0      0      0       4487       4501       3533       3558       3592   \n",
       "\n",
       "   bill_amt6  pay_amt1  pay_amt2  pay_amt3  pay_amt4  pay_amt5  pay_amt6  \\\n",
       "0        698        75       150        86         0        50        50   \n",
       "1       8425       300       400       315       300       325       305   \n",
       "2        794       150       150       150        24       105       110   \n",
       "3       7340       255       260       258       260       265       307   \n",
       "4       3496       180       155       145       130       135       200   \n",
       "\n",
       "  default_oct  \n",
       "0         yes  \n",
       "1          no  \n",
       "2          no  \n",
       "3          no  \n",
       "4          no  "
      ]
     },
     "execution_count": 186,
     "metadata": {},
     "output_type": "execute_result"
    }
   ],
   "source": [
    "train.head()"
   ]
  },
  {
   "cell_type": "code",
   "execution_count": 187,
   "metadata": {
    "collapsed": false
   },
   "outputs": [
    {
     "data": {
      "text/html": [
       "<div>\n",
       "<table border=\"1\" class=\"dataframe\">\n",
       "  <thead>\n",
       "    <tr style=\"text-align: right;\">\n",
       "      <th></th>\n",
       "      <th>customer_id</th>\n",
       "      <th>limit_bal</th>\n",
       "      <th>sex</th>\n",
       "      <th>education</th>\n",
       "      <th>marriage</th>\n",
       "      <th>age</th>\n",
       "      <th>pay_1</th>\n",
       "      <th>pay_2</th>\n",
       "      <th>pay_3</th>\n",
       "      <th>pay_4</th>\n",
       "      <th>pay_5</th>\n",
       "      <th>pay_6</th>\n",
       "      <th>bill_amt1</th>\n",
       "      <th>bill_amt2</th>\n",
       "      <th>bill_amt3</th>\n",
       "      <th>bill_amt4</th>\n",
       "      <th>bill_amt5</th>\n",
       "      <th>bill_amt6</th>\n",
       "      <th>pay_amt1</th>\n",
       "      <th>pay_amt2</th>\n",
       "      <th>pay_amt3</th>\n",
       "      <th>pay_amt4</th>\n",
       "      <th>pay_amt5</th>\n",
       "      <th>pay_amt6</th>\n",
       "    </tr>\n",
       "  </thead>\n",
       "  <tbody>\n",
       "    <tr>\n",
       "      <th>0</th>\n",
       "      <td>24002</td>\n",
       "      <td>10500</td>\n",
       "      <td>1</td>\n",
       "      <td>2</td>\n",
       "      <td>2</td>\n",
       "      <td>34</td>\n",
       "      <td>0</td>\n",
       "      <td>0</td>\n",
       "      <td>0</td>\n",
       "      <td>0</td>\n",
       "      <td>-1</td>\n",
       "      <td>-1</td>\n",
       "      <td>1235</td>\n",
       "      <td>1077</td>\n",
       "      <td>2080</td>\n",
       "      <td>1741</td>\n",
       "      <td>881</td>\n",
       "      <td>120</td>\n",
       "      <td>99</td>\n",
       "      <td>1053</td>\n",
       "      <td>724</td>\n",
       "      <td>884</td>\n",
       "      <td>120</td>\n",
       "      <td>24</td>\n",
       "    </tr>\n",
       "    <tr>\n",
       "      <th>1</th>\n",
       "      <td>24003</td>\n",
       "      <td>27500</td>\n",
       "      <td>2</td>\n",
       "      <td>5</td>\n",
       "      <td>2</td>\n",
       "      <td>52</td>\n",
       "      <td>-2</td>\n",
       "      <td>-2</td>\n",
       "      <td>-2</td>\n",
       "      <td>-2</td>\n",
       "      <td>-2</td>\n",
       "      <td>-2</td>\n",
       "      <td>13868</td>\n",
       "      <td>13326</td>\n",
       "      <td>12816</td>\n",
       "      <td>987</td>\n",
       "      <td>23</td>\n",
       "      <td>409</td>\n",
       "      <td>300</td>\n",
       "      <td>300</td>\n",
       "      <td>987</td>\n",
       "      <td>23</td>\n",
       "      <td>409</td>\n",
       "      <td>0</td>\n",
       "    </tr>\n",
       "    <tr>\n",
       "      <th>2</th>\n",
       "      <td>24004</td>\n",
       "      <td>27500</td>\n",
       "      <td>2</td>\n",
       "      <td>2</td>\n",
       "      <td>1</td>\n",
       "      <td>32</td>\n",
       "      <td>2</td>\n",
       "      <td>0</td>\n",
       "      <td>0</td>\n",
       "      <td>0</td>\n",
       "      <td>0</td>\n",
       "      <td>0</td>\n",
       "      <td>27427</td>\n",
       "      <td>27337</td>\n",
       "      <td>26775</td>\n",
       "      <td>27401</td>\n",
       "      <td>26533</td>\n",
       "      <td>7754</td>\n",
       "      <td>1054</td>\n",
       "      <td>1143</td>\n",
       "      <td>8381</td>\n",
       "      <td>700</td>\n",
       "      <td>215</td>\n",
       "      <td>7903</td>\n",
       "    </tr>\n",
       "    <tr>\n",
       "      <th>3</th>\n",
       "      <td>24005</td>\n",
       "      <td>9000</td>\n",
       "      <td>2</td>\n",
       "      <td>2</td>\n",
       "      <td>1</td>\n",
       "      <td>32</td>\n",
       "      <td>1</td>\n",
       "      <td>2</td>\n",
       "      <td>2</td>\n",
       "      <td>2</td>\n",
       "      <td>0</td>\n",
       "      <td>0</td>\n",
       "      <td>777</td>\n",
       "      <td>750</td>\n",
       "      <td>887</td>\n",
       "      <td>858</td>\n",
       "      <td>936</td>\n",
       "      <td>1169</td>\n",
       "      <td>0</td>\n",
       "      <td>150</td>\n",
       "      <td>0</td>\n",
       "      <td>100</td>\n",
       "      <td>250</td>\n",
       "      <td>100</td>\n",
       "    </tr>\n",
       "    <tr>\n",
       "      <th>4</th>\n",
       "      <td>24006</td>\n",
       "      <td>500</td>\n",
       "      <td>1</td>\n",
       "      <td>3</td>\n",
       "      <td>2</td>\n",
       "      <td>42</td>\n",
       "      <td>1</td>\n",
       "      <td>2</td>\n",
       "      <td>2</td>\n",
       "      <td>2</td>\n",
       "      <td>0</td>\n",
       "      <td>0</td>\n",
       "      <td>404</td>\n",
       "      <td>316</td>\n",
       "      <td>431</td>\n",
       "      <td>294</td>\n",
       "      <td>220</td>\n",
       "      <td>259</td>\n",
       "      <td>0</td>\n",
       "      <td>129</td>\n",
       "      <td>0</td>\n",
       "      <td>50</td>\n",
       "      <td>50</td>\n",
       "      <td>17</td>\n",
       "    </tr>\n",
       "  </tbody>\n",
       "</table>\n",
       "</div>"
      ],
      "text/plain": [
       "   customer_id  limit_bal  sex  education  marriage  age  pay_1  pay_2  pay_3  \\\n",
       "0        24002      10500    1          2         2   34      0      0      0   \n",
       "1        24003      27500    2          5         2   52     -2     -2     -2   \n",
       "2        24004      27500    2          2         1   32      2      0      0   \n",
       "3        24005       9000    2          2         1   32      1      2      2   \n",
       "4        24006        500    1          3         2   42      1      2      2   \n",
       "\n",
       "   pay_4  pay_5  pay_6  bill_amt1  bill_amt2  bill_amt3  bill_amt4  bill_amt5  \\\n",
       "0      0     -1     -1       1235       1077       2080       1741        881   \n",
       "1     -2     -2     -2      13868      13326      12816        987         23   \n",
       "2      0      0      0      27427      27337      26775      27401      26533   \n",
       "3      2      0      0        777        750        887        858        936   \n",
       "4      2      0      0        404        316        431        294        220   \n",
       "\n",
       "   bill_amt6  pay_amt1  pay_amt2  pay_amt3  pay_amt4  pay_amt5  pay_amt6  \n",
       "0        120        99      1053       724       884       120        24  \n",
       "1        409       300       300       987        23       409         0  \n",
       "2       7754      1054      1143      8381       700       215      7903  \n",
       "3       1169         0       150         0       100       250       100  \n",
       "4        259         0       129         0        50        50        17  "
      ]
     },
     "execution_count": 187,
     "metadata": {},
     "output_type": "execute_result"
    }
   ],
   "source": [
    "test.head()"
   ]
  },
  {
   "cell_type": "markdown",
   "metadata": {},
   "source": [
    "## 3. Exploratory Data Analysis"
   ]
  },
  {
   "cell_type": "markdown",
   "metadata": {},
   "source": [
    "### 3.1 Checking missing values"
   ]
  },
  {
   "cell_type": "code",
   "execution_count": 188,
   "metadata": {
    "collapsed": false
   },
   "outputs": [
    {
     "data": {
      "text/plain": [
       "customer_id       0\n",
       "limit_bal         0\n",
       "sex               0\n",
       "education         0\n",
       "marriage          0\n",
       "age               0\n",
       "pay_1             0\n",
       "pay_2             0\n",
       "pay_3             0\n",
       "pay_4             0\n",
       "pay_5           182\n",
       "pay_6          1211\n",
       "bill_amt1         0\n",
       "bill_amt2         0\n",
       "bill_amt3         0\n",
       "bill_amt4         0\n",
       "bill_amt5       182\n",
       "bill_amt6      1211\n",
       "pay_amt1          0\n",
       "pay_amt2          0\n",
       "pay_amt3          0\n",
       "pay_amt4          0\n",
       "pay_amt5        182\n",
       "pay_amt6       1211\n",
       "default_oct       0\n",
       "dtype: int64"
      ]
     },
     "execution_count": 188,
     "metadata": {},
     "output_type": "execute_result"
    }
   ],
   "source": [
    "train.isnull().sum()"
   ]
  },
  {
   "cell_type": "code",
   "execution_count": 189,
   "metadata": {
    "collapsed": false
   },
   "outputs": [
    {
     "data": {
      "text/plain": [
       "customer_id      0\n",
       "limit_bal        0\n",
       "sex              0\n",
       "education        0\n",
       "marriage         0\n",
       "age              0\n",
       "pay_1            0\n",
       "pay_2            0\n",
       "pay_3            0\n",
       "pay_4            0\n",
       "pay_5           44\n",
       "pay_6          290\n",
       "bill_amt1        0\n",
       "bill_amt2        0\n",
       "bill_amt3        0\n",
       "bill_amt4        0\n",
       "bill_amt5       44\n",
       "bill_amt6      290\n",
       "pay_amt1         0\n",
       "pay_amt2         0\n",
       "pay_amt3         0\n",
       "pay_amt4         0\n",
       "pay_amt5        44\n",
       "pay_amt6       290\n",
       "dtype: int64"
      ]
     },
     "execution_count": 189,
     "metadata": {},
     "output_type": "execute_result"
    }
   ],
   "source": [
    "test.isnull().sum()"
   ]
  },
  {
   "cell_type": "code",
   "execution_count": 190,
   "metadata": {
    "collapsed": false
   },
   "outputs": [
    {
     "data": {
      "text/html": [
       "<div>\n",
       "<table border=\"1\" class=\"dataframe\">\n",
       "  <thead>\n",
       "    <tr style=\"text-align: right;\">\n",
       "      <th></th>\n",
       "      <th>customer_id</th>\n",
       "      <th>limit_bal</th>\n",
       "      <th>sex</th>\n",
       "      <th>education</th>\n",
       "      <th>marriage</th>\n",
       "      <th>age</th>\n",
       "      <th>pay_1</th>\n",
       "      <th>pay_2</th>\n",
       "      <th>pay_3</th>\n",
       "      <th>pay_4</th>\n",
       "      <th>pay_5</th>\n",
       "      <th>pay_6</th>\n",
       "      <th>bill_amt1</th>\n",
       "      <th>bill_amt2</th>\n",
       "      <th>bill_amt3</th>\n",
       "      <th>bill_amt4</th>\n",
       "      <th>bill_amt5</th>\n",
       "      <th>bill_amt6</th>\n",
       "      <th>pay_amt1</th>\n",
       "      <th>pay_amt2</th>\n",
       "      <th>pay_amt3</th>\n",
       "      <th>pay_amt4</th>\n",
       "      <th>pay_amt5</th>\n",
       "      <th>pay_amt6</th>\n",
       "      <th>default_oct</th>\n",
       "    </tr>\n",
       "  </thead>\n",
       "  <tbody>\n",
       "    <tr>\n",
       "      <th>10</th>\n",
       "      <td>11</td>\n",
       "      <td>4500</td>\n",
       "      <td>2</td>\n",
       "      <td>2</td>\n",
       "      <td>2</td>\n",
       "      <td>33</td>\n",
       "      <td>2</td>\n",
       "      <td>2</td>\n",
       "      <td>0</td>\n",
       "      <td>0</td>\n",
       "      <td>NaN</td>\n",
       "      <td>NaN</td>\n",
       "      <td>3068</td>\n",
       "      <td>2990</td>\n",
       "      <td>3090</td>\n",
       "      <td>3259</td>\n",
       "      <td>NaN</td>\n",
       "      <td>NaN</td>\n",
       "      <td>0</td>\n",
       "      <td>150</td>\n",
       "      <td>250</td>\n",
       "      <td>0</td>\n",
       "      <td>NaN</td>\n",
       "      <td>NaN</td>\n",
       "      <td>yes</td>\n",
       "    </tr>\n",
       "    <tr>\n",
       "      <th>101</th>\n",
       "      <td>102</td>\n",
       "      <td>1000</td>\n",
       "      <td>2</td>\n",
       "      <td>3</td>\n",
       "      <td>2</td>\n",
       "      <td>22</td>\n",
       "      <td>0</td>\n",
       "      <td>0</td>\n",
       "      <td>0</td>\n",
       "      <td>0</td>\n",
       "      <td>NaN</td>\n",
       "      <td>NaN</td>\n",
       "      <td>710</td>\n",
       "      <td>678</td>\n",
       "      <td>706</td>\n",
       "      <td>686</td>\n",
       "      <td>NaN</td>\n",
       "      <td>NaN</td>\n",
       "      <td>85</td>\n",
       "      <td>75</td>\n",
       "      <td>0</td>\n",
       "      <td>0</td>\n",
       "      <td>NaN</td>\n",
       "      <td>NaN</td>\n",
       "      <td>no</td>\n",
       "    </tr>\n",
       "    <tr>\n",
       "      <th>177</th>\n",
       "      <td>178</td>\n",
       "      <td>14000</td>\n",
       "      <td>2</td>\n",
       "      <td>1</td>\n",
       "      <td>1</td>\n",
       "      <td>36</td>\n",
       "      <td>-1</td>\n",
       "      <td>2</td>\n",
       "      <td>-1</td>\n",
       "      <td>-1</td>\n",
       "      <td>NaN</td>\n",
       "      <td>NaN</td>\n",
       "      <td>41</td>\n",
       "      <td>20</td>\n",
       "      <td>20</td>\n",
       "      <td>20</td>\n",
       "      <td>NaN</td>\n",
       "      <td>NaN</td>\n",
       "      <td>0</td>\n",
       "      <td>20</td>\n",
       "      <td>20</td>\n",
       "      <td>2960</td>\n",
       "      <td>NaN</td>\n",
       "      <td>NaN</td>\n",
       "      <td>no</td>\n",
       "    </tr>\n",
       "    <tr>\n",
       "      <th>205</th>\n",
       "      <td>206</td>\n",
       "      <td>7000</td>\n",
       "      <td>2</td>\n",
       "      <td>2</td>\n",
       "      <td>1</td>\n",
       "      <td>24</td>\n",
       "      <td>-1</td>\n",
       "      <td>-1</td>\n",
       "      <td>-1</td>\n",
       "      <td>-1</td>\n",
       "      <td>NaN</td>\n",
       "      <td>NaN</td>\n",
       "      <td>34</td>\n",
       "      <td>34</td>\n",
       "      <td>34</td>\n",
       "      <td>34</td>\n",
       "      <td>NaN</td>\n",
       "      <td>NaN</td>\n",
       "      <td>34</td>\n",
       "      <td>34</td>\n",
       "      <td>34</td>\n",
       "      <td>34</td>\n",
       "      <td>NaN</td>\n",
       "      <td>NaN</td>\n",
       "      <td>no</td>\n",
       "    </tr>\n",
       "    <tr>\n",
       "      <th>263</th>\n",
       "      <td>264</td>\n",
       "      <td>3000</td>\n",
       "      <td>2</td>\n",
       "      <td>2</td>\n",
       "      <td>1</td>\n",
       "      <td>36</td>\n",
       "      <td>-1</td>\n",
       "      <td>2</td>\n",
       "      <td>2</td>\n",
       "      <td>2</td>\n",
       "      <td>NaN</td>\n",
       "      <td>NaN</td>\n",
       "      <td>78</td>\n",
       "      <td>124</td>\n",
       "      <td>165</td>\n",
       "      <td>180</td>\n",
       "      <td>NaN</td>\n",
       "      <td>NaN</td>\n",
       "      <td>55</td>\n",
       "      <td>50</td>\n",
       "      <td>25</td>\n",
       "      <td>0</td>\n",
       "      <td>NaN</td>\n",
       "      <td>NaN</td>\n",
       "      <td>no</td>\n",
       "    </tr>\n",
       "  </tbody>\n",
       "</table>\n",
       "</div>"
      ],
      "text/plain": [
       "     customer_id  limit_bal  sex  education  marriage  age  pay_1  pay_2  \\\n",
       "10            11       4500    2          2         2   33      2      2   \n",
       "101          102       1000    2          3         2   22      0      0   \n",
       "177          178      14000    2          1         1   36     -1      2   \n",
       "205          206       7000    2          2         1   24     -1     -1   \n",
       "263          264       3000    2          2         1   36     -1      2   \n",
       "\n",
       "     pay_3  pay_4  pay_5  pay_6  bill_amt1  bill_amt2  bill_amt3  bill_amt4  \\\n",
       "10       0      0    NaN    NaN       3068       2990       3090       3259   \n",
       "101      0      0    NaN    NaN        710        678        706        686   \n",
       "177     -1     -1    NaN    NaN         41         20         20         20   \n",
       "205     -1     -1    NaN    NaN         34         34         34         34   \n",
       "263      2      2    NaN    NaN         78        124        165        180   \n",
       "\n",
       "     bill_amt5  bill_amt6  pay_amt1  pay_amt2  pay_amt3  pay_amt4  pay_amt5  \\\n",
       "10         NaN        NaN         0       150       250         0       NaN   \n",
       "101        NaN        NaN        85        75         0         0       NaN   \n",
       "177        NaN        NaN         0        20        20      2960       NaN   \n",
       "205        NaN        NaN        34        34        34        34       NaN   \n",
       "263        NaN        NaN        55        50        25         0       NaN   \n",
       "\n",
       "     pay_amt6 default_oct  \n",
       "10        NaN         yes  \n",
       "101       NaN          no  \n",
       "177       NaN          no  \n",
       "205       NaN          no  \n",
       "263       NaN          no  "
      ]
     },
     "execution_count": 190,
     "metadata": {},
     "output_type": "execute_result"
    }
   ],
   "source": [
    "train[train['pay_5'].isnull()].head()"
   ]
  },
  {
   "cell_type": "markdown",
   "metadata": {},
   "source": [
    "### 3.2 Checking and converting column data types"
   ]
  },
  {
   "cell_type": "code",
   "execution_count": 191,
   "metadata": {
    "collapsed": false
   },
   "outputs": [
    {
     "data": {
      "text/plain": [
       "customer_id      int64\n",
       "limit_bal        int64\n",
       "sex            float64\n",
       "education      float64\n",
       "marriage       float64\n",
       "age            float64\n",
       "pay_1          float64\n",
       "pay_2          float64\n",
       "pay_3          float64\n",
       "pay_4          float64\n",
       "pay_5          float64\n",
       "pay_6          float64\n",
       "bill_amt1        int64\n",
       "bill_amt2        int64\n",
       "bill_amt3        int64\n",
       "bill_amt4        int64\n",
       "bill_amt5      float64\n",
       "bill_amt6      float64\n",
       "pay_amt1         int64\n",
       "pay_amt2         int64\n",
       "pay_amt3         int64\n",
       "pay_amt4         int64\n",
       "pay_amt5       float64\n",
       "pay_amt6       float64\n",
       "default_oct     object\n",
       "dtype: object"
      ]
     },
     "execution_count": 191,
     "metadata": {},
     "output_type": "execute_result"
    }
   ],
   "source": [
    "train.dtypes"
   ]
  },
  {
   "cell_type": "code",
   "execution_count": 192,
   "metadata": {
    "collapsed": true
   },
   "outputs": [],
   "source": [
    "convert_cols_obj = ['sex',\n",
    "                    'education',\n",
    "                    'marriage',\n",
    "                    'pay_1',\n",
    "                    'pay_2',\n",
    "                    'pay_3',\n",
    "                    'pay_4',\n",
    "                    'pay_5',\n",
    "                    'pay_6']\n",
    "\n",
    "train[convert_cols_obj] = train[convert_cols_obj].astype('object')\n",
    "test[convert_cols_obj] = test[convert_cols_obj].astype('object')"
   ]
  },
  {
   "cell_type": "markdown",
   "metadata": {},
   "source": [
    "### 3.3 Column summary statistics"
   ]
  },
  {
   "cell_type": "code",
   "execution_count": 193,
   "metadata": {
    "collapsed": false
   },
   "outputs": [
    {
     "data": {
      "text/html": [
       "<div>\n",
       "<table border=\"1\" class=\"dataframe\">\n",
       "  <thead>\n",
       "    <tr style=\"text-align: right;\">\n",
       "      <th></th>\n",
       "      <th>customer_id</th>\n",
       "      <th>limit_bal</th>\n",
       "      <th>age</th>\n",
       "      <th>bill_amt1</th>\n",
       "      <th>bill_amt2</th>\n",
       "      <th>bill_amt3</th>\n",
       "      <th>bill_amt4</th>\n",
       "      <th>bill_amt5</th>\n",
       "      <th>bill_amt6</th>\n",
       "      <th>pay_amt1</th>\n",
       "      <th>pay_amt2</th>\n",
       "      <th>pay_amt3</th>\n",
       "      <th>pay_amt4</th>\n",
       "      <th>pay_amt5</th>\n",
       "      <th>pay_amt6</th>\n",
       "    </tr>\n",
       "  </thead>\n",
       "  <tbody>\n",
       "    <tr>\n",
       "      <th>count</th>\n",
       "      <td>24001.000000</td>\n",
       "      <td>24001.000000</td>\n",
       "      <td>24001.000000</td>\n",
       "      <td>24001.000000</td>\n",
       "      <td>24001.000000</td>\n",
       "      <td>24001.000000</td>\n",
       "      <td>24001.000000</td>\n",
       "      <td>23819.000000</td>\n",
       "      <td>22790.000000</td>\n",
       "      <td>24001.000000</td>\n",
       "      <td>24001.000000</td>\n",
       "      <td>24001.000000</td>\n",
       "      <td>24001.000000</td>\n",
       "      <td>23819.000000</td>\n",
       "      <td>22790.000000</td>\n",
       "    </tr>\n",
       "    <tr>\n",
       "      <th>mean</th>\n",
       "      <td>12001.000000</td>\n",
       "      <td>8351.302029</td>\n",
       "      <td>35.498438</td>\n",
       "      <td>2574.245865</td>\n",
       "      <td>2467.107037</td>\n",
       "      <td>2359.795592</td>\n",
       "      <td>2175.804383</td>\n",
       "      <td>2024.383559</td>\n",
       "      <td>1960.335981</td>\n",
       "      <td>281.079955</td>\n",
       "      <td>298.237073</td>\n",
       "      <td>263.109704</td>\n",
       "      <td>243.367943</td>\n",
       "      <td>238.731139</td>\n",
       "      <td>256.517069</td>\n",
       "    </tr>\n",
       "    <tr>\n",
       "      <th>std</th>\n",
       "      <td>6928.636241</td>\n",
       "      <td>6475.592450</td>\n",
       "      <td>9.222021</td>\n",
       "      <td>3706.812804</td>\n",
       "      <td>3585.952168</td>\n",
       "      <td>3499.639871</td>\n",
       "      <td>3244.170936</td>\n",
       "      <td>3063.487512</td>\n",
       "      <td>3015.469078</td>\n",
       "      <td>846.819525</td>\n",
       "      <td>1215.481369</td>\n",
       "      <td>899.406651</td>\n",
       "      <td>782.138847</td>\n",
       "      <td>779.341974</td>\n",
       "      <td>861.106314</td>\n",
       "    </tr>\n",
       "    <tr>\n",
       "      <th>min</th>\n",
       "      <td>1.000000</td>\n",
       "      <td>500.000000</td>\n",
       "      <td>21.000000</td>\n",
       "      <td>-8279.000000</td>\n",
       "      <td>-3488.000000</td>\n",
       "      <td>-3075.000000</td>\n",
       "      <td>-8500.000000</td>\n",
       "      <td>-4066.000000</td>\n",
       "      <td>-10452.000000</td>\n",
       "      <td>0.000000</td>\n",
       "      <td>0.000000</td>\n",
       "      <td>0.000000</td>\n",
       "      <td>0.000000</td>\n",
       "      <td>0.000000</td>\n",
       "      <td>0.000000</td>\n",
       "    </tr>\n",
       "    <tr>\n",
       "      <th>25%</th>\n",
       "      <td>6001.000000</td>\n",
       "      <td>2500.000000</td>\n",
       "      <td>28.000000</td>\n",
       "      <td>177.000000</td>\n",
       "      <td>147.000000</td>\n",
       "      <td>130.000000</td>\n",
       "      <td>116.000000</td>\n",
       "      <td>90.000000</td>\n",
       "      <td>62.000000</td>\n",
       "      <td>49.000000</td>\n",
       "      <td>41.000000</td>\n",
       "      <td>19.000000</td>\n",
       "      <td>15.000000</td>\n",
       "      <td>12.000000</td>\n",
       "      <td>6.000000</td>\n",
       "    </tr>\n",
       "    <tr>\n",
       "      <th>50%</th>\n",
       "      <td>12001.000000</td>\n",
       "      <td>7000.000000</td>\n",
       "      <td>34.000000</td>\n",
       "      <td>1123.000000</td>\n",
       "      <td>1059.000000</td>\n",
       "      <td>1007.000000</td>\n",
       "      <td>953.000000</td>\n",
       "      <td>906.000000</td>\n",
       "      <td>855.500000</td>\n",
       "      <td>105.000000</td>\n",
       "      <td>100.000000</td>\n",
       "      <td>90.000000</td>\n",
       "      <td>75.000000</td>\n",
       "      <td>75.000000</td>\n",
       "      <td>75.000000</td>\n",
       "    </tr>\n",
       "    <tr>\n",
       "      <th>75%</th>\n",
       "      <td>18001.000000</td>\n",
       "      <td>12000.000000</td>\n",
       "      <td>41.000000</td>\n",
       "      <td>3375.000000</td>\n",
       "      <td>3202.000000</td>\n",
       "      <td>3015.000000</td>\n",
       "      <td>2752.000000</td>\n",
       "      <td>2510.500000</td>\n",
       "      <td>2466.000000</td>\n",
       "      <td>250.000000</td>\n",
       "      <td>250.000000</td>\n",
       "      <td>227.000000</td>\n",
       "      <td>200.000000</td>\n",
       "      <td>200.000000</td>\n",
       "      <td>200.000000</td>\n",
       "    </tr>\n",
       "    <tr>\n",
       "      <th>max</th>\n",
       "      <td>24001.000000</td>\n",
       "      <td>50000.000000</td>\n",
       "      <td>79.000000</td>\n",
       "      <td>48225.000000</td>\n",
       "      <td>49196.000000</td>\n",
       "      <td>83204.000000</td>\n",
       "      <td>44579.000000</td>\n",
       "      <td>46358.000000</td>\n",
       "      <td>48083.000000</td>\n",
       "      <td>43677.000000</td>\n",
       "      <td>84212.000000</td>\n",
       "      <td>44802.000000</td>\n",
       "      <td>31050.000000</td>\n",
       "      <td>21326.000000</td>\n",
       "      <td>26433.000000</td>\n",
       "    </tr>\n",
       "  </tbody>\n",
       "</table>\n",
       "</div>"
      ],
      "text/plain": [
       "        customer_id     limit_bal           age     bill_amt1     bill_amt2  \\\n",
       "count  24001.000000  24001.000000  24001.000000  24001.000000  24001.000000   \n",
       "mean   12001.000000   8351.302029     35.498438   2574.245865   2467.107037   \n",
       "std     6928.636241   6475.592450      9.222021   3706.812804   3585.952168   \n",
       "min        1.000000    500.000000     21.000000  -8279.000000  -3488.000000   \n",
       "25%     6001.000000   2500.000000     28.000000    177.000000    147.000000   \n",
       "50%    12001.000000   7000.000000     34.000000   1123.000000   1059.000000   \n",
       "75%    18001.000000  12000.000000     41.000000   3375.000000   3202.000000   \n",
       "max    24001.000000  50000.000000     79.000000  48225.000000  49196.000000   \n",
       "\n",
       "          bill_amt3     bill_amt4     bill_amt5     bill_amt6      pay_amt1  \\\n",
       "count  24001.000000  24001.000000  23819.000000  22790.000000  24001.000000   \n",
       "mean    2359.795592   2175.804383   2024.383559   1960.335981    281.079955   \n",
       "std     3499.639871   3244.170936   3063.487512   3015.469078    846.819525   \n",
       "min    -3075.000000  -8500.000000  -4066.000000 -10452.000000      0.000000   \n",
       "25%      130.000000    116.000000     90.000000     62.000000     49.000000   \n",
       "50%     1007.000000    953.000000    906.000000    855.500000    105.000000   \n",
       "75%     3015.000000   2752.000000   2510.500000   2466.000000    250.000000   \n",
       "max    83204.000000  44579.000000  46358.000000  48083.000000  43677.000000   \n",
       "\n",
       "           pay_amt2      pay_amt3      pay_amt4      pay_amt5      pay_amt6  \n",
       "count  24001.000000  24001.000000  24001.000000  23819.000000  22790.000000  \n",
       "mean     298.237073    263.109704    243.367943    238.731139    256.517069  \n",
       "std     1215.481369    899.406651    782.138847    779.341974    861.106314  \n",
       "min        0.000000      0.000000      0.000000      0.000000      0.000000  \n",
       "25%       41.000000     19.000000     15.000000     12.000000      6.000000  \n",
       "50%      100.000000     90.000000     75.000000     75.000000     75.000000  \n",
       "75%      250.000000    227.000000    200.000000    200.000000    200.000000  \n",
       "max    84212.000000  44802.000000  31050.000000  21326.000000  26433.000000  "
      ]
     },
     "execution_count": 193,
     "metadata": {},
     "output_type": "execute_result"
    }
   ],
   "source": [
    "train.describe()"
   ]
  },
  {
   "cell_type": "code",
   "execution_count": 194,
   "metadata": {
    "collapsed": false
   },
   "outputs": [
    {
     "data": {
      "text/html": [
       "<div>\n",
       "<table border=\"1\" class=\"dataframe\">\n",
       "  <thead>\n",
       "    <tr style=\"text-align: right;\">\n",
       "      <th></th>\n",
       "      <th>customer_id</th>\n",
       "      <th>limit_bal</th>\n",
       "      <th>age</th>\n",
       "      <th>bill_amt1</th>\n",
       "      <th>bill_amt2</th>\n",
       "      <th>bill_amt3</th>\n",
       "      <th>bill_amt4</th>\n",
       "      <th>bill_amt5</th>\n",
       "      <th>bill_amt6</th>\n",
       "      <th>pay_amt1</th>\n",
       "      <th>pay_amt2</th>\n",
       "      <th>pay_amt3</th>\n",
       "      <th>pay_amt4</th>\n",
       "      <th>pay_amt5</th>\n",
       "      <th>pay_amt6</th>\n",
       "    </tr>\n",
       "  </thead>\n",
       "  <tbody>\n",
       "    <tr>\n",
       "      <th>count</th>\n",
       "      <td>5999.000000</td>\n",
       "      <td>5999.000000</td>\n",
       "      <td>5999.000000</td>\n",
       "      <td>5999.000000</td>\n",
       "      <td>5999.000000</td>\n",
       "      <td>5999.000000</td>\n",
       "      <td>5999.000000</td>\n",
       "      <td>5955.000000</td>\n",
       "      <td>5709.000000</td>\n",
       "      <td>5999.000000</td>\n",
       "      <td>5999.000000</td>\n",
       "      <td>5999.000000</td>\n",
       "      <td>5999.000000</td>\n",
       "      <td>5955.000000</td>\n",
       "      <td>5709.000000</td>\n",
       "    </tr>\n",
       "    <tr>\n",
       "      <th>mean</th>\n",
       "      <td>27001.000000</td>\n",
       "      <td>8465.891649</td>\n",
       "      <td>35.433739</td>\n",
       "      <td>2506.752292</td>\n",
       "      <td>2424.308218</td>\n",
       "      <td>2312.106184</td>\n",
       "      <td>2110.538923</td>\n",
       "      <td>1971.674559</td>\n",
       "      <td>1904.727973</td>\n",
       "      <td>290.436906</td>\n",
       "      <td>286.199700</td>\n",
       "      <td>252.901984</td>\n",
       "      <td>232.027005</td>\n",
       "      <td>242.401175</td>\n",
       "      <td>284.189525</td>\n",
       "    </tr>\n",
       "    <tr>\n",
       "      <th>std</th>\n",
       "      <td>1731.906464</td>\n",
       "      <td>6534.081379</td>\n",
       "      <td>9.201999</td>\n",
       "      <td>3579.547514</td>\n",
       "      <td>3447.314755</td>\n",
       "      <td>3335.419806</td>\n",
       "      <td>3103.495178</td>\n",
       "      <td>2950.030089</td>\n",
       "      <td>2865.255691</td>\n",
       "      <td>748.761295</td>\n",
       "      <td>852.091851</td>\n",
       "      <td>799.425171</td>\n",
       "      <td>787.833885</td>\n",
       "      <td>698.798315</td>\n",
       "      <td>1031.312882</td>\n",
       "    </tr>\n",
       "    <tr>\n",
       "      <th>min</th>\n",
       "      <td>24002.000000</td>\n",
       "      <td>500.000000</td>\n",
       "      <td>21.000000</td>\n",
       "      <td>-490.000000</td>\n",
       "      <td>-1500.000000</td>\n",
       "      <td>-7863.000000</td>\n",
       "      <td>-1374.000000</td>\n",
       "      <td>-1807.000000</td>\n",
       "      <td>-16980.000000</td>\n",
       "      <td>0.000000</td>\n",
       "      <td>0.000000</td>\n",
       "      <td>0.000000</td>\n",
       "      <td>0.000000</td>\n",
       "      <td>0.000000</td>\n",
       "      <td>0.000000</td>\n",
       "    </tr>\n",
       "    <tr>\n",
       "      <th>25%</th>\n",
       "      <td>25501.500000</td>\n",
       "      <td>2500.000000</td>\n",
       "      <td>28.000000</td>\n",
       "      <td>179.000000</td>\n",
       "      <td>156.000000</td>\n",
       "      <td>139.000000</td>\n",
       "      <td>116.000000</td>\n",
       "      <td>76.000000</td>\n",
       "      <td>63.000000</td>\n",
       "      <td>50.000000</td>\n",
       "      <td>41.500000</td>\n",
       "      <td>20.000000</td>\n",
       "      <td>11.000000</td>\n",
       "      <td>10.500000</td>\n",
       "      <td>3.000000</td>\n",
       "    </tr>\n",
       "    <tr>\n",
       "      <th>50%</th>\n",
       "      <td>27001.000000</td>\n",
       "      <td>7000.000000</td>\n",
       "      <td>34.000000</td>\n",
       "      <td>1097.000000</td>\n",
       "      <td>1065.000000</td>\n",
       "      <td>991.000000</td>\n",
       "      <td>949.000000</td>\n",
       "      <td>894.000000</td>\n",
       "      <td>835.000000</td>\n",
       "      <td>106.000000</td>\n",
       "      <td>100.000000</td>\n",
       "      <td>90.000000</td>\n",
       "      <td>75.000000</td>\n",
       "      <td>77.000000</td>\n",
       "      <td>75.000000</td>\n",
       "    </tr>\n",
       "    <tr>\n",
       "      <th>75%</th>\n",
       "      <td>28500.500000</td>\n",
       "      <td>12000.000000</td>\n",
       "      <td>41.000000</td>\n",
       "      <td>3282.000000</td>\n",
       "      <td>3185.500000</td>\n",
       "      <td>2971.000000</td>\n",
       "      <td>2601.000000</td>\n",
       "      <td>2489.000000</td>\n",
       "      <td>2455.000000</td>\n",
       "      <td>255.500000</td>\n",
       "      <td>250.000000</td>\n",
       "      <td>220.000000</td>\n",
       "      <td>200.000000</td>\n",
       "      <td>209.000000</td>\n",
       "      <td>200.000000</td>\n",
       "    </tr>\n",
       "    <tr>\n",
       "      <th>max</th>\n",
       "      <td>30000.000000</td>\n",
       "      <td>40000.000000</td>\n",
       "      <td>75.000000</td>\n",
       "      <td>31087.000000</td>\n",
       "      <td>28478.000000</td>\n",
       "      <td>28897.000000</td>\n",
       "      <td>30841.000000</td>\n",
       "      <td>27394.000000</td>\n",
       "      <td>24955.000000</td>\n",
       "      <td>15240.000000</td>\n",
       "      <td>16273.000000</td>\n",
       "      <td>20879.000000</td>\n",
       "      <td>26444.000000</td>\n",
       "      <td>16549.000000</td>\n",
       "      <td>26357.000000</td>\n",
       "    </tr>\n",
       "  </tbody>\n",
       "</table>\n",
       "</div>"
      ],
      "text/plain": [
       "        customer_id     limit_bal          age     bill_amt1     bill_amt2  \\\n",
       "count   5999.000000   5999.000000  5999.000000   5999.000000   5999.000000   \n",
       "mean   27001.000000   8465.891649    35.433739   2506.752292   2424.308218   \n",
       "std     1731.906464   6534.081379     9.201999   3579.547514   3447.314755   \n",
       "min    24002.000000    500.000000    21.000000   -490.000000  -1500.000000   \n",
       "25%    25501.500000   2500.000000    28.000000    179.000000    156.000000   \n",
       "50%    27001.000000   7000.000000    34.000000   1097.000000   1065.000000   \n",
       "75%    28500.500000  12000.000000    41.000000   3282.000000   3185.500000   \n",
       "max    30000.000000  40000.000000    75.000000  31087.000000  28478.000000   \n",
       "\n",
       "          bill_amt3     bill_amt4     bill_amt5     bill_amt6      pay_amt1  \\\n",
       "count   5999.000000   5999.000000   5955.000000   5709.000000   5999.000000   \n",
       "mean    2312.106184   2110.538923   1971.674559   1904.727973    290.436906   \n",
       "std     3335.419806   3103.495178   2950.030089   2865.255691    748.761295   \n",
       "min    -7863.000000  -1374.000000  -1807.000000 -16980.000000      0.000000   \n",
       "25%      139.000000    116.000000     76.000000     63.000000     50.000000   \n",
       "50%      991.000000    949.000000    894.000000    835.000000    106.000000   \n",
       "75%     2971.000000   2601.000000   2489.000000   2455.000000    255.500000   \n",
       "max    28897.000000  30841.000000  27394.000000  24955.000000  15240.000000   \n",
       "\n",
       "           pay_amt2      pay_amt3      pay_amt4      pay_amt5      pay_amt6  \n",
       "count   5999.000000   5999.000000   5999.000000   5955.000000   5709.000000  \n",
       "mean     286.199700    252.901984    232.027005    242.401175    284.189525  \n",
       "std      852.091851    799.425171    787.833885    698.798315   1031.312882  \n",
       "min        0.000000      0.000000      0.000000      0.000000      0.000000  \n",
       "25%       41.500000     20.000000     11.000000     10.500000      3.000000  \n",
       "50%      100.000000     90.000000     75.000000     77.000000     75.000000  \n",
       "75%      250.000000    220.000000    200.000000    209.000000    200.000000  \n",
       "max    16273.000000  20879.000000  26444.000000  16549.000000  26357.000000  "
      ]
     },
     "execution_count": 194,
     "metadata": {},
     "output_type": "execute_result"
    }
   ],
   "source": [
    "test.describe()"
   ]
  },
  {
   "cell_type": "code",
   "execution_count": 195,
   "metadata": {
    "collapsed": false
   },
   "outputs": [
    {
     "data": {
      "text/html": [
       "<div>\n",
       "<table border=\"1\" class=\"dataframe\">\n",
       "  <thead>\n",
       "    <tr style=\"text-align: right;\">\n",
       "      <th></th>\n",
       "      <th>sex</th>\n",
       "      <th>education</th>\n",
       "      <th>marriage</th>\n",
       "      <th>pay_1</th>\n",
       "      <th>pay_2</th>\n",
       "      <th>pay_3</th>\n",
       "      <th>pay_4</th>\n",
       "      <th>pay_5</th>\n",
       "      <th>pay_6</th>\n",
       "      <th>default_oct</th>\n",
       "    </tr>\n",
       "  </thead>\n",
       "  <tbody>\n",
       "    <tr>\n",
       "      <th>count</th>\n",
       "      <td>24001</td>\n",
       "      <td>24001</td>\n",
       "      <td>24001</td>\n",
       "      <td>24001</td>\n",
       "      <td>24001</td>\n",
       "      <td>24001</td>\n",
       "      <td>24001</td>\n",
       "      <td>23819</td>\n",
       "      <td>22790</td>\n",
       "      <td>24001</td>\n",
       "    </tr>\n",
       "    <tr>\n",
       "      <th>unique</th>\n",
       "      <td>2</td>\n",
       "      <td>7</td>\n",
       "      <td>4</td>\n",
       "      <td>11</td>\n",
       "      <td>11</td>\n",
       "      <td>11</td>\n",
       "      <td>11</td>\n",
       "      <td>10</td>\n",
       "      <td>10</td>\n",
       "      <td>2</td>\n",
       "    </tr>\n",
       "    <tr>\n",
       "      <th>top</th>\n",
       "      <td>2</td>\n",
       "      <td>2</td>\n",
       "      <td>2</td>\n",
       "      <td>0</td>\n",
       "      <td>0</td>\n",
       "      <td>0</td>\n",
       "      <td>0</td>\n",
       "      <td>0</td>\n",
       "      <td>0</td>\n",
       "      <td>no</td>\n",
       "    </tr>\n",
       "    <tr>\n",
       "      <th>freq</th>\n",
       "      <td>14498</td>\n",
       "      <td>11248</td>\n",
       "      <td>12746</td>\n",
       "      <td>11793</td>\n",
       "      <td>12591</td>\n",
       "      <td>12610</td>\n",
       "      <td>13137</td>\n",
       "      <td>13461</td>\n",
       "      <td>12388</td>\n",
       "      <td>18692</td>\n",
       "    </tr>\n",
       "  </tbody>\n",
       "</table>\n",
       "</div>"
      ],
      "text/plain": [
       "          sex  education  marriage  pay_1  pay_2  pay_3  pay_4  pay_5  pay_6  \\\n",
       "count   24001      24001     24001  24001  24001  24001  24001  23819  22790   \n",
       "unique      2          7         4     11     11     11     11     10     10   \n",
       "top         2          2         2      0      0      0      0      0      0   \n",
       "freq    14498      11248     12746  11793  12591  12610  13137  13461  12388   \n",
       "\n",
       "       default_oct  \n",
       "count        24001  \n",
       "unique           2  \n",
       "top             no  \n",
       "freq         18692  "
      ]
     },
     "execution_count": 195,
     "metadata": {},
     "output_type": "execute_result"
    }
   ],
   "source": [
    "train.describe(include = ['O'])"
   ]
  },
  {
   "cell_type": "code",
   "execution_count": 196,
   "metadata": {
    "collapsed": false
   },
   "outputs": [
    {
     "data": {
      "text/html": [
       "<div>\n",
       "<table border=\"1\" class=\"dataframe\">\n",
       "  <thead>\n",
       "    <tr style=\"text-align: right;\">\n",
       "      <th></th>\n",
       "      <th>sex</th>\n",
       "      <th>education</th>\n",
       "      <th>marriage</th>\n",
       "      <th>pay_1</th>\n",
       "      <th>pay_2</th>\n",
       "      <th>pay_3</th>\n",
       "      <th>pay_4</th>\n",
       "      <th>pay_5</th>\n",
       "      <th>pay_6</th>\n",
       "    </tr>\n",
       "  </thead>\n",
       "  <tbody>\n",
       "    <tr>\n",
       "      <th>count</th>\n",
       "      <td>5999</td>\n",
       "      <td>5999</td>\n",
       "      <td>5999</td>\n",
       "      <td>5999</td>\n",
       "      <td>5999</td>\n",
       "      <td>5999</td>\n",
       "      <td>5999</td>\n",
       "      <td>5955</td>\n",
       "      <td>5709</td>\n",
       "    </tr>\n",
       "    <tr>\n",
       "      <th>unique</th>\n",
       "      <td>2</td>\n",
       "      <td>7</td>\n",
       "      <td>4</td>\n",
       "      <td>10</td>\n",
       "      <td>10</td>\n",
       "      <td>9</td>\n",
       "      <td>9</td>\n",
       "      <td>8</td>\n",
       "      <td>10</td>\n",
       "    </tr>\n",
       "    <tr>\n",
       "      <th>top</th>\n",
       "      <td>2</td>\n",
       "      <td>2</td>\n",
       "      <td>2</td>\n",
       "      <td>0</td>\n",
       "      <td>0</td>\n",
       "      <td>0</td>\n",
       "      <td>0</td>\n",
       "      <td>0</td>\n",
       "      <td>0</td>\n",
       "    </tr>\n",
       "    <tr>\n",
       "      <th>freq</th>\n",
       "      <td>3614</td>\n",
       "      <td>2782</td>\n",
       "      <td>3218</td>\n",
       "      <td>2944</td>\n",
       "      <td>3139</td>\n",
       "      <td>3154</td>\n",
       "      <td>3318</td>\n",
       "      <td>3356</td>\n",
       "      <td>3077</td>\n",
       "    </tr>\n",
       "  </tbody>\n",
       "</table>\n",
       "</div>"
      ],
      "text/plain": [
       "         sex  education  marriage  pay_1  pay_2  pay_3  pay_4  pay_5  pay_6\n",
       "count   5999       5999      5999   5999   5999   5999   5999   5955   5709\n",
       "unique     2          7         4     10     10      9      9      8     10\n",
       "top        2          2         2      0      0      0      0      0      0\n",
       "freq    3614       2782      3218   2944   3139   3154   3318   3356   3077"
      ]
     },
     "execution_count": 196,
     "metadata": {},
     "output_type": "execute_result"
    }
   ],
   "source": [
    "test.describe(include = ['O'])"
   ]
  },
  {
   "cell_type": "markdown",
   "metadata": {},
   "source": [
    "Education and marriage have different more levels than mentioned in the README. Since the levels match in the training and testing set, I am leaving them as it is else I would have grouped the extraneous levels into the 'other' category."
   ]
  },
  {
   "cell_type": "markdown",
   "metadata": {},
   "source": [
    "## 4. Data Cleaning"
   ]
  },
  {
   "cell_type": "markdown",
   "metadata": {},
   "source": [
    "### 4.1 Removing Columns"
   ]
  },
  {
   "cell_type": "code",
   "execution_count": 197,
   "metadata": {
    "collapsed": true
   },
   "outputs": [],
   "source": [
    "remove_cols = ['customer_id',\n",
    "               'pay_1',\n",
    "               'pay_2',\n",
    "               'pay_3',\n",
    "               'pay_4',\n",
    "               'pay_5',\n",
    "               'pay_6']"
   ]
  },
  {
   "cell_type": "markdown",
   "metadata": {},
   "source": [
    "Removing the pay_1,pay_2,.....pay_6 columns since their values don't make sense in many cases."
   ]
  },
  {
   "cell_type": "code",
   "execution_count": 198,
   "metadata": {
    "collapsed": false
   },
   "outputs": [],
   "source": [
    "train_m = train.drop(remove_cols,axis = 1)\n",
    "test_m = test.drop(remove_cols,axis = 1)"
   ]
  },
  {
   "cell_type": "markdown",
   "metadata": {},
   "source": [
    "## 5. Feature Engineering"
   ]
  },
  {
   "cell_type": "markdown",
   "metadata": {},
   "source": [
    "### 5.1 Difference in bill_amt & pay_amt"
   ]
  },
  {
   "cell_type": "code",
   "execution_count": 200,
   "metadata": {
    "collapsed": false
   },
   "outputs": [],
   "source": [
    "for i in range(1,7):\n",
    "    train_m['diff_amt%s' % i] = train_m['bill_amt%s' % i] - train_m['pay_amt%s' %i]\n",
    "    test_m['diff_amt%s' % i] = test_m['bill_amt%s' % i] - test_m['pay_amt%s' %i]"
   ]
  },
  {
   "cell_type": "markdown",
   "metadata": {},
   "source": [
    "### 5.2 Summarizing bill_amt, pay_amt and diff_amt as a proportion of limit_bal "
   ]
  },
  {
   "cell_type": "code",
   "execution_count": 201,
   "metadata": {
    "collapsed": true
   },
   "outputs": [],
   "source": [
    "def summarize_features(df,cols,name):\n",
    "    df['%s_mean' % name] = df[cols].mean(axis = 1)/df['limit_bal']\n",
    "    df['%s_std' % name] = df[cols].std(axis = 1)/df['limit_bal']\n",
    "    df['%s_max' % name] = df[cols].max(axis = 1)/df['limit_bal']\n",
    "    df['%s_min' % name] = df[cols].min(axis = 1) /df['limit_bal']\n",
    "    df['%s_25' % name] = df[cols].quantile(q = 0.25, axis = 1)/df['limit_bal']\n",
    "    df['%s_50' % name] = df[cols].quantile(q = 0.50, axis = 1)/df['limit_bal']\n",
    "    df['%s_75' % name] = df[cols].quantile(q = 0.75, axis = 1)/df['limit_bal']\n",
    "    return df"
   ]
  },
  {
   "cell_type": "code",
   "execution_count": 202,
   "metadata": {
    "collapsed": false
   },
   "outputs": [],
   "source": [
    "cols = filter(lambda x : \"%s_\" % \"bill\" in x, train_m.columns.values)\n",
    "train_m = summarize_features(train_m,cols,\"bill\")\n",
    "test_m = summarize_features(test_m,cols,\"bill\")"
   ]
  },
  {
   "cell_type": "code",
   "execution_count": 203,
   "metadata": {
    "collapsed": false
   },
   "outputs": [],
   "source": [
    "cols = filter(lambda x : \"%s_\" % \"pay\" in x, train_m.columns.values)\n",
    "train_m = summarize_features(train_m,cols,\"pay\")\n",
    "test_m = summarize_features(test_m,cols,\"pay\")"
   ]
  },
  {
   "cell_type": "code",
   "execution_count": 204,
   "metadata": {
    "collapsed": true
   },
   "outputs": [],
   "source": [
    "cols = filter(lambda x : \"%s_\" % \"diff\" in x, train_m.columns.values)\n",
    "train_m = summarize_features(train_m,cols,\"diff\")\n",
    "test_m = summarize_features(test_m,cols,\"diff\")"
   ]
  },
  {
   "cell_type": "markdown",
   "metadata": {},
   "source": [
    "### 5.3 Removing actual bill_amt, pay_amt and diff_amt"
   ]
  },
  {
   "cell_type": "code",
   "execution_count": 205,
   "metadata": {
    "collapsed": true
   },
   "outputs": [],
   "source": [
    "remove_cols = ['bill_amt1','bill_amt2','bill_amt3','bill_amt4','bill_amt5','bill_amt6',\n",
    "               'pay_amt1','pay_amt2','pay_amt3','pay_amt4','pay_amt5','pay_amt6',\n",
    "               'diff_amt1','diff_amt2','diff_amt3','diff_amt4','diff_amt5','diff_amt6']"
   ]
  },
  {
   "cell_type": "code",
   "execution_count": 230,
   "metadata": {
    "collapsed": true
   },
   "outputs": [],
   "source": [
    "train_mm = train_m.drop(remove_cols,axis = 1)\n",
    "test_mm = test_m.drop(remove_cols,axis = 1)"
   ]
  },
  {
   "cell_type": "code",
   "execution_count": 231,
   "metadata": {
    "collapsed": false
   },
   "outputs": [
    {
     "data": {
      "text/html": [
       "<div>\n",
       "<table border=\"1\" class=\"dataframe\">\n",
       "  <thead>\n",
       "    <tr style=\"text-align: right;\">\n",
       "      <th></th>\n",
       "      <th>limit_bal</th>\n",
       "      <th>sex</th>\n",
       "      <th>education</th>\n",
       "      <th>marriage</th>\n",
       "      <th>age</th>\n",
       "      <th>default_oct</th>\n",
       "      <th>bill_mean</th>\n",
       "      <th>bill_std</th>\n",
       "      <th>bill_max</th>\n",
       "      <th>bill_min</th>\n",
       "      <th>bill_25</th>\n",
       "      <th>bill_50</th>\n",
       "      <th>bill_75</th>\n",
       "      <th>pay_mean</th>\n",
       "      <th>pay_std</th>\n",
       "      <th>pay_max</th>\n",
       "      <th>pay_min</th>\n",
       "      <th>pay_25</th>\n",
       "      <th>pay_50</th>\n",
       "      <th>pay_75</th>\n",
       "      <th>diff_mean</th>\n",
       "      <th>diff_std</th>\n",
       "      <th>diff_max</th>\n",
       "      <th>diff_min</th>\n",
       "      <th>diff_25</th>\n",
       "      <th>diff_50</th>\n",
       "      <th>diff_75</th>\n",
       "    </tr>\n",
       "  </thead>\n",
       "  <tbody>\n",
       "    <tr>\n",
       "      <th>0</th>\n",
       "      <td>1500</td>\n",
       "      <td>2</td>\n",
       "      <td>1</td>\n",
       "      <td>2</td>\n",
       "      <td>23</td>\n",
       "      <td>yes</td>\n",
       "      <td>0.837333</td>\n",
       "      <td>0.232061</td>\n",
       "      <td>1.002000</td>\n",
       "      <td>0.465333</td>\n",
       "      <td>0.711000</td>\n",
       "      <td>0.971667</td>\n",
       "      <td>0.984833</td>\n",
       "      <td>0.045667</td>\n",
       "      <td>0.033156</td>\n",
       "      <td>0.100000</td>\n",
       "      <td>0.000000</td>\n",
       "      <td>0.033333</td>\n",
       "      <td>0.041667</td>\n",
       "      <td>0.055500</td>\n",
       "      <td>0.791667</td>\n",
       "      <td>0.223792</td>\n",
       "      <td>0.975333</td>\n",
       "      <td>0.432000</td>\n",
       "      <td>0.669500</td>\n",
       "      <td>0.910000</td>\n",
       "      <td>0.927500</td>\n",
       "    </tr>\n",
       "    <tr>\n",
       "      <th>1</th>\n",
       "      <td>8500</td>\n",
       "      <td>2</td>\n",
       "      <td>2</td>\n",
       "      <td>2</td>\n",
       "      <td>29</td>\n",
       "      <td>no</td>\n",
       "      <td>0.972902</td>\n",
       "      <td>0.014815</td>\n",
       "      <td>0.991176</td>\n",
       "      <td>0.950471</td>\n",
       "      <td>0.964706</td>\n",
       "      <td>0.975000</td>\n",
       "      <td>0.982118</td>\n",
       "      <td>0.038137</td>\n",
       "      <td>0.004517</td>\n",
       "      <td>0.047059</td>\n",
       "      <td>0.035294</td>\n",
       "      <td>0.035441</td>\n",
       "      <td>0.036471</td>\n",
       "      <td>0.037941</td>\n",
       "      <td>0.934765</td>\n",
       "      <td>0.016875</td>\n",
       "      <td>0.955294</td>\n",
       "      <td>0.914706</td>\n",
       "      <td>0.920206</td>\n",
       "      <td>0.937353</td>\n",
       "      <td>0.946382</td>\n",
       "    </tr>\n",
       "    <tr>\n",
       "      <th>2</th>\n",
       "      <td>1000</td>\n",
       "      <td>1</td>\n",
       "      <td>1</td>\n",
       "      <td>2</td>\n",
       "      <td>22</td>\n",
       "      <td>no</td>\n",
       "      <td>0.826500</td>\n",
       "      <td>0.076107</td>\n",
       "      <td>0.933000</td>\n",
       "      <td>0.733000</td>\n",
       "      <td>0.777500</td>\n",
       "      <td>0.812500</td>\n",
       "      <td>0.879750</td>\n",
       "      <td>0.114833</td>\n",
       "      <td>0.049155</td>\n",
       "      <td>0.150000</td>\n",
       "      <td>0.024000</td>\n",
       "      <td>0.106250</td>\n",
       "      <td>0.130000</td>\n",
       "      <td>0.150000</td>\n",
       "      <td>0.711667</td>\n",
       "      <td>0.109887</td>\n",
       "      <td>0.909000</td>\n",
       "      <td>0.583000</td>\n",
       "      <td>0.670500</td>\n",
       "      <td>0.682500</td>\n",
       "      <td>0.730500</td>\n",
       "    </tr>\n",
       "    <tr>\n",
       "      <th>3</th>\n",
       "      <td>10500</td>\n",
       "      <td>1</td>\n",
       "      <td>1</td>\n",
       "      <td>1</td>\n",
       "      <td>31</td>\n",
       "      <td>no</td>\n",
       "      <td>0.680889</td>\n",
       "      <td>0.011955</td>\n",
       "      <td>0.699048</td>\n",
       "      <td>0.667714</td>\n",
       "      <td>0.672000</td>\n",
       "      <td>0.679381</td>\n",
       "      <td>0.687548</td>\n",
       "      <td>0.025476</td>\n",
       "      <td>0.001869</td>\n",
       "      <td>0.029238</td>\n",
       "      <td>0.024286</td>\n",
       "      <td>0.024619</td>\n",
       "      <td>0.024762</td>\n",
       "      <td>0.025119</td>\n",
       "      <td>0.655413</td>\n",
       "      <td>0.010494</td>\n",
       "      <td>0.669810</td>\n",
       "      <td>0.642952</td>\n",
       "      <td>0.647643</td>\n",
       "      <td>0.654714</td>\n",
       "      <td>0.662429</td>\n",
       "    </tr>\n",
       "    <tr>\n",
       "      <th>4</th>\n",
       "      <td>10500</td>\n",
       "      <td>2</td>\n",
       "      <td>2</td>\n",
       "      <td>1</td>\n",
       "      <td>44</td>\n",
       "      <td>no</td>\n",
       "      <td>0.367730</td>\n",
       "      <td>0.046782</td>\n",
       "      <td>0.428667</td>\n",
       "      <td>0.332952</td>\n",
       "      <td>0.337071</td>\n",
       "      <td>0.340476</td>\n",
       "      <td>0.406024</td>\n",
       "      <td>0.015000</td>\n",
       "      <td>0.002604</td>\n",
       "      <td>0.019048</td>\n",
       "      <td>0.012381</td>\n",
       "      <td>0.013095</td>\n",
       "      <td>0.014286</td>\n",
       "      <td>0.016548</td>\n",
       "      <td>0.352730</td>\n",
       "      <td>0.046252</td>\n",
       "      <td>0.413905</td>\n",
       "      <td>0.313905</td>\n",
       "      <td>0.323619</td>\n",
       "      <td>0.327857</td>\n",
       "      <td>0.389952</td>\n",
       "    </tr>\n",
       "  </tbody>\n",
       "</table>\n",
       "</div>"
      ],
      "text/plain": [
       "   limit_bal sex education marriage  age default_oct  bill_mean  bill_std  \\\n",
       "0       1500   2         1        2   23         yes   0.837333  0.232061   \n",
       "1       8500   2         2        2   29          no   0.972902  0.014815   \n",
       "2       1000   1         1        2   22          no   0.826500  0.076107   \n",
       "3      10500   1         1        1   31          no   0.680889  0.011955   \n",
       "4      10500   2         2        1   44          no   0.367730  0.046782   \n",
       "\n",
       "   bill_max  bill_min   bill_25   bill_50   bill_75  pay_mean   pay_std  \\\n",
       "0  1.002000  0.465333  0.711000  0.971667  0.984833  0.045667  0.033156   \n",
       "1  0.991176  0.950471  0.964706  0.975000  0.982118  0.038137  0.004517   \n",
       "2  0.933000  0.733000  0.777500  0.812500  0.879750  0.114833  0.049155   \n",
       "3  0.699048  0.667714  0.672000  0.679381  0.687548  0.025476  0.001869   \n",
       "4  0.428667  0.332952  0.337071  0.340476  0.406024  0.015000  0.002604   \n",
       "\n",
       "    pay_max   pay_min    pay_25    pay_50    pay_75  diff_mean  diff_std  \\\n",
       "0  0.100000  0.000000  0.033333  0.041667  0.055500   0.791667  0.223792   \n",
       "1  0.047059  0.035294  0.035441  0.036471  0.037941   0.934765  0.016875   \n",
       "2  0.150000  0.024000  0.106250  0.130000  0.150000   0.711667  0.109887   \n",
       "3  0.029238  0.024286  0.024619  0.024762  0.025119   0.655413  0.010494   \n",
       "4  0.019048  0.012381  0.013095  0.014286  0.016548   0.352730  0.046252   \n",
       "\n",
       "   diff_max  diff_min   diff_25   diff_50   diff_75  \n",
       "0  0.975333  0.432000  0.669500  0.910000  0.927500  \n",
       "1  0.955294  0.914706  0.920206  0.937353  0.946382  \n",
       "2  0.909000  0.583000  0.670500  0.682500  0.730500  \n",
       "3  0.669810  0.642952  0.647643  0.654714  0.662429  \n",
       "4  0.413905  0.313905  0.323619  0.327857  0.389952  "
      ]
     },
     "execution_count": 231,
     "metadata": {},
     "output_type": "execute_result"
    }
   ],
   "source": [
    "train_mm.head()"
   ]
  },
  {
   "cell_type": "code",
   "execution_count": 232,
   "metadata": {
    "collapsed": false
   },
   "outputs": [
    {
     "data": {
      "text/html": [
       "<div>\n",
       "<table border=\"1\" class=\"dataframe\">\n",
       "  <thead>\n",
       "    <tr style=\"text-align: right;\">\n",
       "      <th></th>\n",
       "      <th>limit_bal</th>\n",
       "      <th>sex</th>\n",
       "      <th>education</th>\n",
       "      <th>marriage</th>\n",
       "      <th>age</th>\n",
       "      <th>bill_mean</th>\n",
       "      <th>bill_std</th>\n",
       "      <th>bill_max</th>\n",
       "      <th>bill_min</th>\n",
       "      <th>bill_25</th>\n",
       "      <th>bill_50</th>\n",
       "      <th>bill_75</th>\n",
       "      <th>pay_mean</th>\n",
       "      <th>pay_std</th>\n",
       "      <th>pay_max</th>\n",
       "      <th>pay_min</th>\n",
       "      <th>pay_25</th>\n",
       "      <th>pay_50</th>\n",
       "      <th>pay_75</th>\n",
       "      <th>diff_mean</th>\n",
       "      <th>diff_std</th>\n",
       "      <th>diff_max</th>\n",
       "      <th>diff_min</th>\n",
       "      <th>diff_25</th>\n",
       "      <th>diff_50</th>\n",
       "      <th>diff_75</th>\n",
       "    </tr>\n",
       "  </thead>\n",
       "  <tbody>\n",
       "    <tr>\n",
       "      <th>0</th>\n",
       "      <td>10500</td>\n",
       "      <td>1</td>\n",
       "      <td>2</td>\n",
       "      <td>2</td>\n",
       "      <td>34</td>\n",
       "      <td>0.113238</td>\n",
       "      <td>0.065304</td>\n",
       "      <td>0.198095</td>\n",
       "      <td>0.011429</td>\n",
       "      <td>0.088571</td>\n",
       "      <td>0.110095</td>\n",
       "      <td>0.153762</td>\n",
       "      <td>0.046095</td>\n",
       "      <td>0.043303</td>\n",
       "      <td>0.100286</td>\n",
       "      <td>0.002286</td>\n",
       "      <td>0.009929</td>\n",
       "      <td>0.040190</td>\n",
       "      <td>0.080381</td>\n",
       "      <td>0.067143</td>\n",
       "      <td>0.051648</td>\n",
       "      <td>0.129143</td>\n",
       "      <td>0.002286</td>\n",
       "      <td>0.024976</td>\n",
       "      <td>0.077048</td>\n",
       "      <td>0.101548</td>\n",
       "    </tr>\n",
       "    <tr>\n",
       "      <th>1</th>\n",
       "      <td>27500</td>\n",
       "      <td>2</td>\n",
       "      <td>5</td>\n",
       "      <td>2</td>\n",
       "      <td>52</td>\n",
       "      <td>0.251085</td>\n",
       "      <td>0.256736</td>\n",
       "      <td>0.504291</td>\n",
       "      <td>0.000836</td>\n",
       "      <td>0.020127</td>\n",
       "      <td>0.250964</td>\n",
       "      <td>0.479945</td>\n",
       "      <td>0.012236</td>\n",
       "      <td>0.013036</td>\n",
       "      <td>0.035891</td>\n",
       "      <td>0.000000</td>\n",
       "      <td>0.003355</td>\n",
       "      <td>0.010909</td>\n",
       "      <td>0.013882</td>\n",
       "      <td>0.238848</td>\n",
       "      <td>0.249869</td>\n",
       "      <td>0.493382</td>\n",
       "      <td>-0.014036</td>\n",
       "      <td>0.019918</td>\n",
       "      <td>0.232600</td>\n",
       "      <td>0.462791</td>\n",
       "    </tr>\n",
       "    <tr>\n",
       "      <th>2</th>\n",
       "      <td>27500</td>\n",
       "      <td>2</td>\n",
       "      <td>2</td>\n",
       "      <td>1</td>\n",
       "      <td>32</td>\n",
       "      <td>0.868042</td>\n",
       "      <td>0.287432</td>\n",
       "      <td>0.997345</td>\n",
       "      <td>0.281964</td>\n",
       "      <td>0.967036</td>\n",
       "      <td>0.983855</td>\n",
       "      <td>0.995818</td>\n",
       "      <td>0.117552</td>\n",
       "      <td>0.138899</td>\n",
       "      <td>0.304764</td>\n",
       "      <td>0.007818</td>\n",
       "      <td>0.028673</td>\n",
       "      <td>0.039945</td>\n",
       "      <td>0.225927</td>\n",
       "      <td>0.750491</td>\n",
       "      <td>0.388229</td>\n",
       "      <td>0.970945</td>\n",
       "      <td>-0.005418</td>\n",
       "      <td>0.739782</td>\n",
       "      <td>0.954764</td>\n",
       "      <td>0.958518</td>\n",
       "    </tr>\n",
       "    <tr>\n",
       "      <th>3</th>\n",
       "      <td>9000</td>\n",
       "      <td>2</td>\n",
       "      <td>2</td>\n",
       "      <td>1</td>\n",
       "      <td>32</td>\n",
       "      <td>0.099574</td>\n",
       "      <td>0.016713</td>\n",
       "      <td>0.129889</td>\n",
       "      <td>0.083333</td>\n",
       "      <td>0.088583</td>\n",
       "      <td>0.096944</td>\n",
       "      <td>0.102639</td>\n",
       "      <td>0.011111</td>\n",
       "      <td>0.010541</td>\n",
       "      <td>0.027778</td>\n",
       "      <td>0.000000</td>\n",
       "      <td>0.002778</td>\n",
       "      <td>0.011111</td>\n",
       "      <td>0.015278</td>\n",
       "      <td>0.088463</td>\n",
       "      <td>0.018266</td>\n",
       "      <td>0.118778</td>\n",
       "      <td>0.066667</td>\n",
       "      <td>0.078222</td>\n",
       "      <td>0.085278</td>\n",
       "      <td>0.095500</td>\n",
       "    </tr>\n",
       "    <tr>\n",
       "      <th>4</th>\n",
       "      <td>500</td>\n",
       "      <td>1</td>\n",
       "      <td>3</td>\n",
       "      <td>2</td>\n",
       "      <td>42</td>\n",
       "      <td>0.641333</td>\n",
       "      <td>0.164408</td>\n",
       "      <td>0.862000</td>\n",
       "      <td>0.440000</td>\n",
       "      <td>0.535500</td>\n",
       "      <td>0.610000</td>\n",
       "      <td>0.764000</td>\n",
       "      <td>0.082000</td>\n",
       "      <td>0.097341</td>\n",
       "      <td>0.258000</td>\n",
       "      <td>0.000000</td>\n",
       "      <td>0.008500</td>\n",
       "      <td>0.067000</td>\n",
       "      <td>0.100000</td>\n",
       "      <td>0.559333</td>\n",
       "      <td>0.222109</td>\n",
       "      <td>0.862000</td>\n",
       "      <td>0.340000</td>\n",
       "      <td>0.401500</td>\n",
       "      <td>0.486000</td>\n",
       "      <td>0.728000</td>\n",
       "    </tr>\n",
       "  </tbody>\n",
       "</table>\n",
       "</div>"
      ],
      "text/plain": [
       "   limit_bal sex education marriage  age  bill_mean  bill_std  bill_max  \\\n",
       "0      10500   1         2        2   34   0.113238  0.065304  0.198095   \n",
       "1      27500   2         5        2   52   0.251085  0.256736  0.504291   \n",
       "2      27500   2         2        1   32   0.868042  0.287432  0.997345   \n",
       "3       9000   2         2        1   32   0.099574  0.016713  0.129889   \n",
       "4        500   1         3        2   42   0.641333  0.164408  0.862000   \n",
       "\n",
       "   bill_min   bill_25   bill_50   bill_75  pay_mean   pay_std   pay_max  \\\n",
       "0  0.011429  0.088571  0.110095  0.153762  0.046095  0.043303  0.100286   \n",
       "1  0.000836  0.020127  0.250964  0.479945  0.012236  0.013036  0.035891   \n",
       "2  0.281964  0.967036  0.983855  0.995818  0.117552  0.138899  0.304764   \n",
       "3  0.083333  0.088583  0.096944  0.102639  0.011111  0.010541  0.027778   \n",
       "4  0.440000  0.535500  0.610000  0.764000  0.082000  0.097341  0.258000   \n",
       "\n",
       "    pay_min    pay_25    pay_50    pay_75  diff_mean  diff_std  diff_max  \\\n",
       "0  0.002286  0.009929  0.040190  0.080381   0.067143  0.051648  0.129143   \n",
       "1  0.000000  0.003355  0.010909  0.013882   0.238848  0.249869  0.493382   \n",
       "2  0.007818  0.028673  0.039945  0.225927   0.750491  0.388229  0.970945   \n",
       "3  0.000000  0.002778  0.011111  0.015278   0.088463  0.018266  0.118778   \n",
       "4  0.000000  0.008500  0.067000  0.100000   0.559333  0.222109  0.862000   \n",
       "\n",
       "   diff_min   diff_25   diff_50   diff_75  \n",
       "0  0.002286  0.024976  0.077048  0.101548  \n",
       "1 -0.014036  0.019918  0.232600  0.462791  \n",
       "2 -0.005418  0.739782  0.954764  0.958518  \n",
       "3  0.066667  0.078222  0.085278  0.095500  \n",
       "4  0.340000  0.401500  0.486000  0.728000  "
      ]
     },
     "execution_count": 232,
     "metadata": {},
     "output_type": "execute_result"
    }
   ],
   "source": [
    "test_mm.head()"
   ]
  },
  {
   "cell_type": "markdown",
   "metadata": {},
   "source": [
    "## 5. Modeling "
   ]
  },
  {
   "cell_type": "markdown",
   "metadata": {},
   "source": [
    "### 5.1 Pre-processing data for modeling"
   ]
  },
  {
   "cell_type": "code",
   "execution_count": 233,
   "metadata": {
    "collapsed": false
   },
   "outputs": [],
   "source": [
    "from sklearn.preprocessing import LabelEncoder\n",
    "target = 'default_oct'\n",
    "continous_feat = [col for col in train_mm.columns.values if train_mm[col].dtype == 'int64' or  train_mm[col].dtype == 'float64']\n",
    "categorical_feat = [col for col in train_mm.columns.values if train_mm[col].dtype == \"object\" and col != target]\n",
    "\n",
    "flf = LabelEncoder()\n",
    "train_mm[target] = flf.fit_transform(train_mm[target])"
   ]
  },
  {
   "cell_type": "code",
   "execution_count": 234,
   "metadata": {
    "collapsed": false
   },
   "outputs": [
    {
     "data": {
      "text/plain": [
       "0    18692\n",
       "1     5309\n",
       "Name: default_oct, dtype: int64"
      ]
     },
     "execution_count": 234,
     "metadata": {},
     "output_type": "execute_result"
    }
   ],
   "source": [
    "train_mm[target].value_counts()"
   ]
  },
  {
   "cell_type": "code",
   "execution_count": 236,
   "metadata": {
    "collapsed": false
   },
   "outputs": [],
   "source": [
    "X_train = pd.concat([pd.get_dummies(train_mm[categorical_feat]), train_mm[continous_feat]], axis = 1)\n",
    "X_test = pd.concat([pd.get_dummies(test_mm[categorical_feat]), test_mm[continous_feat]], axis = 1)\n",
    "y_train = train_mm[target]"
   ]
  },
  {
   "cell_type": "markdown",
   "metadata": {},
   "source": [
    "### 5.2 Baseline Random Forest"
   ]
  },
  {
   "cell_type": "code",
   "execution_count": 237,
   "metadata": {
    "collapsed": false
   },
   "outputs": [
    {
     "name": "stderr",
     "output_type": "stream",
     "text": [
      "C:\\Anaconda2\\lib\\site-packages\\sklearn\\cross_validation.py:44: DeprecationWarning: This module was deprecated in version 0.18 in favor of the model_selection module into which all the refactored classes and functions are moved. Also note that the interface of the new CV iterators are different from that of this module. This module will be removed in 0.20.\n",
      "  \"This module will be removed in 0.20.\", DeprecationWarning)\n"
     ]
    }
   ],
   "source": [
    "from sklearn.cross_validation import StratifiedKFold, cross_val_score\n",
    "from sklearn.grid_search import GridSearchCV"
   ]
  },
  {
   "cell_type": "code",
   "execution_count": null,
   "metadata": {
    "collapsed": true
   },
   "outputs": [],
   "source": [
    "from sklearn.ensemble import RandomForestClassifier"
   ]
  },
  {
   "cell_type": "code",
   "execution_count": 240,
   "metadata": {
    "collapsed": true
   },
   "outputs": [],
   "source": [
    "clf = RandomForestClassifier(n_estimators = 1000, class_weight = 'balanced')"
   ]
  },
  {
   "cell_type": "code",
   "execution_count": 241,
   "metadata": {
    "collapsed": false
   },
   "outputs": [
    {
     "data": {
      "text/plain": [
       "RandomForestClassifier(bootstrap=True, class_weight='balanced',\n",
       "            criterion='gini', max_depth=None, max_features='auto',\n",
       "            max_leaf_nodes=None, min_impurity_split=1e-07,\n",
       "            min_samples_leaf=1, min_samples_split=2,\n",
       "            min_weight_fraction_leaf=0.0, n_estimators=1000, n_jobs=1,\n",
       "            oob_score=False, random_state=None, verbose=0,\n",
       "            warm_start=False)"
      ]
     },
     "execution_count": 241,
     "metadata": {},
     "output_type": "execute_result"
    }
   ],
   "source": [
    "clf.fit(X_train,y_train)"
   ]
  },
  {
   "cell_type": "markdown",
   "metadata": {},
   "source": [
    "Cross-validated log loss"
   ]
  },
  {
   "cell_type": "code",
   "execution_count": 242,
   "metadata": {
    "collapsed": false
   },
   "outputs": [
    {
     "name": "stdout",
     "output_type": "stream",
     "text": [
      "-0.480992140421 0.0034483077852\n"
     ]
    }
   ],
   "source": [
    "stratification = StratifiedKFold(y_train,n_folds = 5)\n",
    "scores = cross_val_score(clf, X_train, y_train, scoring = 'neg_log_loss', cv = stratification, n_jobs = -1)\n",
    "print np.mean(scores), np.std(scores)"
   ]
  },
  {
   "cell_type": "markdown",
   "metadata": {},
   "source": [
    "Cross-validated AUC"
   ]
  },
  {
   "cell_type": "code",
   "execution_count": 251,
   "metadata": {
    "collapsed": false
   },
   "outputs": [
    {
     "name": "stdout",
     "output_type": "stream",
     "text": [
      "0.707752173754 0.00512926815687\n"
     ]
    }
   ],
   "source": [
    "stratification = StratifiedKFold(y_train,n_folds = 5)\n",
    "scores = cross_val_score(clf, X_train, y_train, scoring = 'roc_auc', cv = stratification, n_jobs = -1)\n",
    "print np.mean(scores), np.std(scores)"
   ]
  },
  {
   "cell_type": "markdown",
   "metadata": {},
   "source": [
    "### 5.3 Tuned Random Forest"
   ]
  },
  {
   "cell_type": "code",
   "execution_count": 265,
   "metadata": {
    "collapsed": false
   },
   "outputs": [
    {
     "name": "stdout",
     "output_type": "stream",
     "text": [
      "Fitting 3 folds for each of 7 candidates, totalling 21 fits\n"
     ]
    },
    {
     "name": "stderr",
     "output_type": "stream",
     "text": [
      "[Parallel(n_jobs=-1)]: Done  21 out of  21 | elapsed: 10.9min finished\n"
     ]
    },
    {
     "data": {
      "text/plain": [
       "GridSearchCV(cv=None, error_score='raise',\n",
       "       estimator=RandomForestClassifier(bootstrap=True, class_weight='balanced',\n",
       "            criterion='gini', max_depth=None, max_features='auto',\n",
       "            max_leaf_nodes=None, min_impurity_split=1e-07,\n",
       "            min_samples_leaf=1, min_samples_split=2,\n",
       "            min_weight_fraction_leaf=0.0, n_estimators=1000, n_jobs=1,\n",
       "            oob_score=False, random_state=None, verbose=0,\n",
       "            warm_start=False),\n",
       "       fit_params={}, iid=True, n_jobs=-1,\n",
       "       param_grid={'max_features': [4, 5, 6, 7, 8, 9, 10]},\n",
       "       pre_dispatch='2*n_jobs', refit=True, scoring='neg_log_loss',\n",
       "       verbose=1)"
      ]
     },
     "execution_count": 265,
     "metadata": {},
     "output_type": "execute_result"
    }
   ],
   "source": [
    "glf = GridSearchCV(RandomForestClassifier(n_estimators = 1000, class_weight = 'balanced'),\n",
    "                   param_grid = {'max_features': range(4,11)},\n",
    "                   scoring = 'neg_log_loss',\n",
    "                   n_jobs = -1,\n",
    "                   verbose = 1)\n",
    "glf.fit(X_train,y_train)  "
   ]
  },
  {
   "cell_type": "code",
   "execution_count": 268,
   "metadata": {
    "collapsed": false
   },
   "outputs": [
    {
     "name": "stdout",
     "output_type": "stream",
     "text": [
      "{'max_features': 4} -0.48144788314\n"
     ]
    }
   ],
   "source": [
    "print glf.best_params_, glf.best_score_"
   ]
  },
  {
   "cell_type": "code",
   "execution_count": 269,
   "metadata": {
    "collapsed": false
   },
   "outputs": [
    {
     "data": {
      "text/plain": [
       "[mean: -0.48145, std: 0.00019, params: {'max_features': 4},\n",
       " mean: -0.48233, std: 0.00015, params: {'max_features': 5},\n",
       " mean: -0.48351, std: 0.00168, params: {'max_features': 6},\n",
       " mean: -0.48270, std: 0.00018, params: {'max_features': 7},\n",
       " mean: -0.48240, std: 0.00055, params: {'max_features': 8},\n",
       " mean: -0.48273, std: 0.00040, params: {'max_features': 9},\n",
       " mean: -0.48368, std: 0.00182, params: {'max_features': 10}]"
      ]
     },
     "execution_count": 269,
     "metadata": {},
     "output_type": "execute_result"
    }
   ],
   "source": [
    "glf.grid_scores_"
   ]
  },
  {
   "cell_type": "code",
   "execution_count": 270,
   "metadata": {
    "collapsed": true
   },
   "outputs": [],
   "source": [
    "clf_tuned = glf.best_estimator_"
   ]
  },
  {
   "cell_type": "markdown",
   "metadata": {},
   "source": [
    "Cross-validated log loss"
   ]
  },
  {
   "cell_type": "code",
   "execution_count": 271,
   "metadata": {
    "collapsed": false
   },
   "outputs": [
    {
     "name": "stdout",
     "output_type": "stream",
     "text": [
      "-0.480924060929 0.00461808926172\n"
     ]
    }
   ],
   "source": [
    "stratification = StratifiedKFold(y_train,n_folds = 5)\n",
    "scores = cross_val_score(clf_tuned, X_train, y_train, scoring = 'neg_log_loss', cv = stratification, n_jobs = -1)\n",
    "print np.mean(scores), np.std(scores)"
   ]
  },
  {
   "cell_type": "markdown",
   "metadata": {},
   "source": [
    "Cross-validated AUC"
   ]
  },
  {
   "cell_type": "code",
   "execution_count": 272,
   "metadata": {
    "collapsed": false
   },
   "outputs": [
    {
     "name": "stdout",
     "output_type": "stream",
     "text": [
      "0.708504286854 0.00553629952048\n"
     ]
    }
   ],
   "source": [
    "stratification = StratifiedKFold(y_train,n_folds = 5)\n",
    "scores = cross_val_score(clf_tuned, X_train, y_train, scoring = 'roc_auc', cv = stratification, n_jobs = -1)\n",
    "print np.mean(scores), np.std(scores)"
   ]
  },
  {
   "cell_type": "code",
   "execution_count": 275,
   "metadata": {
    "collapsed": false
   },
   "outputs": [
    {
     "data": {
      "text/plain": [
       "<matplotlib.text.Text at 0x133389e8>"
      ]
     },
     "execution_count": 275,
     "metadata": {},
     "output_type": "execute_result"
    },
    {
     "data": {
      "image/png": "[encoded data removed]",
      "text/plain": [
       "<matplotlib.figure.Figure at 0xca97f60>"
      ]
     },
     "metadata": {},
     "output_type": "display_data"
    }
   ],
   "source": [
    "features = X_train.columns.values\n",
    "pd.DataFrame({'Features':features,'Importance':clf_tuned.feature_importances_}).sort_values(\n",
    "by = 'Importance',ascending = False).head(20).set_index(\"Features\").plot(kind = \"bar\")\n",
    "plt.title(\"Feature Importance\")"
   ]
  },
  {
   "cell_type": "markdown",
   "metadata": {},
   "source": [
    "### 5.4 Baseline Adaboost Classifier"
   ]
  },
  {
   "cell_type": "code",
   "execution_count": 247,
   "metadata": {
    "collapsed": false
   },
   "outputs": [],
   "source": [
    "from sklearn.ensemble import AdaBoostClassifier"
   ]
  },
  {
   "cell_type": "code",
   "execution_count": 248,
   "metadata": {
    "collapsed": true
   },
   "outputs": [],
   "source": [
    "gbm = AdaBoostClassifier()"
   ]
  },
  {
   "cell_type": "code",
   "execution_count": 249,
   "metadata": {
    "collapsed": false
   },
   "outputs": [
    {
     "data": {
      "text/plain": [
       "AdaBoostClassifier(algorithm='SAMME.R', base_estimator=None,\n",
       "          learning_rate=1.0, n_estimators=50, random_state=None)"
      ]
     },
     "execution_count": 249,
     "metadata": {},
     "output_type": "execute_result"
    }
   ],
   "source": [
    "gbm.fit(X_train,y_train)"
   ]
  },
  {
   "cell_type": "code",
   "execution_count": 250,
   "metadata": {
    "collapsed": false
   },
   "outputs": [
    {
     "name": "stdout",
     "output_type": "stream",
     "text": [
      "-0.682776411911 8.35997555682e-05\n"
     ]
    }
   ],
   "source": [
    "stratification = StratifiedKFold(y_train,n_folds = 5)\n",
    "scores = cross_val_score(gbm, X_train, y_train, scoring = 'neg_log_loss', cv = stratification, n_jobs = -1)\n",
    "print np.mean(scores), np.std(scores)"
   ]
  },
  {
   "cell_type": "code",
   "execution_count": 252,
   "metadata": {
    "collapsed": false
   },
   "outputs": [
    {
     "name": "stdout",
     "output_type": "stream",
     "text": [
      "0.713244647057 0.00671456421404\n"
     ]
    }
   ],
   "source": [
    "stratification = StratifiedKFold(y_train,n_folds = 5)\n",
    "scores = cross_val_score(gbm, X_train, y_train, scoring = 'roc_auc', cv = stratification, n_jobs = -1)\n",
    "print np.mean(scores), np.std(scores)"
   ]
  },
  {
   "cell_type": "markdown",
   "metadata": {},
   "source": [
    "### 5.5 Tuned Adaboost Classifier"
   ]
  },
  {
   "cell_type": "code",
   "execution_count": 256,
   "metadata": {
    "collapsed": false
   },
   "outputs": [
    {
     "name": "stdout",
     "output_type": "stream",
     "text": [
      "Fitting 3 folds for each of 9 candidates, totalling 27 fits\n"
     ]
    },
    {
     "name": "stderr",
     "output_type": "stream",
     "text": [
      "[Parallel(n_jobs=-1)]: Done  27 out of  27 | elapsed:   59.6s finished\n"
     ]
    },
    {
     "data": {
      "text/plain": [
       "GridSearchCV(cv=None, error_score='raise',\n",
       "       estimator=AdaBoostClassifier(algorithm='SAMME.R', base_estimator=None,\n",
       "          learning_rate=1.0, n_estimators=50, random_state=None),\n",
       "       fit_params={}, iid=True, n_jobs=-1,\n",
       "       param_grid={'n_estimators': [50, 100, 200], 'learning_rate': [0.01, 0.1, 1]},\n",
       "       pre_dispatch='2*n_jobs', refit=True, scoring='neg_log_loss',\n",
       "       verbose=1)"
      ]
     },
     "execution_count": 256,
     "metadata": {},
     "output_type": "execute_result"
    }
   ],
   "source": [
    "glf = GridSearchCV(AdaBoostClassifier(),\n",
    "                   param_grid = {'n_estimators': [50,100,200],\n",
    "                                 'learning_rate' : [0.01,0.1,1]},\n",
    "                   scoring = 'neg_log_loss',\n",
    "                   n_jobs = -1,\n",
    "                   verbose = 1)\n",
    "glf.fit(X_train,y_train)    "
   ]
  },
  {
   "cell_type": "code",
   "execution_count": 257,
   "metadata": {
    "collapsed": false
   },
   "outputs": [
    {
     "name": "stdout",
     "output_type": "stream",
     "text": [
      "{'n_estimators': 50, 'learning_rate': 0.01} -0.512038819869\n"
     ]
    }
   ],
   "source": [
    "print glf.best_params_, glf.best_score_"
   ]
  },
  {
   "cell_type": "code",
   "execution_count": 258,
   "metadata": {
    "collapsed": false
   },
   "outputs": [
    {
     "data": {
      "text/plain": [
       "[mean: -0.51204, std: 0.00102, params: {'n_estimators': 50, 'learning_rate': 0.01},\n",
       " mean: -0.52458, std: 0.00041, params: {'n_estimators': 100, 'learning_rate': 0.01},\n",
       " mean: -0.55576, std: 0.00052, params: {'n_estimators': 200, 'learning_rate': 0.01},\n",
       " mean: -0.61430, std: 0.00031, params: {'n_estimators': 50, 'learning_rate': 0.1},\n",
       " mean: -0.64896, std: 0.00011, params: {'n_estimators': 100, 'learning_rate': 0.1},\n",
       " mean: -0.66935, std: 0.00003, params: {'n_estimators': 200, 'learning_rate': 0.1},\n",
       " mean: -0.68274, std: 0.00003, params: {'n_estimators': 50, 'learning_rate': 1},\n",
       " mean: -0.68780, std: 0.00007, params: {'n_estimators': 100, 'learning_rate': 1},\n",
       " mean: -0.69034, std: 0.00002, params: {'n_estimators': 200, 'learning_rate': 1}]"
      ]
     },
     "execution_count": 258,
     "metadata": {},
     "output_type": "execute_result"
    }
   ],
   "source": [
    "glf.grid_scores_"
   ]
  },
  {
   "cell_type": "code",
   "execution_count": 259,
   "metadata": {
    "collapsed": true
   },
   "outputs": [],
   "source": [
    "gbm_tuned = glf.best_estimator_"
   ]
  },
  {
   "cell_type": "markdown",
   "metadata": {},
   "source": [
    "Cross-validated log loss"
   ]
  },
  {
   "cell_type": "code",
   "execution_count": 260,
   "metadata": {
    "collapsed": false
   },
   "outputs": [
    {
     "name": "stdout",
     "output_type": "stream",
     "text": [
      "-0.511886536375 0.000654074152043\n"
     ]
    }
   ],
   "source": [
    "stratification = StratifiedKFold(y_train,n_folds = 5)\n",
    "scores = cross_val_score(gbm_tuned, X_train, y_train, scoring = 'neg_log_loss', cv = stratification, n_jobs = -1)\n",
    "print np.mean(scores), np.std(scores)"
   ]
  },
  {
   "cell_type": "markdown",
   "metadata": {},
   "source": [
    "Cross-validated AUC"
   ]
  },
  {
   "cell_type": "code",
   "execution_count": 261,
   "metadata": {
    "collapsed": false
   },
   "outputs": [
    {
     "name": "stdout",
     "output_type": "stream",
     "text": [
      "0.674767922386 0.0047338626351\n"
     ]
    }
   ],
   "source": [
    "stratification = StratifiedKFold(y_train,n_folds = 5)\n",
    "scores = cross_val_score(gbm_tuned, X_train, y_train, scoring = 'roc_auc', cv = stratification, n_jobs = -1)\n",
    "print np.mean(scores), np.std(scores)"
   ]
  },
  {
   "cell_type": "markdown",
   "metadata": {},
   "source": [
    "## 6. Predictions"
   ]
  },
  {
   "cell_type": "markdown",
   "metadata": {},
   "source": [
    "Using the tuned random forest model to make predictions."
   ]
  },
  {
   "cell_type": "code",
   "execution_count": 282,
   "metadata": {
    "collapsed": true
   },
   "outputs": [],
   "source": [
    "y = clf_tuned.predict_proba(X_test)[:,1]"
   ]
  },
  {
   "cell_type": "code",
   "execution_count": 287,
   "metadata": {
    "collapsed": false
   },
   "outputs": [
    {
     "data": {
      "text/plain": [
       "array([ 0.035,  0.155,  0.402, ...,  0.368,  0.375,  0.411])"
      ]
     },
     "execution_count": 287,
     "metadata": {},
     "output_type": "execute_result"
    }
   ],
   "source": [
    "y"
   ]
  },
  {
   "cell_type": "code",
   "execution_count": 285,
   "metadata": {
    "collapsed": true
   },
   "outputs": [],
   "source": [
    "submission = pd.DataFrame({'customer_id':test['customer_id'],'pr_y':y})"
   ]
  },
  {
   "cell_type": "code",
   "execution_count": 288,
   "metadata": {
    "collapsed": true
   },
   "outputs": [],
   "source": [
    "submission.to_csv(\"Joel_predictions.csv\", index = False)"
   ]
  }
 ],
 "metadata": {
  "anaconda-cloud": {},
  "kernelspec": {
   "display_name": "Python [conda root]",
   "language": "python",
   "name": "conda-root-py"
  },
  "language_info": {
   "codemirror_mode": {
    "name": "ipython",
    "version": 2
   },
   "file_extension": ".py",
   "mimetype": "text/x-python",
   "name": "python",
   "nbconvert_exporter": "python",
   "pygments_lexer": "ipython2",
   "version": "2.7.12"
  }
 },
 "nbformat": 4,
 "nbformat_minor": 1
}
